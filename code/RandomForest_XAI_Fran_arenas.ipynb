{
  "nbformat": 4,
  "nbformat_minor": 0,
  "metadata": {
    "colab": {
      "name": "RandomForest_XAI_Fran_arenas.ipynb",
      "provenance": [],
      "toc_visible": true,
      "include_colab_link": true
    },
    "kernelspec": {
      "name": "python3",
      "display_name": "Python 3"
    }
  },
  "cells": [
    {
      "cell_type": "markdown",
      "metadata": {
        "id": "view-in-github",
        "colab_type": "text"
      },
      "source": [
        "<a href=\"https://colab.research.google.com/github/FranArenas/RandomForest_XAI_Alumne_colaborador/blob/main/RandomForest_XAI_Fran_arenas.ipynb\" target=\"_parent\"><img src=\"https://colab.research.google.com/assets/colab-badge.svg\" alt=\"Open In Colab\"/></a>"
      ]
    },
    {
      "cell_type": "markdown",
      "metadata": {
        "id": "IsdCIzeVV92m"
      },
      "source": [
        "# Imports"
      ]
    },
    {
      "cell_type": "code",
      "metadata": {
        "id": "nV6I-kR7Q7hI",
        "colab": {
          "base_uri": "https://localhost:8080/"
        },
        "outputId": "09e12541-2a6d-4a00-f24f-c0a8a9f03237"
      },
      "source": [
        "import pandas as pd\r\n",
        "import numpy as np\r\n",
        "import plotly.express as px\r\n",
        "import seaborn as sns\r\n",
        "import matplotlib.pyplot as plt\r\n",
        "\r\n",
        "#Tree interpreter\r\n",
        "!pip install treeinterpreter"
      ],
      "execution_count": null,
      "outputs": [
        {
          "output_type": "stream",
          "text": [
            "Requirement already satisfied: treeinterpreter in /usr/local/lib/python3.6/dist-packages (0.2.3)\n"
          ],
          "name": "stdout"
        }
      ]
    },
    {
      "cell_type": "markdown",
      "metadata": {
        "id": "fcu1jeIhV5y3"
      },
      "source": [
        "# Data loading"
      ]
    },
    {
      "cell_type": "code",
      "metadata": {
        "id": "t514_ndUV0Wk",
        "colab": {
          "base_uri": "https://localhost:8080/",
          "height": 204
        },
        "outputId": "f0dcd736-7937-49a3-d875-f9995d42e89b"
      },
      "source": [
        "df = pd.read_csv(\"/content/drive/MyDrive/Colab Notebooks/Alumno colaborador/Data/insurance.csv\")\r\n",
        "df.head()"
      ],
      "execution_count": null,
      "outputs": [
        {
          "output_type": "execute_result",
          "data": {
            "text/html": [
              "<div>\n",
              "<style scoped>\n",
              "    .dataframe tbody tr th:only-of-type {\n",
              "        vertical-align: middle;\n",
              "    }\n",
              "\n",
              "    .dataframe tbody tr th {\n",
              "        vertical-align: top;\n",
              "    }\n",
              "\n",
              "    .dataframe thead th {\n",
              "        text-align: right;\n",
              "    }\n",
              "</style>\n",
              "<table border=\"1\" class=\"dataframe\">\n",
              "  <thead>\n",
              "    <tr style=\"text-align: right;\">\n",
              "      <th></th>\n",
              "      <th>age</th>\n",
              "      <th>sex</th>\n",
              "      <th>bmi</th>\n",
              "      <th>children</th>\n",
              "      <th>smoker</th>\n",
              "      <th>region</th>\n",
              "      <th>charges</th>\n",
              "    </tr>\n",
              "  </thead>\n",
              "  <tbody>\n",
              "    <tr>\n",
              "      <th>0</th>\n",
              "      <td>19</td>\n",
              "      <td>female</td>\n",
              "      <td>27.900</td>\n",
              "      <td>0</td>\n",
              "      <td>yes</td>\n",
              "      <td>southwest</td>\n",
              "      <td>16884.92400</td>\n",
              "    </tr>\n",
              "    <tr>\n",
              "      <th>1</th>\n",
              "      <td>18</td>\n",
              "      <td>male</td>\n",
              "      <td>33.770</td>\n",
              "      <td>1</td>\n",
              "      <td>no</td>\n",
              "      <td>southeast</td>\n",
              "      <td>1725.55230</td>\n",
              "    </tr>\n",
              "    <tr>\n",
              "      <th>2</th>\n",
              "      <td>28</td>\n",
              "      <td>male</td>\n",
              "      <td>33.000</td>\n",
              "      <td>3</td>\n",
              "      <td>no</td>\n",
              "      <td>southeast</td>\n",
              "      <td>4449.46200</td>\n",
              "    </tr>\n",
              "    <tr>\n",
              "      <th>3</th>\n",
              "      <td>33</td>\n",
              "      <td>male</td>\n",
              "      <td>22.705</td>\n",
              "      <td>0</td>\n",
              "      <td>no</td>\n",
              "      <td>northwest</td>\n",
              "      <td>21984.47061</td>\n",
              "    </tr>\n",
              "    <tr>\n",
              "      <th>4</th>\n",
              "      <td>32</td>\n",
              "      <td>male</td>\n",
              "      <td>28.880</td>\n",
              "      <td>0</td>\n",
              "      <td>no</td>\n",
              "      <td>northwest</td>\n",
              "      <td>3866.85520</td>\n",
              "    </tr>\n",
              "  </tbody>\n",
              "</table>\n",
              "</div>"
            ],
            "text/plain": [
              "   age     sex     bmi  children smoker     region      charges\n",
              "0   19  female  27.900         0    yes  southwest  16884.92400\n",
              "1   18    male  33.770         1     no  southeast   1725.55230\n",
              "2   28    male  33.000         3     no  southeast   4449.46200\n",
              "3   33    male  22.705         0     no  northwest  21984.47061\n",
              "4   32    male  28.880         0     no  northwest   3866.85520"
            ]
          },
          "metadata": {
            "tags": []
          },
          "execution_count": 254
        }
      ]
    },
    {
      "cell_type": "markdown",
      "metadata": {
        "id": "GuzeUqQNWGxR"
      },
      "source": [
        "# EDA"
      ]
    },
    {
      "cell_type": "markdown",
      "metadata": {
        "id": "YOecFi6bWJyA"
      },
      "source": [
        "## Información básica"
      ]
    },
    {
      "cell_type": "markdown",
      "metadata": {
        "id": "8g7C7YpYZBA6"
      },
      "source": [
        "### shape"
      ]
    },
    {
      "cell_type": "code",
      "metadata": {
        "colab": {
          "base_uri": "https://localhost:8080/"
        },
        "id": "9r_K9A4mWLTJ",
        "outputId": "cf27efbc-c676-48d3-969e-eb7907de0966"
      },
      "source": [
        "df.shape"
      ],
      "execution_count": null,
      "outputs": [
        {
          "output_type": "execute_result",
          "data": {
            "text/plain": [
              "(1338, 7)"
            ]
          },
          "metadata": {
            "tags": []
          },
          "execution_count": 255
        }
      ]
    },
    {
      "cell_type": "markdown",
      "metadata": {
        "id": "G7LCLlJkZCxr"
      },
      "source": [
        "### Nulls"
      ]
    },
    {
      "cell_type": "code",
      "metadata": {
        "colab": {
          "base_uri": "https://localhost:8080/"
        },
        "id": "nAgjDrtmWH2e",
        "outputId": "0f4743a3-fc3e-438a-8cd2-82b53a4add63"
      },
      "source": [
        "df.isna().sum()"
      ],
      "execution_count": null,
      "outputs": [
        {
          "output_type": "execute_result",
          "data": {
            "text/plain": [
              "age         0\n",
              "sex         0\n",
              "bmi         0\n",
              "children    0\n",
              "smoker      0\n",
              "region      0\n",
              "charges     0\n",
              "dtype: int64"
            ]
          },
          "metadata": {
            "tags": []
          },
          "execution_count": 256
        }
      ]
    },
    {
      "cell_type": "markdown",
      "metadata": {
        "id": "zLV-YEfjXQZQ"
      },
      "source": [
        "There are not NaN values on the dataset"
      ]
    },
    {
      "cell_type": "markdown",
      "metadata": {
        "id": "S8_NP7PNZFvN"
      },
      "source": [
        "### Número de valores"
      ]
    },
    {
      "cell_type": "code",
      "metadata": {
        "colab": {
          "base_uri": "https://localhost:8080/"
        },
        "id": "SdVZPc9bXYRt",
        "outputId": "f318c637-e016-4496-a204-cd6e262800ed"
      },
      "source": [
        "df.nunique()"
      ],
      "execution_count": null,
      "outputs": [
        {
          "output_type": "execute_result",
          "data": {
            "text/plain": [
              "age           47\n",
              "sex            2\n",
              "bmi          548\n",
              "children       6\n",
              "smoker         2\n",
              "region         4\n",
              "charges     1337\n",
              "dtype: int64"
            ]
          },
          "metadata": {
            "tags": []
          },
          "execution_count": 257
        }
      ]
    },
    {
      "cell_type": "markdown",
      "metadata": {
        "id": "Cc1W_TUWXn1L"
      },
      "source": [
        "\r\n",
        "\r\n",
        "- Sex y smokers son valores binarios\r\n",
        "- Region tiene cuatro posibles valores"
      ]
    },
    {
      "cell_type": "code",
      "metadata": {
        "colab": {
          "base_uri": "https://localhost:8080/"
        },
        "id": "UwfRLKQJXjf7",
        "outputId": "23adae42-4d2f-4fa6-939b-ef5973dcb9ec"
      },
      "source": [
        "df['sex'].value_counts"
      ],
      "execution_count": null,
      "outputs": [
        {
          "output_type": "execute_result",
          "data": {
            "text/plain": [
              "<bound method IndexOpsMixin.value_counts of 0       female\n",
              "1         male\n",
              "2         male\n",
              "3         male\n",
              "4         male\n",
              "         ...  \n",
              "1333      male\n",
              "1334    female\n",
              "1335    female\n",
              "1336    female\n",
              "1337    female\n",
              "Name: sex, Length: 1338, dtype: object>"
            ]
          },
          "metadata": {
            "tags": []
          },
          "execution_count": 258
        }
      ]
    },
    {
      "cell_type": "code",
      "metadata": {
        "colab": {
          "base_uri": "https://localhost:8080/"
        },
        "id": "wBRql2FSYS9-",
        "outputId": "176419fd-9682-4b3e-cade-495972c04400"
      },
      "source": [
        "df['smoker'].value_counts()"
      ],
      "execution_count": null,
      "outputs": [
        {
          "output_type": "execute_result",
          "data": {
            "text/plain": [
              "no     1064\n",
              "yes     274\n",
              "Name: smoker, dtype: int64"
            ]
          },
          "metadata": {
            "tags": []
          },
          "execution_count": 259
        }
      ]
    },
    {
      "cell_type": "code",
      "metadata": {
        "colab": {
          "base_uri": "https://localhost:8080/"
        },
        "id": "VKveoo6hZsMS",
        "outputId": "65c255a6-68c6-43b1-d11b-1628692bdc93"
      },
      "source": [
        "df['region'].value_counts()"
      ],
      "execution_count": null,
      "outputs": [
        {
          "output_type": "execute_result",
          "data": {
            "text/plain": [
              "southeast    364\n",
              "northwest    325\n",
              "southwest    325\n",
              "northeast    324\n",
              "Name: region, dtype: int64"
            ]
          },
          "metadata": {
            "tags": []
          },
          "execution_count": 260
        }
      ]
    },
    {
      "cell_type": "markdown",
      "metadata": {
        "id": "mU8qNx8va7Y8"
      },
      "source": [
        "- Hay significativamente más no fumadores que fumadores"
      ]
    },
    {
      "cell_type": "markdown",
      "metadata": {
        "id": "doECBwhvbNHw"
      },
      "source": [
        "## Analisis"
      ]
    },
    {
      "cell_type": "code",
      "metadata": {
        "id": "n65h5hGDlDjt"
      },
      "source": [
        "df_cat = df.copy()"
      ],
      "execution_count": null,
      "outputs": []
    },
    {
      "cell_type": "markdown",
      "metadata": {
        "id": "5sMg04nxbRxd"
      },
      "source": [
        "Primeramente categorizamos nuestros datos para un EDA más cómodo. Como no hay muchas varaibles he decidido mapearlas manualmente"
      ]
    },
    {
      "cell_type": "code",
      "metadata": {
        "id": "VR7zWm0RbOYa"
      },
      "source": [
        "replace_values = {'sex' : {'male': 0, 'female' : 1},\r\n",
        "                  'smoker': {'no' : 0, 'yes' : 1},\r\n",
        "                  'region' : {'southeast': 0, 'northwest' : 1, 'southwest' : 2, 'northeast' : 3}}\r\n",
        "\r\n",
        "df_cat = df_cat.replace(replace_values)"
      ],
      "execution_count": null,
      "outputs": []
    },
    {
      "cell_type": "markdown",
      "metadata": {
        "id": "VKjDfM_tmG_b"
      },
      "source": [
        "### Correlation matrix"
      ]
    },
    {
      "cell_type": "code",
      "metadata": {
        "colab": {
          "base_uri": "https://localhost:8080/",
          "height": 613
        },
        "id": "4I8mWjItlXGf",
        "outputId": "1718c5e9-a373-4b39-9777-92c14b40ec6c"
      },
      "source": [
        "plt.subplots(figsize=(10,10))\r\n",
        "sns.heatmap(df_cat.corr(), cmap='coolwarm',annot=True)"
      ],
      "execution_count": null,
      "outputs": [
        {
          "output_type": "execute_result",
          "data": {
            "text/plain": [
              "<matplotlib.axes._subplots.AxesSubplot at 0x7fe907e67fd0>"
            ]
          },
          "metadata": {
            "tags": []
          },
          "execution_count": 263
        },
        {
          "output_type": "display_data",
          "data": {
            "image/png": "[encoded data removed]",
            "text/plain": [
              "<Figure size 720x720 with 2 Axes>"
            ]
          },
          "metadata": {
            "tags": [],
            "needs_background": "light"
          }
        }
      ]
    },
    {
      "cell_type": "markdown",
      "metadata": {
        "id": "c4V-WmPpmWl8"
      },
      "source": [
        "- Podemos ver una fuerte correlación entre la variable objetivo (charges) y la columna smoker"
      ]
    },
    {
      "cell_type": "markdown",
      "metadata": {
        "id": "BhE-_axpfwiP"
      },
      "source": [
        "### Algunas gráficas"
      ]
    },
    {
      "cell_type": "markdown",
      "metadata": {
        "id": "ZzU311T0_1f9"
      },
      "source": [
        "### Charges boxplot"
      ]
    },
    {
      "cell_type": "code",
      "metadata": {
        "colab": {
          "base_uri": "https://localhost:8080/",
          "height": 542
        },
        "id": "ySh-Xe2v_51H",
        "outputId": "8de72335-d77f-4e4d-ff23-bbb8ffffee92"
      },
      "source": [
        "fig = px.box(df_cat, y = 'charges')\r\n",
        "fig.show()"
      ],
      "execution_count": null,
      "outputs": [
        {
          "output_type": "display_data",
          "data": {
            "text/html": [
              "<html>\n",
              "<head><meta charset=\"utf-8\" /></head>\n",
              "<body>\n",
              "    <div>\n",
              "            <script src=\"https://cdnjs.cloudflare.com/ajax/libs/mathjax/2.7.5/MathJax.js?config=TeX-AMS-MML_SVG\"></script><script type=\"text/javascript\">if (window.MathJax) {MathJax.Hub.Config({SVG: {font: \"STIX-Web\"}});}</script>\n",
              "                <script type=\"text/javascript\">window.PlotlyConfig = {MathJaxConfig: 'local'};</script>\n",
              "        <script src=\"https://cdn.plot.ly/plotly-latest.min.js\"></script>    \n",
              "            <div id=\"c4e3cc74-feea-4d66-8254-2555286d56d2\" class=\"plotly-graph-div\" style=\"height:525px; width:100%;\"></div>\n",
              "            <script type=\"text/javascript\">\n",
              "                \n",
              "                    window.PLOTLYENV=window.PLOTLYENV || {};\n",
              "                    \n",
              "                if (document.getElementById(\"c4e3cc74-feea-4d66-8254-2555286d56d2\")) {\n",
              "                    Plotly.newPlot(\n",
              "                        'c4e3cc74-feea-4d66-8254-2555286d56d2',\n",
              "                        [{\"alignmentgroup\": \"True\", \"hoverlabel\": {\"namelength\": 0}, \"hovertemplate\": \"charges=%{y}\", \"legendgroup\": \"\", \"marker\": {\"color\": \"#636efa\"}, \"name\": \"\", \"notched\": false, \"offsetgroup\": \"\", \"orientation\": \"v\", \"showlegend\": false, \"type\": \"box\", \"x0\": \" \", \"xaxis\": \"x\", \"y\": [16884.924, 1725.5523, 4449.462, 21984.47061, 3866.8552, 3756.6216, 8240.5896, 7281.5056, 6406.4107, 28923.136919999997, 2721.3208, 27808.7251, 1826.8429999999998, 11090.7178, 39611.7577, 1837.237, 10797.3362, 2395.17155, 10602.385, 36837.467000000004, 13228.84695, 4149.736, 1137.011, 37701.8768, 6203.90175, 14001.1338, 14451.83515, 12268.63225, 2775.19215, 38711.0, 35585.576, 2198.18985, 4687.7970000000005, 13770.0979, 51194.55914, 1625.43375, 15612.19335, 2302.3, 39774.2763, 48173.361, 3046.062, 4949.7587, 6272.4772, 6313.759, 6079.6715, 20630.28351, 3393.35635, 3556.9223, 12629.8967, 38709.176, 2211.13075, 3579.8287, 23568.272, 37742.5757, 8059.6791, 47496.49445, 13607.36875, 34303.1672, 23244.7902, 5989.52365, 8606.2174, 4504.6624, 30166.618169999998, 4133.64165, 14711.7438, 1743.214, 14235.072, 6389.37785, 5920.1041, 17663.1442, 16577.7795, 6799.4580000000005, 11741.726, 11946.6259, 7726.854, 11356.6609, 3947.4131, 1532.4697, 2755.02095, 6571.02435, 4441.21315, 7935.29115, 37165.1638, 11033.6617, 39836.519, 21098.55405, 43578.9394, 11073.176000000001, 8026.6666, 11082.5772, 2026.9741, 10942.13205, 30184.9367, 5729.0053, 47291.055, 3766.8838, 12105.32, 10226.2842, 22412.6485, 15820.698999999999, 6186.1269999999995, 3645.0894, 21344.8467, 30942.1918, 5003.853, 17560.37975, 2331.519, 3877.30425, 2867.1196, 47055.5321, 10825.2537, 11881.358, 4646.759, 2404.7338, 11488.31695, 30259.995560000003, 11381.3254, 19107.7796, 8601.3293, 6686.4313, 7740.3369999999995, 1705.6245, 2257.47525, 39556.4945, 10115.00885, 3385.39915, 17081.08, 9634.538, 32734.1863, 6082.405, 12815.44495, 13616.3586, 11163.568000000001, 1632.56445, 2457.21115, 2155.6815, 1261.442, 2045.68525, 27322.733860000004, 2166.732, 27375.90478, 3490.5491, 18972.495, 18157.876, 20745.9891, 5138.2567, 40720.55105, 9877.6077, 10959.6947, 1842.519, 5125.2157, 7789.635, 6334.34355, 19964.7463, 7077.1894, 6948.7008, 21223.6758, 15518.18025, 36950.2567, 19749.383380000003, 21348.706000000002, 36149.4835, 10450.552, 5152.134, 5028.1466, 10407.08585, 4830.63, 6128.79745, 2719.27975, 4827.90495, 13405.3903, 8116.68, 1694.7964, 5246.047, 2855.43755, 48824.45, 6455.86265, 10436.096, 8823.279, 8538.28845, 11735.87905, 1631.8212, 4005.4225, 7419.4779, 7731.4271, 43753.33705, 3981.9768, 5325.651, 6775.960999999999, 4922.9159, 12557.6053, 4883.866, 2137.6536, 12044.341999999999, 1137.4697, 1639.5631, 5649.715, 8516.829, 9644.2525, 14901.5167, 2130.6759, 8871.1517, 13012.20865, 37133.8982, 7147.105, 4337.7352, 11743.298999999999, 20984.0936, 13880.948999999999, 6610.1097, 1980.07, 8162.71625, 3537.703, 5002.7827, 8520.026, 7371.772, 10355.641, 2483.736, 3392.9768, 25081.76784, 5012.471, 10564.8845, 5253.524, 34779.615, 19515.5416, 11987.1682, 2689.4954, 24227.33724, 7358.17565, 9225.2564, 7443.64305, 14001.2867, 1727.785, 12333.828000000001, 6710.1919, 19444.2658, 1615.7667, 4463.2051, 17352.6803, 7152.6714, 38511.6283, 5354.07465, 35160.13457, 7196.866999999999, 29523.1656, 24476.47851, 12648.7034, 1986.9334, 1832.094, 4040.55825, 12829.4551, 47305.305, 44260.7499, 4260.744000000001, 41097.16175, 13047.33235, 43921.1837, 5400.9805, 11520.09985, 33750.2918, 11837.16, 17085.2676, 24869.8368, 36219.40545, 20462.99766, 46151.1245, 17179.522, 14590.63205, 7441.053000000001, 9282.4806, 1719.4363, 42856.837999999996, 7265.7025, 9617.66245, 2523.1695, 9715.841, 2803.69785, 2150.469, 12928.7911, 9855.1314, 22331.5668, 48549.17835, 4237.12655, 11879.10405, 9625.92, 7742.1098, 9432.9253, 14256.1928, 47896.79135, 25992.82104, 3172.018, 20277.80751, 42112.2356, 2156.7518, 3906.127, 1704.5681, 16297.846000000001, 21978.6769, 38746.3551, 9249.4952, 6746.7425, 24873.3849, 12265.5069, 4349.462, 12646.207, 19442.3535, 20177.671130000002, 4151.0287, 11944.59435, 7749.1564, 8444.474, 1737.376, 42124.5153, 8124.4084, 34838.873, 9722.7695, 8835.26495, 10435.06525, 7421.19455, 4667.60765, 4894.7533, 24671.66334, 35491.64, 11566.30055, 2866.091, 6600.20595, 3561.8889, 42760.5022, 47928.03, 9144.565, 48517.56315, 24393.6224, 13429.0354, 11658.37915, 19144.57652, 13822.803, 12142.5786, 13937.6665, 41919.097, 8232.6388, 18955.22017, 13352.0998, 13217.0945, 13981.85035, 10977.2063, 6184.2994, 4889.9995, 8334.45755, 5478.0368, 1635.73365, 11830.6072, 8932.084, 3554.203, 12404.8791, 14133.03775, 24603.04837, 8944.1151, 9620.3307, 1837.2819, 1607.5101, 10043.249, 4751.07, 13844.506000000001, 2597.779, 3180.5101, 9778.3472, 13430.265, 8017.06115, 8116.26885, 3481.868, 13415.0381, 12029.2867, 7639.41745, 36085.219, 1391.5287, 18033.9679, 21659.9301, 38126.2465, 16455.70785, 27000.98473, 15006.57945, 42303.69215, 20781.48892, 5846.9176, 8302.53565, 1261.859, 11856.4115, 30284.642939999998, 3176.8159, 4618.0799, 10736.87075, 2138.0707, 8964.06055, 9290.1395, 9411.005, 7526.70645, 8522.003, 16586.49771, 14988.431999999999, 1631.6683, 9264.796999999999, 8083.9198, 14692.66935, 10269.46, 3260.199, 11396.9002, 4185.0979, 8539.671, 6652.5288, 4074.4537, 1621.3402, 19594.80965, 14455.64405, 5080.096, 2134.9015, 7345.7266, 9140.951, 18608.262, 14418.2804, 28950.4692, 46889.2612, 46599.1084, 39125.33225, 2727.3951, 8968.33, 9788.8659, 6555.07035, 7323.734818999999, 3167.45585, 18804.7524, 23082.95533, 4906.40965, 5969.723000000001, 12638.195, 4243.59005, 13919.8229, 2254.7967, 5926.846, 12592.5345, 2897.3235, 4738.2682, 37079.372, 1149.3959, 28287.897660000002, 26109.32905, 7345.084, 12730.9996, 11454.0215, 5910.944, 4762.329000000001, 7512.267, 4032.2407, 1969.614, 1769.53165, 4686.3887, 21797.0004, 11881.9696, 11840.77505, 10601.412, 7682.67, 10381.4787, 22144.032000000003, 15230.32405, 11165.41765, 1632.03625, 19521.9682, 13224.693000000001, 12643.3778, 23288.9284, 2201.0971, 2497.0383, 2203.47185, 1744.465, 20878.78443, 25382.297000000002, 28868.6639, 35147.52848, 2534.39375, 1534.3045, 1824.2854, 15555.18875, 9304.7019, 1622.1885, 9880.068000000001, 9563.029, 4347.02335, 12475.3513, 1253.9360000000001, 48885.135610000005, 10461.9794, 1748.774, 24513.09126, 2196.4732, 12574.048999999999, 17942.106, 1967.0227, 4931.647, 8027.968000000001, 8211.1002, 13470.86, 36197.699, 6837.3687, 22218.1149, 32548.3405, 5974.3847, 6796.86325, 2643.2685, 3077.0955, 3044.2133, 11455.28, 11763.0009, 2498.4144, 9361.3268, 1256.299, 21082.16, 11362.755, 27724.28875, 8413.46305, 5240.765, 3857.75925, 25656.575259999998, 3994.1778, 9866.30485, 5397.6167, 38245.59327, 11482.63485, 24059.68019, 9861.025, 8342.90875, 1708.0014, 48675.5177, 14043.4767, 12925.886, 19214.705530000003, 13831.1152, 6067.12675, 5972.378000000001, 8825.086, 8233.0975, 27346.04207, 6196.448, 3056.3881, 13887.204, 63770.42801, 10231.4999, 23807.2406, 3268.84665, 11538.421, 3213.62205, 45863.205, 13390.559, 3972.9247, 12957.118, 11187.6567, 17878.900680000002, 3847.6740000000004, 8334.5896, 3935.1799, 39983.42595, 1646.4297, 9193.8385, 10923.9332, 2494.022, 9058.7303, 2801.2588, 2128.43105, 6373.55735, 7256.7231, 11552.903999999999, 45702.02235, 3761.292, 2219.4451, 4753.6368, 31620.001060000002, 13224.05705, 12222.8983, 1664.9996, 58571.074479999996, 9724.53, 3206.49135, 12913.9924, 1639.5631, 6356.2707, 17626.23951, 1242.816, 4779.6023, 3861.20965, 43943.8761, 13635.6379, 5976.8311, 11842.442, 8428.0693, 2566.4707, 15359.1045, 5709.1644, 8823.98575, 7640.3092, 5594.8455, 7441.501, 33471.97189, 1633.0444, 9174.13565, 11070.535, 16085.1275, 17468.9839, 9283.562, 3558.62025, 25678.77845, 4435.0942, 39241.442, 8547.6913, 6571.544, 2207.69745, 6753.0380000000005, 1880.07, 42969.8527, 11658.11505, 23306.547000000002, 34439.8559, 10713.643999999998, 3659.3459999999995, 40182.246, 9182.17, 34617.84065, 12129.61415, 3736.4647, 6748.5912, 11326.71487, 11365.952, 42983.4585, 10085.846, 1977.815, 3366.6697, 7173.35995, 9391.346, 14410.9321, 2709.1119, 24915.04626, 20149.3229, 12949.1554, 6666.243, 32787.458589999995, 13143.86485, 4466.6214, 18806.14547, 10141.1362, 6123.5688, 8252.2843, 1712.227, 12430.95335, 9800.8882, 10579.711000000001, 8280.6227, 8527.532, 12244.531, 24667.418999999998, 3410.324, 4058.71245, 26392.260290000002, 14394.39815, 6435.6237, 22192.43711, 5148.5526, 1136.3994, 27037.9141, 42560.4304, 8703.456, 40003.33225, 45710.20785, 6500.2359, 4837.5823, 3943.5954, 4399.731, 6185.3208, 46200.9851, 7222.78625, 12485.8009, 46130.5265, 12363.546999999999, 10156.7832, 2585.269, 1242.26, 40103.89, 9863.4718, 4766.022, 11244.3769, 7729.64575, 5438.7491, 26236.57997, 34806.4677, 2104.1134, 8068.185, 2362.22905, 2352.96845, 3577.9990000000003, 3201.24515, 29186.48236, 40273.6455, 10976.24575, 3500.6123, 2020.5523, 9541.69555, 9504.3103, 5385.3379, 8930.93455, 5375.0380000000005, 44400.4064, 10264.4421, 6113.23105, 5469.0066, 1727.54, 10107.2206, 8310.83915, 1984.4533, 2457.502, 12146.971000000001, 9566.9909, 13112.6048, 10848.1343, 12231.6136, 9875.6804, 11264.541000000001, 12979.358, 1263.249, 10106.13425, 40932.4295, 6664.68595, 16657.71745, 2217.6012, 6781.3542, 19361.9988, 10065.413, 4234.927, 9447.25035, 14007.222, 9583.8933, 40419.0191, 3484.3309999999997, 36189.1017, 44585.45587, 8604.48365, 18246.4955, 43254.41795, 3757.8448, 8827.2099, 9910.35985, 11737.84884, 1627.28245, 8556.907, 3062.50825, 19539.243000000002, 1906.35825, 14210.53595, 11833.7823, 17128.42608, 5031.26955, 7985.815, 23065.4207, 5428.7277, 36307.7983, 3925.7582, 2416.955, 19040.876, 3070.8087, 9095.06825, 11842.62375, 8062.764, 7050.642, 14319.031, 6933.24225, 27941.28758, 11150.78, 12797.20962, 17748.5062, 7261.741, 10560.4917, 6986.696999999999, 7448.40395, 5934.3798, 9869.8102, 18259.216, 1146.7966, 9386.1613, 24520.264, 4350.5144, 6414.178000000001, 12741.16745, 1917.3184, 5209.57885, 13457.9608, 5662.225, 1252.407, 2731.9122, 21195.818, 7209.4918, 18310.742, 4266.1658, 4719.52405, 11848.141000000001, 17904.52705, 7046.7222, 14313.8463, 2103.08, 38792.6856, 1815.8759, 7731.85785, 28476.734989999997, 2136.88225, 1131.5066, 3309.7926, 9414.92, 6360.9936, 11013.7119, 4428.88785, 5584.3057, 1877.9294, 2842.76075, 3597.5959999999995, 23401.30575, 55135.402089999996, 7445.918000000001, 2680.9493, 1621.8827, 8219.2039, 12523.6048, 16069.08475, 43813.8661, 20773.62775, 39597.4072, 6117.4945, 13393.756000000001, 5266.3656, 4719.73655, 11743.9341, 5377.4578, 7160.3303, 4402.233, 11657.7189, 6402.29135, 12622.1795, 1526.3120000000001, 12323.936000000002, 36021.0112, 27533.9129, 10072.05505, 45008.9555, 9872.701, 2438.0552, 2974.1259999999997, 10601.63225, 37270.1512, 14119.62, 42111.6647, 11729.6795, 24106.91255, 1875.344, 40974.1649, 15817.9857, 18218.16139, 10965.446000000002, 46113.511, 7151.092, 12269.68865, 5458.04645, 8782.469000000001, 6600.361, 1141.4451, 11576.13, 13129.60345, 4391.652, 8457.818000000001, 3392.3652, 5966.8874, 6849.026, 8891.1395, 2690.1138, 26140.3603, 6653.7886, 6282.235, 6311.951999999999, 3443.0640000000003, 2789.0574, 2585.85065, 46255.1125, 4877.98105, 19719.6947, 27218.43725, 5272.1758, 1682.5970000000002, 11945.1327, 29330.98315, 7243.8136, 10422.91665, 44202.6536, 13555.0049, 13063.883, 19798.05455, 2221.56445, 1634.5734, 2117.33885, 8688.85885, 48673.5588, 4661.28635, 8125.7845, 12644.589, 4564.19145, 4846.92015, 7633.7206, 15170.069, 17496.306, 2639.0429, 33732.6867, 14382.70905, 7626.993, 5257.50795, 2473.3341, 21774.32215, 35069.37452, 13041.921, 5245.2269, 13451.122, 13462.52, 5488.262, 4320.41085, 6250.435, 25333.33284, 2913.5690000000004, 12032.326000000001, 13470.8044, 6289.7549, 2927.0647, 6238.298000000001, 10096.97, 7348.142, 4673.3922, 12233.828000000001, 32108.662819999998, 8965.79575, 2304.0022, 9487.6442, 1121.8739, 9549.5651, 2217.46915, 1628.4709, 12982.8747, 11674.13, 7160.094, 39047.285, 6358.77645, 19933.458, 11534.87265, 47462.894, 4527.18295, 38998.546, 20009.63365, 3875.7341, 41999.52, 12609.88702, 41034.2214, 28468.91901, 2730.10785, 3353.284, 14474.675, 9500.57305, 26467.09737, 4746.344, 23967.38305, 7518.02535, 3279.86855, 8596.8278, 10702.6424, 4992.3764, 2527.81865, 1759.338, 2322.6218, 16138.76205, 7804.1605, 2902.9065, 9704.66805, 4889.0368, 25517.11363, 4500.33925, 19199.944, 16796.41194, 4915.05985, 7624.63, 8410.04685, 28340.18885, 4518.82625, 14571.8908, 3378.91, 7144.86265, 10118.424, 5484.4673, 16420.49455, 7986.47525, 7418.522, 13887.9685, 6551.7501, 5267.81815, 17361.7661, 34472.841, 1972.95, 21232.182259999998, 8627.5411, 4433.3877, 4438.2634, 24915.22085, 23241.47453, 9957.7216, 8269.044, 18767.7377, 36580.28216, 8765.249, 5383.536, 12124.9924, 2709.24395, 3987.926, 12495.29085, 26018.95052, 8798.593, 35595.5898, 42211.1382, 1711.0268, 8569.8618, 2020.1770000000001, 16450.8947, 21595.38229, 9850.431999999999, 6877.9801, 21677.28345, 44423.803, 4137.5227, 13747.87235, 12950.0712, 12094.478000000001, 37484.4493, 39725.51805, 2250.8352, 22493.65964, 20234.85475, 1704.70015, 33475.81715, 3161.454, 11394.06555, 21880.82, 7325.0482, 44501.3982, 3594.17085, 39727.614, 8023.13545, 14394.5579, 9288.0267, 25309.488999999998, 3353.4703, 10594.50155, 8277.523000000001, 17929.303369999998, 2480.9791, 4462.7218, 1981.5819, 11554.2236, 48970.2476, 6548.19505, 5708.866999999999, 7045.499, 8978.1851, 5757.41345, 14349.8544, 10928.848999999998, 39871.7043, 13974.45555, 1909.52745, 12096.6512, 13204.28565, 4562.8421, 8551.347, 2102.2647, 34672.1472, 15161.5344, 11884.04858, 4454.40265, 5855.9025, 4076.4970000000003, 15019.76005, 19023.26, 10796.35025, 11353.2276, 9748.9106, 10577.087, 41676.0811, 11286.5387, 3591.48, 33907.547999999995, 11299.343, 4561.1885, 44641.1974, 1674.6323, 23045.56616, 3227.1211, 16776.30405, 11253.421, 3471.4096, 11363.2832, 20420.60465, 10338.9316, 8988.15875, 10493.9458, 2904.0879999999997, 8605.3615, 11512.405, 41949.2441, 24180.9335, 5312.16985, 2396.0959, 10807.4863, 9222.4026, 36124.5737, 38282.7495, 5693.4305, 34166.273, 8347.1643, 46661.4424, 18903.49141, 40904.1995, 14254.6082, 10214.636, 5836.5204, 14358.36437, 1728.8970000000002, 8582.3023, 3693.428, 20709.02034, 9991.03765, 19673.335730000003, 11085.5868, 7623.518, 3176.2877, 3704.3545, 36898.73308, 9048.0273, 7954.517, 27117.99378, 6338.0756, 9630.396999999999, 11289.10925, 52590.82939, 2261.5688, 10791.96, 5979.731, 2203.73595, 12235.8392, 40941.2854, 5630.45785, 11015.1747, 7228.21565, 39722.7462, 14426.07385, 2459.7201, 3989.841, 7727.2532, 5124.1887, 18963.171919999997, 2200.83085, 7153.5539, 5227.98875, 10982.5013, 4529.477, 4670.64, 6112.35295, 17178.6824, 22478.6, 11093.6229, 6457.8434, 4433.9159, 2154.361, 23887.6627, 6496.8859999999995, 2899.48935, 19350.3689, 7650.77375, 2850.68375, 2632.992, 9447.3824, 18328.2381, 8603.8234, 37465.34375, 13844.7972, 21771.3423, 13126.67745, 5327.40025, 13725.47184, 13019.16105, 8671.19125, 4134.08245, 18838.70366, 33307.5508, 5699.8375, 6393.60345, 4934.705, 6198.7518, 8733.22925, 2055.3249, 9964.06, 18223.4512, 5116.5004, 36910.60803, 38415.474, 20296.86345, 12347.171999999999, 5373.36425, 23563.016180000002, 1702.4553, 10806.839, 3956.07145, 12890.05765, 5415.6612, 4058.1161, 41661.602, 7537.1639, 4718.20355, 6593.5083, 8442.667, 26125.674769999998, 6858.4796, 4795.6568, 6640.54485, 7162.0122, 10594.2257, 11938.25595, 60021.39897, 20167.336030000002, 12479.70895, 11345.518999999998, 8515.7587, 2699.56835, 14449.8544, 12224.35085, 6985.50695, 3238.4357, 47269.85400000001, 49577.6624, 4296.2712, 3171.6149, 1135.9407, 5615.369000000001, 9101.798, 6059.173000000001, 1633.9618, 37607.5277, 18648.4217, 1241.565, 16232.847, 15828.821730000001, 4415.1588, 6474.013000000001, 11436.73815, 11305.93455, 30063.58055, 10197.7722, 4544.2348, 3277.1609999999996, 6770.1925, 7337.7480000000005, 10370.91255, 26926.5144, 10704.47, 34254.05335, 1880.487, 8615.3, 3292.52985, 3021.80915, 14478.33015, 4747.0529, 17043.3414, 10959.33, 2741.948, 4357.04365, 22462.04375, 4189.1131, 8283.6807, 24535.69855, 14283.4594, 1720.3537, 47403.88, 8534.6718, 3732.6251, 5472.4490000000005, 38344.566, 7147.4728, 7133.9025, 34828.654, 1515.3449, 9301.89355, 11931.12525, 1964.78, 1708.92575, 4340.4409, 5261.46945, 2710.82855, 62592.87309, 46718.16325, 3208.7870000000003, 37829.7242, 21259.37795, 2464.6188, 16115.3045, 21472.4788, 33900.653, 6875.960999999999, 6940.90985, 4571.41305, 4536.259, 36397.576, 18765.87545, 11272.331390000001, 1731.6770000000001, 1163.4627, 19496.71917, 7201.70085, 5425.02335, 28101.33305, 12981.3457, 43896.3763, 4239.89265, 13143.33665, 7050.0213, 9377.9047, 22395.74424, 10325.206, 12629.1656, 10795.937329999999, 11411.685, 10600.5483, 2205.9808, 1629.8335, 2007.945, 29141.3603], \"y0\": \" \", \"yaxis\": \"y\"}],\n",
              "                        {\"boxmode\": \"group\", \"legend\": {\"tracegroupgap\": 0}, \"margin\": {\"t\": 60}, \"template\": {\"data\": {\"bar\": [{\"error_x\": {\"color\": \"#2a3f5f\"}, \"error_y\": {\"color\": \"#2a3f5f\"}, \"marker\": {\"line\": {\"color\": \"#E5ECF6\", \"width\": 0.5}}, \"type\": \"bar\"}], \"barpolar\": [{\"marker\": {\"line\": {\"color\": \"#E5ECF6\", \"width\": 0.5}}, \"type\": \"barpolar\"}], \"carpet\": [{\"aaxis\": {\"endlinecolor\": \"#2a3f5f\", \"gridcolor\": \"white\", \"linecolor\": \"white\", \"minorgridcolor\": \"white\", \"startlinecolor\": \"#2a3f5f\"}, \"baxis\": {\"endlinecolor\": \"#2a3f5f\", \"gridcolor\": \"white\", \"linecolor\": \"white\", \"minorgridcolor\": \"white\", \"startlinecolor\": \"#2a3f5f\"}, \"type\": \"carpet\"}], \"choropleth\": [{\"colorbar\": {\"outlinewidth\": 0, \"ticks\": \"\"}, \"type\": \"choropleth\"}], \"contour\": [{\"colorbar\": {\"outlinewidth\": 0, \"ticks\": \"\"}, \"colorscale\": [[0.0, \"#0d0887\"], [0.1111111111111111, \"#46039f\"], [0.2222222222222222, \"#7201a8\"], [0.3333333333333333, \"#9c179e\"], [0.4444444444444444, \"#bd3786\"], [0.5555555555555556, \"#d8576b\"], [0.6666666666666666, \"#ed7953\"], [0.7777777777777778, \"#fb9f3a\"], [0.8888888888888888, \"#fdca26\"], [1.0, \"#f0f921\"]], \"type\": \"contour\"}], \"contourcarpet\": [{\"colorbar\": {\"outlinewidth\": 0, \"ticks\": \"\"}, \"type\": \"contourcarpet\"}], \"heatmap\": [{\"colorbar\": {\"outlinewidth\": 0, \"ticks\": \"\"}, \"colorscale\": [[0.0, \"#0d0887\"], [0.1111111111111111, \"#46039f\"], [0.2222222222222222, \"#7201a8\"], [0.3333333333333333, \"#9c179e\"], [0.4444444444444444, \"#bd3786\"], [0.5555555555555556, \"#d8576b\"], [0.6666666666666666, \"#ed7953\"], [0.7777777777777778, \"#fb9f3a\"], [0.8888888888888888, \"#fdca26\"], [1.0, \"#f0f921\"]], \"type\": \"heatmap\"}], \"heatmapgl\": [{\"colorbar\": {\"outlinewidth\": 0, \"ticks\": \"\"}, \"colorscale\": [[0.0, \"#0d0887\"], [0.1111111111111111, \"#46039f\"], [0.2222222222222222, \"#7201a8\"], [0.3333333333333333, \"#9c179e\"], [0.4444444444444444, \"#bd3786\"], [0.5555555555555556, \"#d8576b\"], [0.6666666666666666, \"#ed7953\"], [0.7777777777777778, \"#fb9f3a\"], [0.8888888888888888, \"#fdca26\"], [1.0, \"#f0f921\"]], \"type\": \"heatmapgl\"}], \"histogram\": [{\"marker\": {\"colorbar\": {\"outlinewidth\": 0, \"ticks\": \"\"}}, \"type\": \"histogram\"}], \"histogram2d\": [{\"colorbar\": {\"outlinewidth\": 0, \"ticks\": \"\"}, \"colorscale\": [[0.0, \"#0d0887\"], [0.1111111111111111, \"#46039f\"], [0.2222222222222222, \"#7201a8\"], [0.3333333333333333, \"#9c179e\"], [0.4444444444444444, \"#bd3786\"], [0.5555555555555556, \"#d8576b\"], [0.6666666666666666, \"#ed7953\"], [0.7777777777777778, \"#fb9f3a\"], [0.8888888888888888, \"#fdca26\"], [1.0, \"#f0f921\"]], \"type\": \"histogram2d\"}], \"histogram2dcontour\": [{\"colorbar\": {\"outlinewidth\": 0, \"ticks\": \"\"}, \"colorscale\": [[0.0, \"#0d0887\"], [0.1111111111111111, \"#46039f\"], [0.2222222222222222, \"#7201a8\"], [0.3333333333333333, \"#9c179e\"], [0.4444444444444444, \"#bd3786\"], [0.5555555555555556, \"#d8576b\"], [0.6666666666666666, \"#ed7953\"], [0.7777777777777778, \"#fb9f3a\"], [0.8888888888888888, \"#fdca26\"], [1.0, \"#f0f921\"]], \"type\": \"histogram2dcontour\"}], \"mesh3d\": [{\"colorbar\": {\"outlinewidth\": 0, \"ticks\": \"\"}, \"type\": \"mesh3d\"}], \"parcoords\": [{\"line\": {\"colorbar\": {\"outlinewidth\": 0, \"ticks\": \"\"}}, \"type\": \"parcoords\"}], \"pie\": [{\"automargin\": true, \"type\": \"pie\"}], \"scatter\": [{\"marker\": {\"colorbar\": {\"outlinewidth\": 0, \"ticks\": \"\"}}, \"type\": \"scatter\"}], \"scatter3d\": [{\"line\": {\"colorbar\": {\"outlinewidth\": 0, \"ticks\": \"\"}}, \"marker\": {\"colorbar\": {\"outlinewidth\": 0, \"ticks\": \"\"}}, \"type\": \"scatter3d\"}], \"scattercarpet\": [{\"marker\": {\"colorbar\": {\"outlinewidth\": 0, \"ticks\": \"\"}}, \"type\": \"scattercarpet\"}], \"scattergeo\": [{\"marker\": {\"colorbar\": {\"outlinewidth\": 0, \"ticks\": \"\"}}, \"type\": \"scattergeo\"}], \"scattergl\": [{\"marker\": {\"colorbar\": {\"outlinewidth\": 0, \"ticks\": \"\"}}, \"type\": \"scattergl\"}], \"scattermapbox\": [{\"marker\": {\"colorbar\": {\"outlinewidth\": 0, \"ticks\": \"\"}}, \"type\": \"scattermapbox\"}], \"scatterpolar\": [{\"marker\": {\"colorbar\": {\"outlinewidth\": 0, \"ticks\": \"\"}}, \"type\": \"scatterpolar\"}], \"scatterpolargl\": [{\"marker\": {\"colorbar\": {\"outlinewidth\": 0, \"ticks\": \"\"}}, \"type\": \"scatterpolargl\"}], \"scatterternary\": [{\"marker\": {\"colorbar\": {\"outlinewidth\": 0, \"ticks\": \"\"}}, \"type\": \"scatterternary\"}], \"surface\": [{\"colorbar\": {\"outlinewidth\": 0, \"ticks\": \"\"}, \"colorscale\": [[0.0, \"#0d0887\"], [0.1111111111111111, \"#46039f\"], [0.2222222222222222, \"#7201a8\"], [0.3333333333333333, \"#9c179e\"], [0.4444444444444444, \"#bd3786\"], [0.5555555555555556, \"#d8576b\"], [0.6666666666666666, \"#ed7953\"], [0.7777777777777778, \"#fb9f3a\"], [0.8888888888888888, \"#fdca26\"], [1.0, \"#f0f921\"]], \"type\": \"surface\"}], \"table\": [{\"cells\": {\"fill\": {\"color\": \"#EBF0F8\"}, \"line\": {\"color\": \"white\"}}, \"header\": {\"fill\": {\"color\": \"#C8D4E3\"}, \"line\": {\"color\": \"white\"}}, \"type\": \"table\"}]}, \"layout\": {\"annotationdefaults\": {\"arrowcolor\": \"#2a3f5f\", \"arrowhead\": 0, \"arrowwidth\": 1}, \"coloraxis\": {\"colorbar\": {\"outlinewidth\": 0, \"ticks\": \"\"}}, \"colorscale\": {\"diverging\": [[0, \"#8e0152\"], [0.1, \"#c51b7d\"], [0.2, \"#de77ae\"], [0.3, \"#f1b6da\"], [0.4, \"#fde0ef\"], [0.5, \"#f7f7f7\"], [0.6, \"#e6f5d0\"], [0.7, \"#b8e186\"], [0.8, \"#7fbc41\"], [0.9, \"#4d9221\"], [1, \"#276419\"]], \"sequential\": [[0.0, \"#0d0887\"], [0.1111111111111111, \"#46039f\"], [0.2222222222222222, \"#7201a8\"], [0.3333333333333333, \"#9c179e\"], [0.4444444444444444, \"#bd3786\"], [0.5555555555555556, \"#d8576b\"], [0.6666666666666666, \"#ed7953\"], [0.7777777777777778, \"#fb9f3a\"], [0.8888888888888888, \"#fdca26\"], [1.0, \"#f0f921\"]], \"sequentialminus\": [[0.0, \"#0d0887\"], [0.1111111111111111, \"#46039f\"], [0.2222222222222222, \"#7201a8\"], [0.3333333333333333, \"#9c179e\"], [0.4444444444444444, \"#bd3786\"], [0.5555555555555556, \"#d8576b\"], [0.6666666666666666, \"#ed7953\"], [0.7777777777777778, \"#fb9f3a\"], [0.8888888888888888, \"#fdca26\"], [1.0, \"#f0f921\"]]}, \"colorway\": [\"#636efa\", \"#EF553B\", \"#00cc96\", \"#ab63fa\", \"#FFA15A\", \"#19d3f3\", \"#FF6692\", \"#B6E880\", \"#FF97FF\", \"#FECB52\"], \"font\": {\"color\": \"#2a3f5f\"}, \"geo\": {\"bgcolor\": \"white\", \"lakecolor\": \"white\", \"landcolor\": \"#E5ECF6\", \"showlakes\": true, \"showland\": true, \"subunitcolor\": \"white\"}, \"hoverlabel\": {\"align\": \"left\"}, \"hovermode\": \"closest\", \"mapbox\": {\"style\": \"light\"}, \"paper_bgcolor\": \"white\", \"plot_bgcolor\": \"#E5ECF6\", \"polar\": {\"angularaxis\": {\"gridcolor\": \"white\", \"linecolor\": \"white\", \"ticks\": \"\"}, \"bgcolor\": \"#E5ECF6\", \"radialaxis\": {\"gridcolor\": \"white\", \"linecolor\": \"white\", \"ticks\": \"\"}}, \"scene\": {\"xaxis\": {\"backgroundcolor\": \"#E5ECF6\", \"gridcolor\": \"white\", \"gridwidth\": 2, \"linecolor\": \"white\", \"showbackground\": true, \"ticks\": \"\", \"zerolinecolor\": \"white\"}, \"yaxis\": {\"backgroundcolor\": \"#E5ECF6\", \"gridcolor\": \"white\", \"gridwidth\": 2, \"linecolor\": \"white\", \"showbackground\": true, \"ticks\": \"\", \"zerolinecolor\": \"white\"}, \"zaxis\": {\"backgroundcolor\": \"#E5ECF6\", \"gridcolor\": \"white\", \"gridwidth\": 2, \"linecolor\": \"white\", \"showbackground\": true, \"ticks\": \"\", \"zerolinecolor\": \"white\"}}, \"shapedefaults\": {\"line\": {\"color\": \"#2a3f5f\"}}, \"ternary\": {\"aaxis\": {\"gridcolor\": \"white\", \"linecolor\": \"white\", \"ticks\": \"\"}, \"baxis\": {\"gridcolor\": \"white\", \"linecolor\": \"white\", \"ticks\": \"\"}, \"bgcolor\": \"#E5ECF6\", \"caxis\": {\"gridcolor\": \"white\", \"linecolor\": \"white\", \"ticks\": \"\"}}, \"title\": {\"x\": 0.05}, \"xaxis\": {\"automargin\": true, \"gridcolor\": \"white\", \"linecolor\": \"white\", \"ticks\": \"\", \"title\": {\"standoff\": 15}, \"zerolinecolor\": \"white\", \"zerolinewidth\": 2}, \"yaxis\": {\"automargin\": true, \"gridcolor\": \"white\", \"linecolor\": \"white\", \"ticks\": \"\", \"title\": {\"standoff\": 15}, \"zerolinecolor\": \"white\", \"zerolinewidth\": 2}}}, \"xaxis\": {\"anchor\": \"y\", \"domain\": [0.0, 1.0]}, \"yaxis\": {\"anchor\": \"x\", \"domain\": [0.0, 1.0], \"title\": {\"text\": \"charges\"}}},\n",
              "                        {\"responsive\": true}\n",
              "                    ).then(function(){\n",
              "                            \n",
              "var gd = document.getElementById('c4e3cc74-feea-4d66-8254-2555286d56d2');\n",
              "var x = new MutationObserver(function (mutations, observer) {{\n",
              "        var display = window.getComputedStyle(gd).display;\n",
              "        if (!display || display === 'none') {{\n",
              "            console.log([gd, 'removed!']);\n",
              "            Plotly.purge(gd);\n",
              "            observer.disconnect();\n",
              "        }}\n",
              "}});\n",
              "\n",
              "// Listen for the removal of the full notebook cells\n",
              "var notebookContainer = gd.closest('#notebook-container');\n",
              "if (notebookContainer) {{\n",
              "    x.observe(notebookContainer, {childList: true});\n",
              "}}\n",
              "\n",
              "// Listen for the clearing of the current output cell\n",
              "var outputEl = gd.closest('.output');\n",
              "if (outputEl) {{\n",
              "    x.observe(outputEl, {childList: true});\n",
              "}}\n",
              "\n",
              "                        })\n",
              "                };\n",
              "                \n",
              "            </script>\n",
              "        </div>\n",
              "</body>\n",
              "</html>"
            ]
          },
          "metadata": {
            "tags": []
          }
        }
      ]
    },
    {
      "cell_type": "markdown",
      "metadata": {
        "id": "cYRPGYX3AMQu"
      },
      "source": [
        "Vemos que hay unos pocos outliders, en la fase de manipulación de los datos se podría tener en cuenta estos valores para tratarlos de manera que no afecten significativamente al entrenamiento"
      ]
    },
    {
      "cell_type": "markdown",
      "metadata": {
        "id": "dIzfzi6AhW8U"
      },
      "source": [
        "#### Smoker-age-charges"
      ]
    },
    {
      "cell_type": "code",
      "metadata": {
        "id": "7ebrXG1FmPdT",
        "colab": {
          "base_uri": "https://localhost:8080/",
          "height": 542
        },
        "outputId": "77188c64-8aec-4bef-8a3d-62f98ac304b7"
      },
      "source": [
        "fig = px.scatter(df_cat, x = 'charges', y = 'age',  color = 'smoker')\r\n",
        "fig.show()"
      ],
      "execution_count": null,
      "outputs": [
        {
          "output_type": "display_data",
          "data": {
            "text/html": [
              "<html>\n",
              "<head><meta charset=\"utf-8\" /></head>\n",
              "<body>\n",
              "    <div>\n",
              "            <script src=\"https://cdnjs.cloudflare.com/ajax/libs/mathjax/2.7.5/MathJax.js?config=TeX-AMS-MML_SVG\"></script><script type=\"text/javascript\">if (window.MathJax) {MathJax.Hub.Config({SVG: {font: \"STIX-Web\"}});}</script>\n",
              "                <script type=\"text/javascript\">window.PlotlyConfig = {MathJaxConfig: 'local'};</script>\n",
              "        <script src=\"https://cdn.plot.ly/plotly-latest.min.js\"></script>    \n",
              "            <div id=\"bd46e571-64c1-4bd9-abe3-6aa92d4fedc2\" class=\"plotly-graph-div\" style=\"height:525px; width:100%;\"></div>\n",
              "            <script type=\"text/javascript\">\n",
              "                \n",
              "                    window.PLOTLYENV=window.PLOTLYENV || {};\n",
              "                    \n",
              "                if (document.getElementById(\"bd46e571-64c1-4bd9-abe3-6aa92d4fedc2\")) {\n",
              "                    Plotly.newPlot(\n",
              "                        'bd46e571-64c1-4bd9-abe3-6aa92d4fedc2',\n",
              "                        [{\"hoverlabel\": {\"namelength\": 0}, \"hovertemplate\": \"charges=%{x}<br>age=%{y}<br>smoker=%{marker.color}\", \"legendgroup\": \"\", \"marker\": {\"color\": [1, 0, 0, 0, 0, 0, 0, 0, 0, 0, 0, 1, 0, 0, 1, 0, 0, 0, 0, 1, 0, 0, 0, 1, 0, 0, 0, 0, 0, 1, 1, 0, 0, 0, 1, 0, 0, 0, 1, 1, 0, 0, 0, 0, 0, 0, 0, 0, 0, 1, 0, 0, 1, 1, 0, 1, 0, 1, 1, 0, 0, 0, 0, 0, 1, 0, 0, 0, 0, 1, 1, 0, 0, 0, 0, 0, 0, 0, 0, 0, 0, 0, 1, 0, 1, 1, 1, 0, 0, 0, 0, 0, 1, 0, 1, 0, 0, 0, 1, 1, 0, 0, 0, 1, 0, 1, 0, 0, 0, 1, 0, 0, 0, 0, 0, 0, 0, 1, 0, 0, 0, 0, 0, 1, 0, 0, 1, 0, 1, 0, 0, 0, 0, 0, 0, 0, 0, 0, 0, 0, 0, 0, 1, 0, 1, 0, 1, 0, 0, 0, 0, 0, 0, 1, 0, 0, 1, 1, 1, 0, 1, 1, 0, 0, 0, 0, 0, 0, 0, 0, 0, 0, 0, 0, 0, 1, 0, 0, 0, 0, 0, 0, 0, 0, 0, 1, 0, 0, 0, 0, 0, 0, 0, 0, 0, 0, 0, 0, 0, 0, 0, 0, 0, 1, 0, 0, 0, 1, 0, 0, 0, 0, 0, 0, 0, 0, 0, 0, 0, 0, 0, 0, 0, 1, 1, 0, 0, 0, 0, 0, 0, 0, 0, 0, 0, 1, 0, 0, 1, 0, 1, 0, 0, 0, 1, 0, 0, 0, 0, 0, 1, 1, 1, 0, 1, 0, 1, 0, 0, 1, 0, 1, 1, 1, 0, 1, 1, 0, 0, 0, 0, 1, 0, 0, 0, 0, 0, 0, 0, 0, 1, 1, 0, 0, 0, 0, 0, 0, 1, 0, 0, 0, 1, 0, 0, 0, 1, 1, 1, 0, 0, 1, 0, 0, 0, 0, 0, 0, 0, 0, 0, 0, 1, 0, 1, 0, 0, 0, 0, 0, 0, 0, 1, 0, 0, 0, 0, 1, 1, 0, 1, 1, 0, 0, 0, 0, 0, 0, 1, 0, 0, 0, 0, 0, 0, 0, 0, 0, 0, 0, 0, 0, 0, 0, 0, 0, 0, 0, 0, 0, 0, 0, 1, 0, 0, 0, 0, 0, 0, 0, 0, 0, 0, 1, 0, 1, 1, 1, 0, 0, 1, 1, 0, 0, 0, 0, 0, 0, 0, 0, 0, 0, 0, 0, 0, 0, 0, 0, 0, 0, 0, 0, 0, 0, 0, 0, 0, 0, 0, 0, 0, 1, 1, 0, 0, 0, 0, 1, 0, 1, 1, 1, 1, 0, 0, 0, 0, 0, 0, 0, 0, 0, 0, 0, 0, 0, 0, 0, 0, 0, 0, 1, 0, 0, 1, 0, 0, 0, 0, 0, 0, 0, 0, 0, 0, 0, 0, 0, 0, 0, 0, 1, 0, 0, 0, 1, 0, 0, 0, 0, 0, 0, 0, 0, 1, 1, 1, 0, 0, 0, 0, 0, 0, 0, 0, 0, 0, 0, 1, 0, 0, 0, 0, 0, 1, 0, 0, 0, 0, 0, 1, 0, 1, 1, 0, 0, 0, 0, 0, 0, 0, 0, 0, 0, 1, 0, 0, 0, 0, 0, 0, 0, 0, 0, 1, 0, 0, 0, 0, 0, 1, 0, 0, 0, 0, 0, 0, 0, 0, 0, 0, 0, 0, 1, 0, 1, 0, 0, 0, 1, 0, 0, 0, 0, 0, 0, 0, 0, 1, 0, 0, 0, 0, 0, 0, 0, 0, 0, 0, 1, 0, 0, 0, 0, 0, 0, 0, 1, 0, 0, 0, 0, 0, 0, 0, 0, 0, 1, 0, 0, 0, 0, 0, 1, 0, 0, 0, 0, 0, 0, 0, 0, 0, 0, 1, 0, 0, 1, 0, 1, 0, 0, 0, 0, 0, 1, 0, 1, 1, 0, 0, 1, 0, 1, 0, 0, 0, 0, 0, 1, 0, 0, 0, 0, 0, 0, 0, 0, 1, 0, 0, 1, 0, 0, 0, 0, 0, 0, 0, 0, 0, 0, 0, 0, 0, 1, 0, 0, 0, 0, 0, 0, 0, 0, 1, 1, 0, 1, 1, 0, 0, 0, 0, 0, 1, 0, 0, 1, 0, 0, 0, 0, 1, 0, 0, 0, 0, 0, 0, 1, 0, 0, 0, 0, 0, 0, 0, 1, 0, 0, 0, 0, 0, 0, 0, 0, 1, 0, 0, 0, 0, 0, 0, 0, 0, 0, 0, 0, 0, 0, 0, 0, 0, 0, 0, 1, 0, 1, 0, 0, 1, 0, 0, 0, 0, 0, 1, 0, 1, 1, 0, 1, 1, 0, 0, 0, 0, 0, 0, 0, 1, 0, 0, 0, 0, 0, 0, 1, 0, 1, 0, 0, 1, 0, 0, 0, 0, 0, 0, 0, 0, 0, 0, 1, 0, 0, 0, 0, 0, 0, 1, 0, 0, 1, 0, 0, 0, 0, 0, 0, 0, 0, 0, 1, 0, 1, 0, 0, 0, 1, 0, 0, 0, 1, 0, 0, 0, 0, 0, 0, 0, 0, 0, 0, 0, 0, 0, 0, 1, 1, 0, 0, 0, 0, 0, 0, 1, 1, 1, 0, 0, 0, 0, 0, 0, 0, 0, 0, 0, 0, 0, 0, 1, 1, 0, 1, 0, 0, 0, 0, 1, 0, 1, 0, 1, 0, 1, 1, 0, 0, 1, 0, 0, 0, 0, 0, 0, 0, 0, 0, 0, 0, 0, 0, 0, 0, 0, 0, 0, 0, 0, 0, 0, 1, 0, 1, 1, 0, 0, 0, 1, 0, 0, 1, 0, 0, 1, 0, 0, 0, 0, 1, 0, 0, 0, 0, 0, 0, 0, 1, 0, 1, 0, 0, 0, 0, 1, 1, 0, 0, 0, 0, 0, 0, 0, 0, 0, 0, 0, 0, 0, 0, 0, 0, 0, 0, 0, 0, 0, 0, 0, 0, 0, 0, 0, 0, 0, 1, 0, 1, 0, 1, 0, 1, 1, 0, 1, 0, 1, 0, 0, 0, 0, 0, 0, 0, 1, 0, 0, 0, 0, 0, 0, 0, 0, 1, 0, 0, 0, 0, 0, 0, 1, 0, 0, 0, 0, 0, 0, 1, 0, 0, 0, 0, 1, 0, 0, 0, 0, 0, 1, 1, 0, 0, 0, 0, 0, 1, 0, 0, 0, 1, 0, 0, 0, 0, 0, 0, 0, 0, 0, 1, 1, 0, 0, 0, 1, 0, 0, 0, 1, 1, 0, 1, 0, 0, 1, 1, 0, 0, 1, 0, 1, 0, 0, 1, 0, 1, 0, 1, 0, 0, 0, 1, 0, 0, 0, 0, 0, 0, 0, 0, 1, 0, 0, 0, 0, 0, 0, 0, 1, 0, 0, 0, 0, 0, 0, 0, 1, 0, 0, 0, 0, 0, 0, 1, 0, 0, 0, 0, 1, 0, 0, 1, 0, 0, 1, 0, 0, 0, 1, 0, 0, 0, 0, 0, 0, 0, 0, 0, 0, 1, 1, 0, 0, 0, 0, 1, 1, 0, 1, 0, 1, 0, 1, 0, 0, 0, 0, 0, 0, 0, 0, 0, 0, 0, 0, 0, 0, 1, 0, 0, 0, 0, 0, 0, 1, 0, 0, 0, 0, 0, 1, 0, 0, 0, 1, 0, 0, 0, 0, 0, 0, 0, 0, 0, 0, 0, 0, 0, 1, 1, 0, 0, 0, 0, 1, 0, 0, 1, 0, 0, 0, 0, 1, 0, 1, 0, 1, 0, 0, 0, 0, 0, 0, 0, 1, 0, 0, 0, 0, 0, 0, 0, 1, 0, 0, 1, 1, 0, 0, 0, 0, 0, 0, 0, 0, 0, 1, 0, 0, 0, 0, 1, 0, 0, 0, 0, 0, 0, 1, 1, 0, 0, 0, 0, 0, 0, 0, 0, 1, 1, 0, 0, 0, 0, 0, 0, 0, 1, 1, 0, 1, 0, 0, 0, 0, 0, 0, 0, 0, 0, 0, 0, 0, 1, 0, 1, 0, 0, 0, 0, 0, 0, 1, 0, 0, 0, 1, 0, 0, 1, 1, 0, 1, 0, 0, 0, 1, 0, 0, 1, 0, 0, 0, 0, 0, 0, 0, 0, 1, 1, 0, 1, 1, 0, 1, 1, 1, 0, 0, 0, 0, 1, 1, 0, 0, 0, 0, 0, 0, 1, 0, 1, 0, 0, 0, 0, 0, 0, 0, 0, 0, 0, 0, 0, 0, 1], \"coloraxis\": \"coloraxis\", \"symbol\": \"circle\"}, \"mode\": \"markers\", \"name\": \"\", \"showlegend\": false, \"type\": \"scattergl\", \"x\": [16884.924, 1725.5523, 4449.462, 21984.47061, 3866.8552, 3756.6216, 8240.5896, 7281.5056, 6406.4107, 28923.136919999997, 2721.3208, 27808.7251, 1826.8429999999998, 11090.7178, 39611.7577, 1837.237, 10797.3362, 2395.17155, 10602.385, 36837.467000000004, 13228.84695, 4149.736, 1137.011, 37701.8768, 6203.90175, 14001.1338, 14451.83515, 12268.63225, 2775.19215, 38711.0, 35585.576, 2198.18985, 4687.7970000000005, 13770.0979, 51194.55914, 1625.43375, 15612.19335, 2302.3, 39774.2763, 48173.361, 3046.062, 4949.7587, 6272.4772, 6313.759, 6079.6715, 20630.28351, 3393.35635, 3556.9223, 12629.8967, 38709.176, 2211.13075, 3579.8287, 23568.272, 37742.5757, 8059.6791, 47496.49445, 13607.36875, 34303.1672, 23244.7902, 5989.52365, 8606.2174, 4504.6624, 30166.618169999998, 4133.64165, 14711.7438, 1743.214, 14235.072, 6389.37785, 5920.1041, 17663.1442, 16577.7795, 6799.4580000000005, 11741.726, 11946.6259, 7726.854, 11356.6609, 3947.4131, 1532.4697, 2755.02095, 6571.02435, 4441.21315, 7935.29115, 37165.1638, 11033.6617, 39836.519, 21098.55405, 43578.9394, 11073.176000000001, 8026.6666, 11082.5772, 2026.9741, 10942.13205, 30184.9367, 5729.0053, 47291.055, 3766.8838, 12105.32, 10226.2842, 22412.6485, 15820.698999999999, 6186.1269999999995, 3645.0894, 21344.8467, 30942.1918, 5003.853, 17560.37975, 2331.519, 3877.30425, 2867.1196, 47055.5321, 10825.2537, 11881.358, 4646.759, 2404.7338, 11488.31695, 30259.995560000003, 11381.3254, 19107.7796, 8601.3293, 6686.4313, 7740.3369999999995, 1705.6245, 2257.47525, 39556.4945, 10115.00885, 3385.39915, 17081.08, 9634.538, 32734.1863, 6082.405, 12815.44495, 13616.3586, 11163.568000000001, 1632.56445, 2457.21115, 2155.6815, 1261.442, 2045.68525, 27322.733860000004, 2166.732, 27375.90478, 3490.5491, 18972.495, 18157.876, 20745.9891, 5138.2567, 40720.55105, 9877.6077, 10959.6947, 1842.519, 5125.2157, 7789.635, 6334.34355, 19964.7463, 7077.1894, 6948.7008, 21223.6758, 15518.18025, 36950.2567, 19749.383380000003, 21348.706000000002, 36149.4835, 10450.552, 5152.134, 5028.1466, 10407.08585, 4830.63, 6128.79745, 2719.27975, 4827.90495, 13405.3903, 8116.68, 1694.7964, 5246.047, 2855.43755, 48824.45, 6455.86265, 10436.096, 8823.279, 8538.28845, 11735.87905, 1631.8212, 4005.4225, 7419.4779, 7731.4271, 43753.33705, 3981.9768, 5325.651, 6775.960999999999, 4922.9159, 12557.6053, 4883.866, 2137.6536, 12044.341999999999, 1137.4697, 1639.5631, 5649.715, 8516.829, 9644.2525, 14901.5167, 2130.6759, 8871.1517, 13012.20865, 37133.8982, 7147.105, 4337.7352, 11743.298999999999, 20984.0936, 13880.948999999999, 6610.1097, 1980.07, 8162.71625, 3537.703, 5002.7827, 8520.026, 7371.772, 10355.641, 2483.736, 3392.9768, 25081.76784, 5012.471, 10564.8845, 5253.524, 34779.615, 19515.5416, 11987.1682, 2689.4954, 24227.33724, 7358.17565, 9225.2564, 7443.64305, 14001.2867, 1727.785, 12333.828000000001, 6710.1919, 19444.2658, 1615.7667, 4463.2051, 17352.6803, 7152.6714, 38511.6283, 5354.07465, 35160.13457, 7196.866999999999, 29523.1656, 24476.47851, 12648.7034, 1986.9334, 1832.094, 4040.55825, 12829.4551, 47305.305, 44260.7499, 4260.744000000001, 41097.16175, 13047.33235, 43921.1837, 5400.9805, 11520.09985, 33750.2918, 11837.16, 17085.2676, 24869.8368, 36219.40545, 20462.99766, 46151.1245, 17179.522, 14590.63205, 7441.053000000001, 9282.4806, 1719.4363, 42856.837999999996, 7265.7025, 9617.66245, 2523.1695, 9715.841, 2803.69785, 2150.469, 12928.7911, 9855.1314, 22331.5668, 48549.17835, 4237.12655, 11879.10405, 9625.92, 7742.1098, 9432.9253, 14256.1928, 47896.79135, 25992.82104, 3172.018, 20277.80751, 42112.2356, 2156.7518, 3906.127, 1704.5681, 16297.846000000001, 21978.6769, 38746.3551, 9249.4952, 6746.7425, 24873.3849, 12265.5069, 4349.462, 12646.207, 19442.3535, 20177.671130000002, 4151.0287, 11944.59435, 7749.1564, 8444.474, 1737.376, 42124.5153, 8124.4084, 34838.873, 9722.7695, 8835.26495, 10435.06525, 7421.19455, 4667.60765, 4894.7533, 24671.66334, 35491.64, 11566.30055, 2866.091, 6600.20595, 3561.8889, 42760.5022, 47928.03, 9144.565, 48517.56315, 24393.6224, 13429.0354, 11658.37915, 19144.57652, 13822.803, 12142.5786, 13937.6665, 41919.097, 8232.6388, 18955.22017, 13352.0998, 13217.0945, 13981.85035, 10977.2063, 6184.2994, 4889.9995, 8334.45755, 5478.0368, 1635.73365, 11830.6072, 8932.084, 3554.203, 12404.8791, 14133.03775, 24603.04837, 8944.1151, 9620.3307, 1837.2819, 1607.5101, 10043.249, 4751.07, 13844.506000000001, 2597.779, 3180.5101, 9778.3472, 13430.265, 8017.06115, 8116.26885, 3481.868, 13415.0381, 12029.2867, 7639.41745, 36085.219, 1391.5287, 18033.9679, 21659.9301, 38126.2465, 16455.70785, 27000.98473, 15006.57945, 42303.69215, 20781.48892, 5846.9176, 8302.53565, 1261.859, 11856.4115, 30284.642939999998, 3176.8159, 4618.0799, 10736.87075, 2138.0707, 8964.06055, 9290.1395, 9411.005, 7526.70645, 8522.003, 16586.49771, 14988.431999999999, 1631.6683, 9264.796999999999, 8083.9198, 14692.66935, 10269.46, 3260.199, 11396.9002, 4185.0979, 8539.671, 6652.5288, 4074.4537, 1621.3402, 19594.80965, 14455.64405, 5080.096, 2134.9015, 7345.7266, 9140.951, 18608.262, 14418.2804, 28950.4692, 46889.2612, 46599.1084, 39125.33225, 2727.3951, 8968.33, 9788.8659, 6555.07035, 7323.734818999999, 3167.45585, 18804.7524, 23082.95533, 4906.40965, 5969.723000000001, 12638.195, 4243.59005, 13919.8229, 2254.7967, 5926.846, 12592.5345, 2897.3235, 4738.2682, 37079.372, 1149.3959, 28287.897660000002, 26109.32905, 7345.084, 12730.9996, 11454.0215, 5910.944, 4762.329000000001, 7512.267, 4032.2407, 1969.614, 1769.53165, 4686.3887, 21797.0004, 11881.9696, 11840.77505, 10601.412, 7682.67, 10381.4787, 22144.032000000003, 15230.32405, 11165.41765, 1632.03625, 19521.9682, 13224.693000000001, 12643.3778, 23288.9284, 2201.0971, 2497.0383, 2203.47185, 1744.465, 20878.78443, 25382.297000000002, 28868.6639, 35147.52848, 2534.39375, 1534.3045, 1824.2854, 15555.18875, 9304.7019, 1622.1885, 9880.068000000001, 9563.029, 4347.02335, 12475.3513, 1253.9360000000001, 48885.135610000005, 10461.9794, 1748.774, 24513.09126, 2196.4732, 12574.048999999999, 17942.106, 1967.0227, 4931.647, 8027.968000000001, 8211.1002, 13470.86, 36197.699, 6837.3687, 22218.1149, 32548.3405, 5974.3847, 6796.86325, 2643.2685, 3077.0955, 3044.2133, 11455.28, 11763.0009, 2498.4144, 9361.3268, 1256.299, 21082.16, 11362.755, 27724.28875, 8413.46305, 5240.765, 3857.75925, 25656.575259999998, 3994.1778, 9866.30485, 5397.6167, 38245.59327, 11482.63485, 24059.68019, 9861.025, 8342.90875, 1708.0014, 48675.5177, 14043.4767, 12925.886, 19214.705530000003, 13831.1152, 6067.12675, 5972.378000000001, 8825.086, 8233.0975, 27346.04207, 6196.448, 3056.3881, 13887.204, 63770.42801, 10231.4999, 23807.2406, 3268.84665, 11538.421, 3213.62205, 45863.205, 13390.559, 3972.9247, 12957.118, 11187.6567, 17878.900680000002, 3847.6740000000004, 8334.5896, 3935.1799, 39983.42595, 1646.4297, 9193.8385, 10923.9332, 2494.022, 9058.7303, 2801.2588, 2128.43105, 6373.55735, 7256.7231, 11552.903999999999, 45702.02235, 3761.292, 2219.4451, 4753.6368, 31620.001060000002, 13224.05705, 12222.8983, 1664.9996, 58571.074479999996, 9724.53, 3206.49135, 12913.9924, 1639.5631, 6356.2707, 17626.23951, 1242.816, 4779.6023, 3861.20965, 43943.8761, 13635.6379, 5976.8311, 11842.442, 8428.0693, 2566.4707, 15359.1045, 5709.1644, 8823.98575, 7640.3092, 5594.8455, 7441.501, 33471.97189, 1633.0444, 9174.13565, 11070.535, 16085.1275, 17468.9839, 9283.562, 3558.62025, 25678.77845, 4435.0942, 39241.442, 8547.6913, 6571.544, 2207.69745, 6753.0380000000005, 1880.07, 42969.8527, 11658.11505, 23306.547000000002, 34439.8559, 10713.643999999998, 3659.3459999999995, 40182.246, 9182.17, 34617.84065, 12129.61415, 3736.4647, 6748.5912, 11326.71487, 11365.952, 42983.4585, 10085.846, 1977.815, 3366.6697, 7173.35995, 9391.346, 14410.9321, 2709.1119, 24915.04626, 20149.3229, 12949.1554, 6666.243, 32787.458589999995, 13143.86485, 4466.6214, 18806.14547, 10141.1362, 6123.5688, 8252.2843, 1712.227, 12430.95335, 9800.8882, 10579.711000000001, 8280.6227, 8527.532, 12244.531, 24667.418999999998, 3410.324, 4058.71245, 26392.260290000002, 14394.39815, 6435.6237, 22192.43711, 5148.5526, 1136.3994, 27037.9141, 42560.4304, 8703.456, 40003.33225, 45710.20785, 6500.2359, 4837.5823, 3943.5954, 4399.731, 6185.3208, 46200.9851, 7222.78625, 12485.8009, 46130.5265, 12363.546999999999, 10156.7832, 2585.269, 1242.26, 40103.89, 9863.4718, 4766.022, 11244.3769, 7729.64575, 5438.7491, 26236.57997, 34806.4677, 2104.1134, 8068.185, 2362.22905, 2352.96845, 3577.9990000000003, 3201.24515, 29186.48236, 40273.6455, 10976.24575, 3500.6123, 2020.5523, 9541.69555, 9504.3103, 5385.3379, 8930.93455, 5375.0380000000005, 44400.4064, 10264.4421, 6113.23105, 5469.0066, 1727.54, 10107.2206, 8310.83915, 1984.4533, 2457.502, 12146.971000000001, 9566.9909, 13112.6048, 10848.1343, 12231.6136, 9875.6804, 11264.541000000001, 12979.358, 1263.249, 10106.13425, 40932.4295, 6664.68595, 16657.71745, 2217.6012, 6781.3542, 19361.9988, 10065.413, 4234.927, 9447.25035, 14007.222, 9583.8933, 40419.0191, 3484.3309999999997, 36189.1017, 44585.45587, 8604.48365, 18246.4955, 43254.41795, 3757.8448, 8827.2099, 9910.35985, 11737.84884, 1627.28245, 8556.907, 3062.50825, 19539.243000000002, 1906.35825, 14210.53595, 11833.7823, 17128.42608, 5031.26955, 7985.815, 23065.4207, 5428.7277, 36307.7983, 3925.7582, 2416.955, 19040.876, 3070.8087, 9095.06825, 11842.62375, 8062.764, 7050.642, 14319.031, 6933.24225, 27941.28758, 11150.78, 12797.20962, 17748.5062, 7261.741, 10560.4917, 6986.696999999999, 7448.40395, 5934.3798, 9869.8102, 18259.216, 1146.7966, 9386.1613, 24520.264, 4350.5144, 6414.178000000001, 12741.16745, 1917.3184, 5209.57885, 13457.9608, 5662.225, 1252.407, 2731.9122, 21195.818, 7209.4918, 18310.742, 4266.1658, 4719.52405, 11848.141000000001, 17904.52705, 7046.7222, 14313.8463, 2103.08, 38792.6856, 1815.8759, 7731.85785, 28476.734989999997, 2136.88225, 1131.5066, 3309.7926, 9414.92, 6360.9936, 11013.7119, 4428.88785, 5584.3057, 1877.9294, 2842.76075, 3597.5959999999995, 23401.30575, 55135.402089999996, 7445.918000000001, 2680.9493, 1621.8827, 8219.2039, 12523.6048, 16069.08475, 43813.8661, 20773.62775, 39597.4072, 6117.4945, 13393.756000000001, 5266.3656, 4719.73655, 11743.9341, 5377.4578, 7160.3303, 4402.233, 11657.7189, 6402.29135, 12622.1795, 1526.3120000000001, 12323.936000000002, 36021.0112, 27533.9129, 10072.05505, 45008.9555, 9872.701, 2438.0552, 2974.1259999999997, 10601.63225, 37270.1512, 14119.62, 42111.6647, 11729.6795, 24106.91255, 1875.344, 40974.1649, 15817.9857, 18218.16139, 10965.446000000002, 46113.511, 7151.092, 12269.68865, 5458.04645, 8782.469000000001, 6600.361, 1141.4451, 11576.13, 13129.60345, 4391.652, 8457.818000000001, 3392.3652, 5966.8874, 6849.026, 8891.1395, 2690.1138, 26140.3603, 6653.7886, 6282.235, 6311.951999999999, 3443.0640000000003, 2789.0574, 2585.85065, 46255.1125, 4877.98105, 19719.6947, 27218.43725, 5272.1758, 1682.5970000000002, 11945.1327, 29330.98315, 7243.8136, 10422.91665, 44202.6536, 13555.0049, 13063.883, 19798.05455, 2221.56445, 1634.5734, 2117.33885, 8688.85885, 48673.5588, 4661.28635, 8125.7845, 12644.589, 4564.19145, 4846.92015, 7633.7206, 15170.069, 17496.306, 2639.0429, 33732.6867, 14382.70905, 7626.993, 5257.50795, 2473.3341, 21774.32215, 35069.37452, 13041.921, 5245.2269, 13451.122, 13462.52, 5488.262, 4320.41085, 6250.435, 25333.33284, 2913.5690000000004, 12032.326000000001, 13470.8044, 6289.7549, 2927.0647, 6238.298000000001, 10096.97, 7348.142, 4673.3922, 12233.828000000001, 32108.662819999998, 8965.79575, 2304.0022, 9487.6442, 1121.8739, 9549.5651, 2217.46915, 1628.4709, 12982.8747, 11674.13, 7160.094, 39047.285, 6358.77645, 19933.458, 11534.87265, 47462.894, 4527.18295, 38998.546, 20009.63365, 3875.7341, 41999.52, 12609.88702, 41034.2214, 28468.91901, 2730.10785, 3353.284, 14474.675, 9500.57305, 26467.09737, 4746.344, 23967.38305, 7518.02535, 3279.86855, 8596.8278, 10702.6424, 4992.3764, 2527.81865, 1759.338, 2322.6218, 16138.76205, 7804.1605, 2902.9065, 9704.66805, 4889.0368, 25517.11363, 4500.33925, 19199.944, 16796.41194, 4915.05985, 7624.63, 8410.04685, 28340.18885, 4518.82625, 14571.8908, 3378.91, 7144.86265, 10118.424, 5484.4673, 16420.49455, 7986.47525, 7418.522, 13887.9685, 6551.7501, 5267.81815, 17361.7661, 34472.841, 1972.95, 21232.182259999998, 8627.5411, 4433.3877, 4438.2634, 24915.22085, 23241.47453, 9957.7216, 8269.044, 18767.7377, 36580.28216, 8765.249, 5383.536, 12124.9924, 2709.24395, 3987.926, 12495.29085, 26018.95052, 8798.593, 35595.5898, 42211.1382, 1711.0268, 8569.8618, 2020.1770000000001, 16450.8947, 21595.38229, 9850.431999999999, 6877.9801, 21677.28345, 44423.803, 4137.5227, 13747.87235, 12950.0712, 12094.478000000001, 37484.4493, 39725.51805, 2250.8352, 22493.65964, 20234.85475, 1704.70015, 33475.81715, 3161.454, 11394.06555, 21880.82, 7325.0482, 44501.3982, 3594.17085, 39727.614, 8023.13545, 14394.5579, 9288.0267, 25309.488999999998, 3353.4703, 10594.50155, 8277.523000000001, 17929.303369999998, 2480.9791, 4462.7218, 1981.5819, 11554.2236, 48970.2476, 6548.19505, 5708.866999999999, 7045.499, 8978.1851, 5757.41345, 14349.8544, 10928.848999999998, 39871.7043, 13974.45555, 1909.52745, 12096.6512, 13204.28565, 4562.8421, 8551.347, 2102.2647, 34672.1472, 15161.5344, 11884.04858, 4454.40265, 5855.9025, 4076.4970000000003, 15019.76005, 19023.26, 10796.35025, 11353.2276, 9748.9106, 10577.087, 41676.0811, 11286.5387, 3591.48, 33907.547999999995, 11299.343, 4561.1885, 44641.1974, 1674.6323, 23045.56616, 3227.1211, 16776.30405, 11253.421, 3471.4096, 11363.2832, 20420.60465, 10338.9316, 8988.15875, 10493.9458, 2904.0879999999997, 8605.3615, 11512.405, 41949.2441, 24180.9335, 5312.16985, 2396.0959, 10807.4863, 9222.4026, 36124.5737, 38282.7495, 5693.4305, 34166.273, 8347.1643, 46661.4424, 18903.49141, 40904.1995, 14254.6082, 10214.636, 5836.5204, 14358.36437, 1728.8970000000002, 8582.3023, 3693.428, 20709.02034, 9991.03765, 19673.335730000003, 11085.5868, 7623.518, 3176.2877, 3704.3545, 36898.73308, 9048.0273, 7954.517, 27117.99378, 6338.0756, 9630.396999999999, 11289.10925, 52590.82939, 2261.5688, 10791.96, 5979.731, 2203.73595, 12235.8392, 40941.2854, 5630.45785, 11015.1747, 7228.21565, 39722.7462, 14426.07385, 2459.7201, 3989.841, 7727.2532, 5124.1887, 18963.171919999997, 2200.83085, 7153.5539, 5227.98875, 10982.5013, 4529.477, 4670.64, 6112.35295, 17178.6824, 22478.6, 11093.6229, 6457.8434, 4433.9159, 2154.361, 23887.6627, 6496.8859999999995, 2899.48935, 19350.3689, 7650.77375, 2850.68375, 2632.992, 9447.3824, 18328.2381, 8603.8234, 37465.34375, 13844.7972, 21771.3423, 13126.67745, 5327.40025, 13725.47184, 13019.16105, 8671.19125, 4134.08245, 18838.70366, 33307.5508, 5699.8375, 6393.60345, 4934.705, 6198.7518, 8733.22925, 2055.3249, 9964.06, 18223.4512, 5116.5004, 36910.60803, 38415.474, 20296.86345, 12347.171999999999, 5373.36425, 23563.016180000002, 1702.4553, 10806.839, 3956.07145, 12890.05765, 5415.6612, 4058.1161, 41661.602, 7537.1639, 4718.20355, 6593.5083, 8442.667, 26125.674769999998, 6858.4796, 4795.6568, 6640.54485, 7162.0122, 10594.2257, 11938.25595, 60021.39897, 20167.336030000002, 12479.70895, 11345.518999999998, 8515.7587, 2699.56835, 14449.8544, 12224.35085, 6985.50695, 3238.4357, 47269.85400000001, 49577.6624, 4296.2712, 3171.6149, 1135.9407, 5615.369000000001, 9101.798, 6059.173000000001, 1633.9618, 37607.5277, 18648.4217, 1241.565, 16232.847, 15828.821730000001, 4415.1588, 6474.013000000001, 11436.73815, 11305.93455, 30063.58055, 10197.7722, 4544.2348, 3277.1609999999996, 6770.1925, 7337.7480000000005, 10370.91255, 26926.5144, 10704.47, 34254.05335, 1880.487, 8615.3, 3292.52985, 3021.80915, 14478.33015, 4747.0529, 17043.3414, 10959.33, 2741.948, 4357.04365, 22462.04375, 4189.1131, 8283.6807, 24535.69855, 14283.4594, 1720.3537, 47403.88, 8534.6718, 3732.6251, 5472.4490000000005, 38344.566, 7147.4728, 7133.9025, 34828.654, 1515.3449, 9301.89355, 11931.12525, 1964.78, 1708.92575, 4340.4409, 5261.46945, 2710.82855, 62592.87309, 46718.16325, 3208.7870000000003, 37829.7242, 21259.37795, 2464.6188, 16115.3045, 21472.4788, 33900.653, 6875.960999999999, 6940.90985, 4571.41305, 4536.259, 36397.576, 18765.87545, 11272.331390000001, 1731.6770000000001, 1163.4627, 19496.71917, 7201.70085, 5425.02335, 28101.33305, 12981.3457, 43896.3763, 4239.89265, 13143.33665, 7050.0213, 9377.9047, 22395.74424, 10325.206, 12629.1656, 10795.937329999999, 11411.685, 10600.5483, 2205.9808, 1629.8335, 2007.945, 29141.3603], \"xaxis\": \"x\", \"y\": [19, 18, 28, 33, 32, 31, 46, 37, 37, 60, 25, 62, 23, 56, 27, 19, 52, 23, 56, 30, 60, 30, 18, 34, 37, 59, 63, 55, 23, 31, 22, 18, 19, 63, 28, 19, 62, 26, 35, 60, 24, 31, 41, 37, 38, 55, 18, 28, 60, 36, 18, 21, 48, 36, 40, 58, 58, 18, 53, 34, 43, 25, 64, 28, 20, 19, 61, 40, 40, 28, 27, 31, 53, 58, 44, 57, 29, 21, 22, 41, 31, 45, 22, 48, 37, 45, 57, 56, 46, 55, 21, 53, 59, 35, 64, 28, 54, 55, 56, 38, 41, 30, 18, 61, 34, 20, 19, 26, 29, 63, 54, 55, 37, 21, 52, 60, 58, 29, 49, 37, 44, 18, 20, 44, 47, 26, 19, 52, 32, 38, 59, 61, 53, 19, 20, 22, 19, 22, 54, 22, 34, 26, 34, 29, 30, 29, 46, 51, 53, 19, 35, 48, 32, 42, 40, 44, 48, 18, 30, 50, 42, 18, 54, 32, 37, 47, 20, 32, 19, 27, 63, 49, 18, 35, 24, 63, 38, 54, 46, 41, 58, 18, 22, 44, 44, 36, 26, 30, 41, 29, 61, 36, 25, 56, 18, 19, 39, 45, 51, 64, 19, 48, 60, 27, 46, 28, 59, 35, 63, 40, 20, 40, 24, 34, 45, 41, 53, 27, 26, 24, 34, 53, 32, 19, 42, 55, 28, 58, 41, 47, 42, 59, 19, 59, 39, 40, 18, 31, 19, 44, 23, 33, 55, 40, 63, 54, 60, 24, 19, 29, 18, 63, 54, 27, 50, 55, 56, 38, 51, 19, 58, 20, 52, 19, 53, 46, 40, 59, 45, 49, 18, 50, 41, 50, 25, 47, 19, 22, 59, 51, 40, 54, 30, 55, 52, 46, 46, 63, 59, 52, 28, 29, 25, 22, 25, 18, 19, 47, 31, 48, 36, 53, 56, 28, 57, 29, 28, 30, 58, 41, 50, 19, 43, 49, 27, 52, 50, 54, 44, 32, 34, 26, 34, 57, 29, 40, 27, 45, 64, 52, 61, 52, 61, 56, 43, 64, 60, 62, 50, 46, 24, 62, 60, 63, 49, 34, 33, 46, 36, 19, 57, 50, 30, 33, 18, 46, 46, 47, 23, 18, 48, 35, 19, 21, 21, 49, 56, 42, 44, 18, 61, 57, 42, 26, 20, 23, 39, 24, 64, 62, 27, 55, 55, 35, 44, 19, 58, 50, 26, 24, 48, 19, 48, 49, 46, 46, 43, 21, 64, 18, 51, 47, 64, 49, 31, 52, 33, 47, 38, 32, 19, 44, 26, 25, 19, 43, 52, 36, 64, 63, 64, 61, 40, 25, 48, 45, 38, 18, 21, 27, 19, 29, 42, 60, 31, 60, 22, 35, 52, 26, 31, 33, 18, 59, 56, 45, 60, 56, 40, 35, 39, 30, 24, 20, 32, 59, 55, 57, 56, 40, 49, 42, 62, 56, 19, 30, 60, 56, 28, 18, 27, 18, 19, 47, 54, 61, 24, 25, 21, 23, 63, 49, 18, 51, 48, 31, 54, 19, 44, 53, 19, 61, 18, 61, 21, 20, 31, 45, 44, 62, 29, 43, 51, 19, 38, 37, 22, 21, 24, 57, 56, 27, 51, 19, 39, 58, 20, 45, 35, 31, 50, 32, 51, 38, 42, 18, 19, 51, 46, 18, 57, 62, 59, 37, 64, 38, 33, 46, 46, 53, 34, 20, 63, 54, 54, 49, 28, 54, 25, 43, 63, 32, 62, 52, 25, 28, 46, 34, 35, 19, 46, 54, 27, 50, 18, 19, 38, 41, 49, 48, 31, 18, 30, 62, 57, 58, 22, 31, 52, 25, 59, 19, 39, 32, 19, 33, 21, 34, 61, 38, 58, 47, 20, 21, 41, 46, 42, 34, 43, 52, 18, 51, 56, 64, 19, 51, 27, 59, 28, 30, 47, 38, 18, 34, 20, 47, 56, 49, 19, 55, 30, 37, 49, 18, 59, 29, 36, 33, 58, 44, 53, 24, 29, 40, 51, 64, 19, 35, 39, 56, 33, 42, 61, 23, 43, 48, 39, 40, 18, 58, 49, 53, 48, 45, 59, 52, 26, 27, 48, 57, 37, 57, 32, 18, 64, 43, 49, 40, 62, 40, 30, 29, 36, 41, 44, 45, 55, 60, 56, 49, 21, 19, 39, 53, 33, 53, 42, 40, 47, 27, 21, 47, 20, 24, 27, 26, 53, 41, 56, 23, 21, 50, 53, 34, 47, 33, 51, 49, 31, 36, 18, 50, 43, 20, 24, 60, 49, 60, 51, 58, 51, 53, 62, 19, 50, 30, 41, 29, 18, 41, 35, 53, 24, 48, 59, 49, 37, 26, 23, 29, 45, 27, 53, 31, 50, 50, 34, 19, 47, 28, 37, 21, 64, 58, 24, 31, 39, 47, 30, 18, 22, 23, 33, 27, 45, 57, 47, 42, 64, 38, 61, 53, 44, 19, 41, 51, 40, 45, 35, 53, 30, 18, 51, 50, 31, 35, 60, 21, 29, 62, 39, 19, 22, 53, 39, 27, 30, 30, 58, 33, 42, 64, 21, 18, 23, 45, 40, 19, 18, 25, 46, 33, 54, 28, 36, 20, 24, 23, 47, 33, 45, 26, 18, 44, 60, 64, 56, 36, 41, 39, 63, 36, 28, 58, 36, 42, 36, 56, 35, 59, 21, 59, 23, 57, 53, 60, 51, 23, 27, 55, 37, 61, 46, 53, 49, 20, 48, 25, 25, 57, 37, 38, 55, 36, 51, 40, 18, 57, 61, 25, 50, 26, 42, 43, 44, 23, 49, 33, 41, 37, 22, 23, 21, 51, 25, 32, 57, 36, 22, 57, 64, 36, 54, 47, 62, 61, 43, 19, 18, 19, 49, 60, 26, 49, 60, 26, 27, 44, 63, 32, 22, 18, 59, 44, 33, 24, 43, 45, 61, 35, 62, 62, 38, 34, 43, 50, 19, 57, 62, 41, 26, 39, 46, 45, 32, 59, 44, 39, 18, 53, 18, 50, 18, 19, 62, 56, 42, 37, 42, 25, 57, 51, 30, 44, 34, 31, 54, 24, 43, 48, 19, 29, 63, 46, 52, 35, 51, 44, 21, 39, 50, 34, 22, 19, 26, 29, 48, 26, 45, 36, 54, 34, 31, 27, 20, 44, 43, 45, 34, 24, 26, 38, 50, 38, 27, 39, 39, 63, 33, 36, 30, 24, 24, 48, 47, 29, 28, 47, 25, 51, 48, 43, 61, 48, 38, 59, 19, 26, 54, 21, 51, 22, 47, 18, 47, 21, 19, 23, 54, 37, 46, 55, 30, 18, 61, 54, 22, 45, 22, 19, 35, 18, 20, 28, 55, 43, 43, 22, 25, 49, 44, 64, 49, 47, 27, 55, 48, 45, 24, 32, 24, 57, 59, 36, 29, 42, 48, 39, 63, 54, 37, 63, 21, 54, 60, 32, 47, 21, 28, 63, 18, 32, 38, 32, 62, 39, 55, 57, 52, 56, 47, 55, 23, 22, 50, 18, 51, 22, 52, 25, 33, 53, 29, 58, 37, 54, 49, 50, 26, 45, 54, 38, 48, 28, 23, 55, 41, 25, 33, 30, 23, 46, 53, 27, 23, 63, 55, 35, 34, 19, 39, 27, 57, 52, 28, 50, 44, 26, 33, 19, 50, 41, 52, 39, 50, 52, 60, 20, 55, 42, 18, 58, 43, 35, 48, 36, 19, 23, 20, 32, 43, 34, 30, 18, 41, 35, 57, 29, 32, 37, 18, 43, 56, 38, 29, 22, 52, 40, 23, 31, 42, 24, 25, 48, 23, 45, 20, 62, 43, 23, 31, 41, 58, 48, 31, 19, 19, 41, 40, 31, 37, 46, 22, 51, 18, 35, 59, 36, 37, 59, 36, 39, 18, 52, 27, 18, 40, 29, 46, 38, 30, 40, 50, 20, 41, 33, 38, 42, 56, 58, 52, 20, 54, 58, 45, 26, 63, 58, 37, 25, 52, 64, 22, 28, 18, 28, 45, 33, 18, 32, 24, 19, 20, 40, 34, 42, 51, 54, 55, 52, 32, 28, 41, 43, 49, 64, 55, 24, 20, 45, 26, 25, 43, 35, 26, 57, 22, 32, 39, 25, 48, 47, 18, 18, 61, 47, 28, 36, 20, 44, 38, 19, 21, 46, 58, 20, 18, 28, 33, 19, 45, 62, 25, 43, 42, 24, 29, 32, 25, 41, 42, 33, 34, 19, 30, 18, 19, 18, 35, 39, 31, 62, 62, 42, 31, 61, 42, 51, 23, 52, 57, 23, 52, 50, 18, 18, 21, 61], \"yaxis\": \"y\"}],\n",
              "                        {\"coloraxis\": {\"colorbar\": {\"title\": {\"text\": \"smoker\"}}, \"colorscale\": [[0.0, \"#0d0887\"], [0.1111111111111111, \"#46039f\"], [0.2222222222222222, \"#7201a8\"], [0.3333333333333333, \"#9c179e\"], [0.4444444444444444, \"#bd3786\"], [0.5555555555555556, \"#d8576b\"], [0.6666666666666666, \"#ed7953\"], [0.7777777777777778, \"#fb9f3a\"], [0.8888888888888888, \"#fdca26\"], [1.0, \"#f0f921\"]]}, \"legend\": {\"tracegroupgap\": 0}, \"margin\": {\"t\": 60}, \"template\": {\"data\": {\"bar\": [{\"error_x\": {\"color\": \"#2a3f5f\"}, \"error_y\": {\"color\": \"#2a3f5f\"}, \"marker\": {\"line\": {\"color\": \"#E5ECF6\", \"width\": 0.5}}, \"type\": \"bar\"}], \"barpolar\": [{\"marker\": {\"line\": {\"color\": \"#E5ECF6\", \"width\": 0.5}}, \"type\": \"barpolar\"}], \"carpet\": [{\"aaxis\": {\"endlinecolor\": \"#2a3f5f\", \"gridcolor\": \"white\", \"linecolor\": \"white\", \"minorgridcolor\": \"white\", \"startlinecolor\": \"#2a3f5f\"}, \"baxis\": {\"endlinecolor\": \"#2a3f5f\", \"gridcolor\": \"white\", \"linecolor\": \"white\", \"minorgridcolor\": \"white\", \"startlinecolor\": \"#2a3f5f\"}, \"type\": \"carpet\"}], \"choropleth\": [{\"colorbar\": {\"outlinewidth\": 0, \"ticks\": \"\"}, \"type\": \"choropleth\"}], \"contour\": [{\"colorbar\": {\"outlinewidth\": 0, \"ticks\": \"\"}, \"colorscale\": [[0.0, \"#0d0887\"], [0.1111111111111111, \"#46039f\"], [0.2222222222222222, \"#7201a8\"], [0.3333333333333333, \"#9c179e\"], [0.4444444444444444, \"#bd3786\"], [0.5555555555555556, \"#d8576b\"], [0.6666666666666666, \"#ed7953\"], [0.7777777777777778, \"#fb9f3a\"], [0.8888888888888888, \"#fdca26\"], [1.0, \"#f0f921\"]], \"type\": \"contour\"}], \"contourcarpet\": [{\"colorbar\": {\"outlinewidth\": 0, \"ticks\": \"\"}, \"type\": \"contourcarpet\"}], \"heatmap\": [{\"colorbar\": {\"outlinewidth\": 0, \"ticks\": \"\"}, \"colorscale\": [[0.0, \"#0d0887\"], [0.1111111111111111, \"#46039f\"], [0.2222222222222222, \"#7201a8\"], [0.3333333333333333, \"#9c179e\"], [0.4444444444444444, \"#bd3786\"], [0.5555555555555556, \"#d8576b\"], [0.6666666666666666, \"#ed7953\"], [0.7777777777777778, \"#fb9f3a\"], [0.8888888888888888, \"#fdca26\"], [1.0, \"#f0f921\"]], \"type\": \"heatmap\"}], \"heatmapgl\": [{\"colorbar\": {\"outlinewidth\": 0, \"ticks\": \"\"}, \"colorscale\": [[0.0, \"#0d0887\"], [0.1111111111111111, \"#46039f\"], [0.2222222222222222, \"#7201a8\"], [0.3333333333333333, \"#9c179e\"], [0.4444444444444444, \"#bd3786\"], [0.5555555555555556, \"#d8576b\"], [0.6666666666666666, \"#ed7953\"], [0.7777777777777778, \"#fb9f3a\"], [0.8888888888888888, \"#fdca26\"], [1.0, \"#f0f921\"]], \"type\": \"heatmapgl\"}], \"histogram\": [{\"marker\": {\"colorbar\": {\"outlinewidth\": 0, \"ticks\": \"\"}}, \"type\": \"histogram\"}], \"histogram2d\": [{\"colorbar\": {\"outlinewidth\": 0, \"ticks\": \"\"}, \"colorscale\": [[0.0, \"#0d0887\"], [0.1111111111111111, \"#46039f\"], [0.2222222222222222, \"#7201a8\"], [0.3333333333333333, \"#9c179e\"], [0.4444444444444444, \"#bd3786\"], [0.5555555555555556, \"#d8576b\"], [0.6666666666666666, \"#ed7953\"], [0.7777777777777778, \"#fb9f3a\"], [0.8888888888888888, \"#fdca26\"], [1.0, \"#f0f921\"]], \"type\": \"histogram2d\"}], \"histogram2dcontour\": [{\"colorbar\": {\"outlinewidth\": 0, \"ticks\": \"\"}, \"colorscale\": [[0.0, \"#0d0887\"], [0.1111111111111111, \"#46039f\"], [0.2222222222222222, \"#7201a8\"], [0.3333333333333333, \"#9c179e\"], [0.4444444444444444, \"#bd3786\"], [0.5555555555555556, \"#d8576b\"], [0.6666666666666666, \"#ed7953\"], [0.7777777777777778, \"#fb9f3a\"], [0.8888888888888888, \"#fdca26\"], [1.0, \"#f0f921\"]], \"type\": \"histogram2dcontour\"}], \"mesh3d\": [{\"colorbar\": {\"outlinewidth\": 0, \"ticks\": \"\"}, \"type\": \"mesh3d\"}], \"parcoords\": [{\"line\": {\"colorbar\": {\"outlinewidth\": 0, \"ticks\": \"\"}}, \"type\": \"parcoords\"}], \"pie\": [{\"automargin\": true, \"type\": \"pie\"}], \"scatter\": [{\"marker\": {\"colorbar\": {\"outlinewidth\": 0, \"ticks\": \"\"}}, \"type\": \"scatter\"}], \"scatter3d\": [{\"line\": {\"colorbar\": {\"outlinewidth\": 0, \"ticks\": \"\"}}, \"marker\": {\"colorbar\": {\"outlinewidth\": 0, \"ticks\": \"\"}}, \"type\": \"scatter3d\"}], \"scattercarpet\": [{\"marker\": {\"colorbar\": {\"outlinewidth\": 0, \"ticks\": \"\"}}, \"type\": \"scattercarpet\"}], \"scattergeo\": [{\"marker\": {\"colorbar\": {\"outlinewidth\": 0, \"ticks\": \"\"}}, \"type\": \"scattergeo\"}], \"scattergl\": [{\"marker\": {\"colorbar\": {\"outlinewidth\": 0, \"ticks\": \"\"}}, \"type\": \"scattergl\"}], \"scattermapbox\": [{\"marker\": {\"colorbar\": {\"outlinewidth\": 0, \"ticks\": \"\"}}, \"type\": \"scattermapbox\"}], \"scatterpolar\": [{\"marker\": {\"colorbar\": {\"outlinewidth\": 0, \"ticks\": \"\"}}, \"type\": \"scatterpolar\"}], \"scatterpolargl\": [{\"marker\": {\"colorbar\": {\"outlinewidth\": 0, \"ticks\": \"\"}}, \"type\": \"scatterpolargl\"}], \"scatterternary\": [{\"marker\": {\"colorbar\": {\"outlinewidth\": 0, \"ticks\": \"\"}}, \"type\": \"scatterternary\"}], \"surface\": [{\"colorbar\": {\"outlinewidth\": 0, \"ticks\": \"\"}, \"colorscale\": [[0.0, \"#0d0887\"], [0.1111111111111111, \"#46039f\"], [0.2222222222222222, \"#7201a8\"], [0.3333333333333333, \"#9c179e\"], [0.4444444444444444, \"#bd3786\"], [0.5555555555555556, \"#d8576b\"], [0.6666666666666666, \"#ed7953\"], [0.7777777777777778, \"#fb9f3a\"], [0.8888888888888888, \"#fdca26\"], [1.0, \"#f0f921\"]], \"type\": \"surface\"}], \"table\": [{\"cells\": {\"fill\": {\"color\": \"#EBF0F8\"}, \"line\": {\"color\": \"white\"}}, \"header\": {\"fill\": {\"color\": \"#C8D4E3\"}, \"line\": {\"color\": \"white\"}}, \"type\": \"table\"}]}, \"layout\": {\"annotationdefaults\": {\"arrowcolor\": \"#2a3f5f\", \"arrowhead\": 0, \"arrowwidth\": 1}, \"coloraxis\": {\"colorbar\": {\"outlinewidth\": 0, \"ticks\": \"\"}}, \"colorscale\": {\"diverging\": [[0, \"#8e0152\"], [0.1, \"#c51b7d\"], [0.2, \"#de77ae\"], [0.3, \"#f1b6da\"], [0.4, \"#fde0ef\"], [0.5, \"#f7f7f7\"], [0.6, \"#e6f5d0\"], [0.7, \"#b8e186\"], [0.8, \"#7fbc41\"], [0.9, \"#4d9221\"], [1, \"#276419\"]], \"sequential\": [[0.0, \"#0d0887\"], [0.1111111111111111, \"#46039f\"], [0.2222222222222222, \"#7201a8\"], [0.3333333333333333, \"#9c179e\"], [0.4444444444444444, \"#bd3786\"], [0.5555555555555556, \"#d8576b\"], [0.6666666666666666, \"#ed7953\"], [0.7777777777777778, \"#fb9f3a\"], [0.8888888888888888, \"#fdca26\"], [1.0, \"#f0f921\"]], \"sequentialminus\": [[0.0, \"#0d0887\"], [0.1111111111111111, \"#46039f\"], [0.2222222222222222, \"#7201a8\"], [0.3333333333333333, \"#9c179e\"], [0.4444444444444444, \"#bd3786\"], [0.5555555555555556, \"#d8576b\"], [0.6666666666666666, \"#ed7953\"], [0.7777777777777778, \"#fb9f3a\"], [0.8888888888888888, \"#fdca26\"], [1.0, \"#f0f921\"]]}, \"colorway\": [\"#636efa\", \"#EF553B\", \"#00cc96\", \"#ab63fa\", \"#FFA15A\", \"#19d3f3\", \"#FF6692\", \"#B6E880\", \"#FF97FF\", \"#FECB52\"], \"font\": {\"color\": \"#2a3f5f\"}, \"geo\": {\"bgcolor\": \"white\", \"lakecolor\": \"white\", \"landcolor\": \"#E5ECF6\", \"showlakes\": true, \"showland\": true, \"subunitcolor\": \"white\"}, \"hoverlabel\": {\"align\": \"left\"}, \"hovermode\": \"closest\", \"mapbox\": {\"style\": \"light\"}, \"paper_bgcolor\": \"white\", \"plot_bgcolor\": \"#E5ECF6\", \"polar\": {\"angularaxis\": {\"gridcolor\": \"white\", \"linecolor\": \"white\", \"ticks\": \"\"}, \"bgcolor\": \"#E5ECF6\", \"radialaxis\": {\"gridcolor\": \"white\", \"linecolor\": \"white\", \"ticks\": \"\"}}, \"scene\": {\"xaxis\": {\"backgroundcolor\": \"#E5ECF6\", \"gridcolor\": \"white\", \"gridwidth\": 2, \"linecolor\": \"white\", \"showbackground\": true, \"ticks\": \"\", \"zerolinecolor\": \"white\"}, \"yaxis\": {\"backgroundcolor\": \"#E5ECF6\", \"gridcolor\": \"white\", \"gridwidth\": 2, \"linecolor\": \"white\", \"showbackground\": true, \"ticks\": \"\", \"zerolinecolor\": \"white\"}, \"zaxis\": {\"backgroundcolor\": \"#E5ECF6\", \"gridcolor\": \"white\", \"gridwidth\": 2, \"linecolor\": \"white\", \"showbackground\": true, \"ticks\": \"\", \"zerolinecolor\": \"white\"}}, \"shapedefaults\": {\"line\": {\"color\": \"#2a3f5f\"}}, \"ternary\": {\"aaxis\": {\"gridcolor\": \"white\", \"linecolor\": \"white\", \"ticks\": \"\"}, \"baxis\": {\"gridcolor\": \"white\", \"linecolor\": \"white\", \"ticks\": \"\"}, \"bgcolor\": \"#E5ECF6\", \"caxis\": {\"gridcolor\": \"white\", \"linecolor\": \"white\", \"ticks\": \"\"}}, \"title\": {\"x\": 0.05}, \"xaxis\": {\"automargin\": true, \"gridcolor\": \"white\", \"linecolor\": \"white\", \"ticks\": \"\", \"title\": {\"standoff\": 15}, \"zerolinecolor\": \"white\", \"zerolinewidth\": 2}, \"yaxis\": {\"automargin\": true, \"gridcolor\": \"white\", \"linecolor\": \"white\", \"ticks\": \"\", \"title\": {\"standoff\": 15}, \"zerolinecolor\": \"white\", \"zerolinewidth\": 2}}}, \"xaxis\": {\"anchor\": \"y\", \"domain\": [0.0, 1.0], \"title\": {\"text\": \"charges\"}}, \"yaxis\": {\"anchor\": \"x\", \"domain\": [0.0, 1.0], \"title\": {\"text\": \"age\"}}},\n",
              "                        {\"responsive\": true}\n",
              "                    ).then(function(){\n",
              "                            \n",
              "var gd = document.getElementById('bd46e571-64c1-4bd9-abe3-6aa92d4fedc2');\n",
              "var x = new MutationObserver(function (mutations, observer) {{\n",
              "        var display = window.getComputedStyle(gd).display;\n",
              "        if (!display || display === 'none') {{\n",
              "            console.log([gd, 'removed!']);\n",
              "            Plotly.purge(gd);\n",
              "            observer.disconnect();\n",
              "        }}\n",
              "}});\n",
              "\n",
              "// Listen for the removal of the full notebook cells\n",
              "var notebookContainer = gd.closest('#notebook-container');\n",
              "if (notebookContainer) {{\n",
              "    x.observe(notebookContainer, {childList: true});\n",
              "}}\n",
              "\n",
              "// Listen for the clearing of the current output cell\n",
              "var outputEl = gd.closest('.output');\n",
              "if (outputEl) {{\n",
              "    x.observe(outputEl, {childList: true});\n",
              "}}\n",
              "\n",
              "                        })\n",
              "                };\n",
              "                \n",
              "            </script>\n",
              "        </div>\n",
              "</body>\n",
              "</html>"
            ]
          },
          "metadata": {
            "tags": []
          }
        }
      ]
    },
    {
      "cell_type": "markdown",
      "metadata": {
        "id": "SLmK2YIQib6G"
      },
      "source": [
        "- Podemos observar claramente como el factor más influyente es el ser fumador o no ya que los datos se distribuyen notariamente en la parte de los fumadores (derecha) y no fumadores (izquierda)"
      ]
    },
    {
      "cell_type": "markdown",
      "metadata": {
        "id": "s-pOmMJoi1ys"
      },
      "source": [
        "#### Children-region-bmi-charges"
      ]
    },
    {
      "cell_type": "code",
      "metadata": {
        "colab": {
          "base_uri": "https://localhost:8080/",
          "height": 542
        },
        "id": "cUR6ob7xh0mH",
        "outputId": "423087bd-dd86-4aab-a3ba-c2385d30b843"
      },
      "source": [
        "fig = px.scatter_3d(df_cat, x = 'children', y = 'region', z = 'bmi',  color = 'charges')\r\n",
        "fig.show()"
      ],
      "execution_count": null,
      "outputs": [
        {
          "output_type": "display_data",
          "data": {
            "text/html": [
              "<html>\n",
              "<head><meta charset=\"utf-8\" /></head>\n",
              "<body>\n",
              "    <div>\n",
              "            <script src=\"https://cdnjs.cloudflare.com/ajax/libs/mathjax/2.7.5/MathJax.js?config=TeX-AMS-MML_SVG\"></script><script type=\"text/javascript\">if (window.MathJax) {MathJax.Hub.Config({SVG: {font: \"STIX-Web\"}});}</script>\n",
              "                <script type=\"text/javascript\">window.PlotlyConfig = {MathJaxConfig: 'local'};</script>\n",
              "        <script src=\"https://cdn.plot.ly/plotly-latest.min.js\"></script>    \n",
              "            <div id=\"000b3250-c0cf-4646-a4d8-90563bfdb00f\" class=\"plotly-graph-div\" style=\"height:525px; width:100%;\"></div>\n",
              "            <script type=\"text/javascript\">\n",
              "                \n",
              "                    window.PLOTLYENV=window.PLOTLYENV || {};\n",
              "                    \n",
              "                if (document.getElementById(\"000b3250-c0cf-4646-a4d8-90563bfdb00f\")) {\n",
              "                    Plotly.newPlot(\n",
              "                        '000b3250-c0cf-4646-a4d8-90563bfdb00f',\n",
              "                        [{\"hoverlabel\": {\"namelength\": 0}, \"hovertemplate\": \"children=%{x}<br>region=%{y}<br>bmi=%{z}<br>charges=%{marker.color}\", \"legendgroup\": \"\", \"marker\": {\"color\": [16884.924, 1725.5523, 4449.462, 21984.47061, 3866.8552, 3756.6216, 8240.5896, 7281.5056, 6406.4107, 28923.136919999997, 2721.3208, 27808.7251, 1826.8429999999998, 11090.7178, 39611.7577, 1837.237, 10797.3362, 2395.17155, 10602.385, 36837.467000000004, 13228.84695, 4149.736, 1137.011, 37701.8768, 6203.90175, 14001.1338, 14451.83515, 12268.63225, 2775.19215, 38711.0, 35585.576, 2198.18985, 4687.7970000000005, 13770.0979, 51194.55914, 1625.43375, 15612.19335, 2302.3, 39774.2763, 48173.361, 3046.062, 4949.7587, 6272.4772, 6313.759, 6079.6715, 20630.28351, 3393.35635, 3556.9223, 12629.8967, 38709.176, 2211.13075, 3579.8287, 23568.272, 37742.5757, 8059.6791, 47496.49445, 13607.36875, 34303.1672, 23244.7902, 5989.52365, 8606.2174, 4504.6624, 30166.618169999998, 4133.64165, 14711.7438, 1743.214, 14235.072, 6389.37785, 5920.1041, 17663.1442, 16577.7795, 6799.4580000000005, 11741.726, 11946.6259, 7726.854, 11356.6609, 3947.4131, 1532.4697, 2755.02095, 6571.02435, 4441.21315, 7935.29115, 37165.1638, 11033.6617, 39836.519, 21098.55405, 43578.9394, 11073.176000000001, 8026.6666, 11082.5772, 2026.9741, 10942.13205, 30184.9367, 5729.0053, 47291.055, 3766.8838, 12105.32, 10226.2842, 22412.6485, 15820.698999999999, 6186.1269999999995, 3645.0894, 21344.8467, 30942.1918, 5003.853, 17560.37975, 2331.519, 3877.30425, 2867.1196, 47055.5321, 10825.2537, 11881.358, 4646.759, 2404.7338, 11488.31695, 30259.995560000003, 11381.3254, 19107.7796, 8601.3293, 6686.4313, 7740.3369999999995, 1705.6245, 2257.47525, 39556.4945, 10115.00885, 3385.39915, 17081.08, 9634.538, 32734.1863, 6082.405, 12815.44495, 13616.3586, 11163.568000000001, 1632.56445, 2457.21115, 2155.6815, 1261.442, 2045.68525, 27322.733860000004, 2166.732, 27375.90478, 3490.5491, 18972.495, 18157.876, 20745.9891, 5138.2567, 40720.55105, 9877.6077, 10959.6947, 1842.519, 5125.2157, 7789.635, 6334.34355, 19964.7463, 7077.1894, 6948.7008, 21223.6758, 15518.18025, 36950.2567, 19749.383380000003, 21348.706000000002, 36149.4835, 10450.552, 5152.134, 5028.1466, 10407.08585, 4830.63, 6128.79745, 2719.27975, 4827.90495, 13405.3903, 8116.68, 1694.7964, 5246.047, 2855.43755, 48824.45, 6455.86265, 10436.096, 8823.279, 8538.28845, 11735.87905, 1631.8212, 4005.4225, 7419.4779, 7731.4271, 43753.33705, 3981.9768, 5325.651, 6775.960999999999, 4922.9159, 12557.6053, 4883.866, 2137.6536, 12044.341999999999, 1137.4697, 1639.5631, 5649.715, 8516.829, 9644.2525, 14901.5167, 2130.6759, 8871.1517, 13012.20865, 37133.8982, 7147.105, 4337.7352, 11743.298999999999, 20984.0936, 13880.948999999999, 6610.1097, 1980.07, 8162.71625, 3537.703, 5002.7827, 8520.026, 7371.772, 10355.641, 2483.736, 3392.9768, 25081.76784, 5012.471, 10564.8845, 5253.524, 34779.615, 19515.5416, 11987.1682, 2689.4954, 24227.33724, 7358.17565, 9225.2564, 7443.64305, 14001.2867, 1727.785, 12333.828000000001, 6710.1919, 19444.2658, 1615.7667, 4463.2051, 17352.6803, 7152.6714, 38511.6283, 5354.07465, 35160.13457, 7196.866999999999, 29523.1656, 24476.47851, 12648.7034, 1986.9334, 1832.094, 4040.55825, 12829.4551, 47305.305, 44260.7499, 4260.744000000001, 41097.16175, 13047.33235, 43921.1837, 5400.9805, 11520.09985, 33750.2918, 11837.16, 17085.2676, 24869.8368, 36219.40545, 20462.99766, 46151.1245, 17179.522, 14590.63205, 7441.053000000001, 9282.4806, 1719.4363, 42856.837999999996, 7265.7025, 9617.66245, 2523.1695, 9715.841, 2803.69785, 2150.469, 12928.7911, 9855.1314, 22331.5668, 48549.17835, 4237.12655, 11879.10405, 9625.92, 7742.1098, 9432.9253, 14256.1928, 47896.79135, 25992.82104, 3172.018, 20277.80751, 42112.2356, 2156.7518, 3906.127, 1704.5681, 16297.846000000001, 21978.6769, 38746.3551, 9249.4952, 6746.7425, 24873.3849, 12265.5069, 4349.462, 12646.207, 19442.3535, 20177.671130000002, 4151.0287, 11944.59435, 7749.1564, 8444.474, 1737.376, 42124.5153, 8124.4084, 34838.873, 9722.7695, 8835.26495, 10435.06525, 7421.19455, 4667.60765, 4894.7533, 24671.66334, 35491.64, 11566.30055, 2866.091, 6600.20595, 3561.8889, 42760.5022, 47928.03, 9144.565, 48517.56315, 24393.6224, 13429.0354, 11658.37915, 19144.57652, 13822.803, 12142.5786, 13937.6665, 41919.097, 8232.6388, 18955.22017, 13352.0998, 13217.0945, 13981.85035, 10977.2063, 6184.2994, 4889.9995, 8334.45755, 5478.0368, 1635.73365, 11830.6072, 8932.084, 3554.203, 12404.8791, 14133.03775, 24603.04837, 8944.1151, 9620.3307, 1837.2819, 1607.5101, 10043.249, 4751.07, 13844.506000000001, 2597.779, 3180.5101, 9778.3472, 13430.265, 8017.06115, 8116.26885, 3481.868, 13415.0381, 12029.2867, 7639.41745, 36085.219, 1391.5287, 18033.9679, 21659.9301, 38126.2465, 16455.70785, 27000.98473, 15006.57945, 42303.69215, 20781.48892, 5846.9176, 8302.53565, 1261.859, 11856.4115, 30284.642939999998, 3176.8159, 4618.0799, 10736.87075, 2138.0707, 8964.06055, 9290.1395, 9411.005, 7526.70645, 8522.003, 16586.49771, 14988.431999999999, 1631.6683, 9264.796999999999, 8083.9198, 14692.66935, 10269.46, 3260.199, 11396.9002, 4185.0979, 8539.671, 6652.5288, 4074.4537, 1621.3402, 19594.80965, 14455.64405, 5080.096, 2134.9015, 7345.7266, 9140.951, 18608.262, 14418.2804, 28950.4692, 46889.2612, 46599.1084, 39125.33225, 2727.3951, 8968.33, 9788.8659, 6555.07035, 7323.734818999999, 3167.45585, 18804.7524, 23082.95533, 4906.40965, 5969.723000000001, 12638.195, 4243.59005, 13919.8229, 2254.7967, 5926.846, 12592.5345, 2897.3235, 4738.2682, 37079.372, 1149.3959, 28287.897660000002, 26109.32905, 7345.084, 12730.9996, 11454.0215, 5910.944, 4762.329000000001, 7512.267, 4032.2407, 1969.614, 1769.53165, 4686.3887, 21797.0004, 11881.9696, 11840.77505, 10601.412, 7682.67, 10381.4787, 22144.032000000003, 15230.32405, 11165.41765, 1632.03625, 19521.9682, 13224.693000000001, 12643.3778, 23288.9284, 2201.0971, 2497.0383, 2203.47185, 1744.465, 20878.78443, 25382.297000000002, 28868.6639, 35147.52848, 2534.39375, 1534.3045, 1824.2854, 15555.18875, 9304.7019, 1622.1885, 9880.068000000001, 9563.029, 4347.02335, 12475.3513, 1253.9360000000001, 48885.135610000005, 10461.9794, 1748.774, 24513.09126, 2196.4732, 12574.048999999999, 17942.106, 1967.0227, 4931.647, 8027.968000000001, 8211.1002, 13470.86, 36197.699, 6837.3687, 22218.1149, 32548.3405, 5974.3847, 6796.86325, 2643.2685, 3077.0955, 3044.2133, 11455.28, 11763.0009, 2498.4144, 9361.3268, 1256.299, 21082.16, 11362.755, 27724.28875, 8413.46305, 5240.765, 3857.75925, 25656.575259999998, 3994.1778, 9866.30485, 5397.6167, 38245.59327, 11482.63485, 24059.68019, 9861.025, 8342.90875, 1708.0014, 48675.5177, 14043.4767, 12925.886, 19214.705530000003, 13831.1152, 6067.12675, 5972.378000000001, 8825.086, 8233.0975, 27346.04207, 6196.448, 3056.3881, 13887.204, 63770.42801, 10231.4999, 23807.2406, 3268.84665, 11538.421, 3213.62205, 45863.205, 13390.559, 3972.9247, 12957.118, 11187.6567, 17878.900680000002, 3847.6740000000004, 8334.5896, 3935.1799, 39983.42595, 1646.4297, 9193.8385, 10923.9332, 2494.022, 9058.7303, 2801.2588, 2128.43105, 6373.55735, 7256.7231, 11552.903999999999, 45702.02235, 3761.292, 2219.4451, 4753.6368, 31620.001060000002, 13224.05705, 12222.8983, 1664.9996, 58571.074479999996, 9724.53, 3206.49135, 12913.9924, 1639.5631, 6356.2707, 17626.23951, 1242.816, 4779.6023, 3861.20965, 43943.8761, 13635.6379, 5976.8311, 11842.442, 8428.0693, 2566.4707, 15359.1045, 5709.1644, 8823.98575, 7640.3092, 5594.8455, 7441.501, 33471.97189, 1633.0444, 9174.13565, 11070.535, 16085.1275, 17468.9839, 9283.562, 3558.62025, 25678.77845, 4435.0942, 39241.442, 8547.6913, 6571.544, 2207.69745, 6753.0380000000005, 1880.07, 42969.8527, 11658.11505, 23306.547000000002, 34439.8559, 10713.643999999998, 3659.3459999999995, 40182.246, 9182.17, 34617.84065, 12129.61415, 3736.4647, 6748.5912, 11326.71487, 11365.952, 42983.4585, 10085.846, 1977.815, 3366.6697, 7173.35995, 9391.346, 14410.9321, 2709.1119, 24915.04626, 20149.3229, 12949.1554, 6666.243, 32787.458589999995, 13143.86485, 4466.6214, 18806.14547, 10141.1362, 6123.5688, 8252.2843, 1712.227, 12430.95335, 9800.8882, 10579.711000000001, 8280.6227, 8527.532, 12244.531, 24667.418999999998, 3410.324, 4058.71245, 26392.260290000002, 14394.39815, 6435.6237, 22192.43711, 5148.5526, 1136.3994, 27037.9141, 42560.4304, 8703.456, 40003.33225, 45710.20785, 6500.2359, 4837.5823, 3943.5954, 4399.731, 6185.3208, 46200.9851, 7222.78625, 12485.8009, 46130.5265, 12363.546999999999, 10156.7832, 2585.269, 1242.26, 40103.89, 9863.4718, 4766.022, 11244.3769, 7729.64575, 5438.7491, 26236.57997, 34806.4677, 2104.1134, 8068.185, 2362.22905, 2352.96845, 3577.9990000000003, 3201.24515, 29186.48236, 40273.6455, 10976.24575, 3500.6123, 2020.5523, 9541.69555, 9504.3103, 5385.3379, 8930.93455, 5375.0380000000005, 44400.4064, 10264.4421, 6113.23105, 5469.0066, 1727.54, 10107.2206, 8310.83915, 1984.4533, 2457.502, 12146.971000000001, 9566.9909, 13112.6048, 10848.1343, 12231.6136, 9875.6804, 11264.541000000001, 12979.358, 1263.249, 10106.13425, 40932.4295, 6664.68595, 16657.71745, 2217.6012, 6781.3542, 19361.9988, 10065.413, 4234.927, 9447.25035, 14007.222, 9583.8933, 40419.0191, 3484.3309999999997, 36189.1017, 44585.45587, 8604.48365, 18246.4955, 43254.41795, 3757.8448, 8827.2099, 9910.35985, 11737.84884, 1627.28245, 8556.907, 3062.50825, 19539.243000000002, 1906.35825, 14210.53595, 11833.7823, 17128.42608, 5031.26955, 7985.815, 23065.4207, 5428.7277, 36307.7983, 3925.7582, 2416.955, 19040.876, 3070.8087, 9095.06825, 11842.62375, 8062.764, 7050.642, 14319.031, 6933.24225, 27941.28758, 11150.78, 12797.20962, 17748.5062, 7261.741, 10560.4917, 6986.696999999999, 7448.40395, 5934.3798, 9869.8102, 18259.216, 1146.7966, 9386.1613, 24520.264, 4350.5144, 6414.178000000001, 12741.16745, 1917.3184, 5209.57885, 13457.9608, 5662.225, 1252.407, 2731.9122, 21195.818, 7209.4918, 18310.742, 4266.1658, 4719.52405, 11848.141000000001, 17904.52705, 7046.7222, 14313.8463, 2103.08, 38792.6856, 1815.8759, 7731.85785, 28476.734989999997, 2136.88225, 1131.5066, 3309.7926, 9414.92, 6360.9936, 11013.7119, 4428.88785, 5584.3057, 1877.9294, 2842.76075, 3597.5959999999995, 23401.30575, 55135.402089999996, 7445.918000000001, 2680.9493, 1621.8827, 8219.2039, 12523.6048, 16069.08475, 43813.8661, 20773.62775, 39597.4072, 6117.4945, 13393.756000000001, 5266.3656, 4719.73655, 11743.9341, 5377.4578, 7160.3303, 4402.233, 11657.7189, 6402.29135, 12622.1795, 1526.3120000000001, 12323.936000000002, 36021.0112, 27533.9129, 10072.05505, 45008.9555, 9872.701, 2438.0552, 2974.1259999999997, 10601.63225, 37270.1512, 14119.62, 42111.6647, 11729.6795, 24106.91255, 1875.344, 40974.1649, 15817.9857, 18218.16139, 10965.446000000002, 46113.511, 7151.092, 12269.68865, 5458.04645, 8782.469000000001, 6600.361, 1141.4451, 11576.13, 13129.60345, 4391.652, 8457.818000000001, 3392.3652, 5966.8874, 6849.026, 8891.1395, 2690.1138, 26140.3603, 6653.7886, 6282.235, 6311.951999999999, 3443.0640000000003, 2789.0574, 2585.85065, 46255.1125, 4877.98105, 19719.6947, 27218.43725, 5272.1758, 1682.5970000000002, 11945.1327, 29330.98315, 7243.8136, 10422.91665, 44202.6536, 13555.0049, 13063.883, 19798.05455, 2221.56445, 1634.5734, 2117.33885, 8688.85885, 48673.5588, 4661.28635, 8125.7845, 12644.589, 4564.19145, 4846.92015, 7633.7206, 15170.069, 17496.306, 2639.0429, 33732.6867, 14382.70905, 7626.993, 5257.50795, 2473.3341, 21774.32215, 35069.37452, 13041.921, 5245.2269, 13451.122, 13462.52, 5488.262, 4320.41085, 6250.435, 25333.33284, 2913.5690000000004, 12032.326000000001, 13470.8044, 6289.7549, 2927.0647, 6238.298000000001, 10096.97, 7348.142, 4673.3922, 12233.828000000001, 32108.662819999998, 8965.79575, 2304.0022, 9487.6442, 1121.8739, 9549.5651, 2217.46915, 1628.4709, 12982.8747, 11674.13, 7160.094, 39047.285, 6358.77645, 19933.458, 11534.87265, 47462.894, 4527.18295, 38998.546, 20009.63365, 3875.7341, 41999.52, 12609.88702, 41034.2214, 28468.91901, 2730.10785, 3353.284, 14474.675, 9500.57305, 26467.09737, 4746.344, 23967.38305, 7518.02535, 3279.86855, 8596.8278, 10702.6424, 4992.3764, 2527.81865, 1759.338, 2322.6218, 16138.76205, 7804.1605, 2902.9065, 9704.66805, 4889.0368, 25517.11363, 4500.33925, 19199.944, 16796.41194, 4915.05985, 7624.63, 8410.04685, 28340.18885, 4518.82625, 14571.8908, 3378.91, 7144.86265, 10118.424, 5484.4673, 16420.49455, 7986.47525, 7418.522, 13887.9685, 6551.7501, 5267.81815, 17361.7661, 34472.841, 1972.95, 21232.182259999998, 8627.5411, 4433.3877, 4438.2634, 24915.22085, 23241.47453, 9957.7216, 8269.044, 18767.7377, 36580.28216, 8765.249, 5383.536, 12124.9924, 2709.24395, 3987.926, 12495.29085, 26018.95052, 8798.593, 35595.5898, 42211.1382, 1711.0268, 8569.8618, 2020.1770000000001, 16450.8947, 21595.38229, 9850.431999999999, 6877.9801, 21677.28345, 44423.803, 4137.5227, 13747.87235, 12950.0712, 12094.478000000001, 37484.4493, 39725.51805, 2250.8352, 22493.65964, 20234.85475, 1704.70015, 33475.81715, 3161.454, 11394.06555, 21880.82, 7325.0482, 44501.3982, 3594.17085, 39727.614, 8023.13545, 14394.5579, 9288.0267, 25309.488999999998, 3353.4703, 10594.50155, 8277.523000000001, 17929.303369999998, 2480.9791, 4462.7218, 1981.5819, 11554.2236, 48970.2476, 6548.19505, 5708.866999999999, 7045.499, 8978.1851, 5757.41345, 14349.8544, 10928.848999999998, 39871.7043, 13974.45555, 1909.52745, 12096.6512, 13204.28565, 4562.8421, 8551.347, 2102.2647, 34672.1472, 15161.5344, 11884.04858, 4454.40265, 5855.9025, 4076.4970000000003, 15019.76005, 19023.26, 10796.35025, 11353.2276, 9748.9106, 10577.087, 41676.0811, 11286.5387, 3591.48, 33907.547999999995, 11299.343, 4561.1885, 44641.1974, 1674.6323, 23045.56616, 3227.1211, 16776.30405, 11253.421, 3471.4096, 11363.2832, 20420.60465, 10338.9316, 8988.15875, 10493.9458, 2904.0879999999997, 8605.3615, 11512.405, 41949.2441, 24180.9335, 5312.16985, 2396.0959, 10807.4863, 9222.4026, 36124.5737, 38282.7495, 5693.4305, 34166.273, 8347.1643, 46661.4424, 18903.49141, 40904.1995, 14254.6082, 10214.636, 5836.5204, 14358.36437, 1728.8970000000002, 8582.3023, 3693.428, 20709.02034, 9991.03765, 19673.335730000003, 11085.5868, 7623.518, 3176.2877, 3704.3545, 36898.73308, 9048.0273, 7954.517, 27117.99378, 6338.0756, 9630.396999999999, 11289.10925, 52590.82939, 2261.5688, 10791.96, 5979.731, 2203.73595, 12235.8392, 40941.2854, 5630.45785, 11015.1747, 7228.21565, 39722.7462, 14426.07385, 2459.7201, 3989.841, 7727.2532, 5124.1887, 18963.171919999997, 2200.83085, 7153.5539, 5227.98875, 10982.5013, 4529.477, 4670.64, 6112.35295, 17178.6824, 22478.6, 11093.6229, 6457.8434, 4433.9159, 2154.361, 23887.6627, 6496.8859999999995, 2899.48935, 19350.3689, 7650.77375, 2850.68375, 2632.992, 9447.3824, 18328.2381, 8603.8234, 37465.34375, 13844.7972, 21771.3423, 13126.67745, 5327.40025, 13725.47184, 13019.16105, 8671.19125, 4134.08245, 18838.70366, 33307.5508, 5699.8375, 6393.60345, 4934.705, 6198.7518, 8733.22925, 2055.3249, 9964.06, 18223.4512, 5116.5004, 36910.60803, 38415.474, 20296.86345, 12347.171999999999, 5373.36425, 23563.016180000002, 1702.4553, 10806.839, 3956.07145, 12890.05765, 5415.6612, 4058.1161, 41661.602, 7537.1639, 4718.20355, 6593.5083, 8442.667, 26125.674769999998, 6858.4796, 4795.6568, 6640.54485, 7162.0122, 10594.2257, 11938.25595, 60021.39897, 20167.336030000002, 12479.70895, 11345.518999999998, 8515.7587, 2699.56835, 14449.8544, 12224.35085, 6985.50695, 3238.4357, 47269.85400000001, 49577.6624, 4296.2712, 3171.6149, 1135.9407, 5615.369000000001, 9101.798, 6059.173000000001, 1633.9618, 37607.5277, 18648.4217, 1241.565, 16232.847, 15828.821730000001, 4415.1588, 6474.013000000001, 11436.73815, 11305.93455, 30063.58055, 10197.7722, 4544.2348, 3277.1609999999996, 6770.1925, 7337.7480000000005, 10370.91255, 26926.5144, 10704.47, 34254.05335, 1880.487, 8615.3, 3292.52985, 3021.80915, 14478.33015, 4747.0529, 17043.3414, 10959.33, 2741.948, 4357.04365, 22462.04375, 4189.1131, 8283.6807, 24535.69855, 14283.4594, 1720.3537, 47403.88, 8534.6718, 3732.6251, 5472.4490000000005, 38344.566, 7147.4728, 7133.9025, 34828.654, 1515.3449, 9301.89355, 11931.12525, 1964.78, 1708.92575, 4340.4409, 5261.46945, 2710.82855, 62592.87309, 46718.16325, 3208.7870000000003, 37829.7242, 21259.37795, 2464.6188, 16115.3045, 21472.4788, 33900.653, 6875.960999999999, 6940.90985, 4571.41305, 4536.259, 36397.576, 18765.87545, 11272.331390000001, 1731.6770000000001, 1163.4627, 19496.71917, 7201.70085, 5425.02335, 28101.33305, 12981.3457, 43896.3763, 4239.89265, 13143.33665, 7050.0213, 9377.9047, 22395.74424, 10325.206, 12629.1656, 10795.937329999999, 11411.685, 10600.5483, 2205.9808, 1629.8335, 2007.945, 29141.3603], \"coloraxis\": \"coloraxis\", \"symbol\": \"circle\"}, \"mode\": \"markers\", \"name\": \"\", \"scene\": \"scene\", \"showlegend\": false, \"type\": \"scatter3d\", \"x\": [0, 1, 3, 0, 0, 0, 1, 3, 2, 0, 0, 0, 0, 0, 0, 1, 1, 0, 0, 0, 0, 1, 0, 1, 2, 3, 0, 2, 1, 2, 0, 0, 5, 0, 1, 0, 3, 0, 1, 0, 0, 2, 1, 2, 1, 0, 2, 0, 0, 1, 0, 2, 1, 0, 3, 2, 2, 2, 1, 2, 3, 4, 1, 1, 0, 0, 2, 1, 0, 3, 0, 5, 3, 1, 2, 0, 1, 0, 0, 0, 1, 0, 1, 4, 2, 2, 0, 0, 0, 0, 0, 1, 3, 2, 2, 1, 3, 0, 0, 0, 0, 0, 0, 3, 1, 1, 1, 2, 0, 0, 1, 2, 0, 0, 3, 0, 0, 1, 0, 2, 2, 0, 0, 1, 3, 0, 0, 0, 2, 2, 0, 0, 2, 0, 0, 0, 0, 0, 3, 0, 2, 1, 2, 2, 3, 3, 3, 1, 1, 1, 1, 0, 3, 0, 1, 0, 0, 0, 0, 3, 0, 0, 1, 2, 0, 4, 5, 3, 1, 3, 0, 0, 0, 1, 0, 0, 2, 1, 2, 3, 0, 0, 3, 0, 2, 3, 2, 3, 1, 2, 0, 0, 0, 1, 0, 0, 0, 2, 0, 0, 0, 1, 0, 0, 0, 1, 0, 2, 0, 1, 1, 4, 2, 1, 2, 2, 0, 0, 1, 0, 1, 0, 3, 0, 0, 3, 0, 0, 1, 2, 1, 3, 0, 1, 2, 2, 0, 2, 0, 1, 2, 1, 1, 3, 0, 0, 0, 0, 1, 1, 2, 2, 2, 3, 0, 3, 0, 0, 4, 0, 0, 1, 3, 0, 3, 3, 1, 3, 1, 1, 1, 2, 2, 1, 0, 2, 2, 0, 2, 1, 1, 3, 1, 1, 0, 1, 2, 0, 1, 3, 0, 1, 2, 0, 3, 0, 0, 1, 3, 1, 3, 3, 2, 2, 2, 2, 2, 1, 0, 2, 0, 0, 3, 0, 0, 0, 0, 0, 0, 1, 1, 4, 0, 0, 0, 1, 1, 2, 1, 0, 1, 0, 0, 0, 2, 0, 0, 1, 1, 1, 0, 0, 0, 0, 4, 3, 2, 1, 1, 0, 0, 0, 0, 0, 0, 0, 3, 3, 0, 0, 2, 1, 0, 1, 2, 1, 3, 2, 2, 3, 0, 0, 1, 2, 0, 0, 3, 0, 3, 1, 2, 0, 0, 2, 2, 0, 0, 2, 0, 3, 4, 0, 1, 1, 2, 0, 3, 0, 2, 0, 0, 1, 0, 3, 0, 2, 0, 1, 3, 1, 0, 1, 2, 5, 0, 1, 0, 2, 1, 0, 0, 0, 1, 0, 2, 5, 1, 0, 1, 3, 0, 2, 0, 0, 1, 3, 0, 3, 5, 0, 1, 0, 0, 1, 1, 0, 0, 0, 0, 1, 4, 1, 0, 0, 2, 0, 2, 0, 0, 3, 3, 0, 2, 0, 0, 1, 1, 2, 1, 1, 0, 0, 0, 0, 3, 1, 0, 0, 0, 0, 3, 2, 0, 1, 3, 0, 3, 0, 0, 1, 0, 0, 0, 0, 4, 0, 2, 2, 2, 0, 0, 0, 1, 0, 1, 3, 1, 2, 0, 0, 1, 0, 0, 0, 1, 0, 1, 2, 1, 0, 0, 0, 0, 0, 1, 0, 2, 1, 1, 0, 1, 0, 2, 0, 0, 1, 3, 2, 1, 0, 3, 2, 0, 0, 0, 2, 0, 2, 0, 0, 0, 0, 0, 2, 0, 2, 1, 0, 3, 0, 2, 0, 0, 1, 2, 0, 1, 2, 5, 2, 0, 1, 2, 1, 2, 0, 0, 1, 1, 0, 1, 0, 2, 1, 0, 1, 3, 1, 0, 1, 0, 1, 2, 1, 0, 1, 2, 1, 2, 2, 0, 0, 0, 3, 0, 0, 0, 0, 2, 2, 1, 2, 0, 3, 0, 1, 0, 2, 0, 0, 1, 4, 1, 0, 0, 0, 3, 1, 0, 0, 1, 0, 0, 2, 1, 0, 1, 2, 0, 4, 5, 3, 0, 3, 2, 3, 1, 3, 0, 0, 2, 1, 0, 2, 0, 2, 1, 2, 1, 4, 3, 1, 1, 0, 0, 2, 1, 2, 0, 1, 3, 0, 0, 0, 2, 0, 3, 3, 3, 2, 1, 0, 2, 0, 1, 2, 2, 0, 1, 1, 0, 1, 1, 0, 1, 0, 2, 1, 0, 2, 0, 0, 0, 1, 1, 2, 0, 3, 3, 0, 1, 2, 2, 0, 0, 0, 1, 1, 2, 0, 0, 3, 0, 0, 1, 3, 1, 1, 0, 1, 3, 1, 3, 1, 3, 1, 0, 2, 3, 2, 2, 0, 0, 0, 0, 1, 2, 0, 1, 0, 0, 0, 0, 0, 4, 2, 3, 0, 3, 0, 2, 1, 1, 0, 2, 0, 1, 1, 0, 2, 3, 2, 0, 0, 2, 3, 2, 0, 3, 0, 3, 0, 1, 1, 1, 3, 0, 0, 3, 0, 0, 0, 0, 0, 2, 0, 2, 1, 0, 0, 1, 0, 1, 0, 0, 0, 1, 0, 0, 1, 3, 3, 2, 2, 2, 0, 0, 3, 1, 0, 1, 0, 0, 2, 0, 2, 2, 1, 3, 1, 0, 0, 2, 0, 1, 2, 0, 0, 2, 0, 0, 0, 2, 0, 0, 0, 1, 1, 0, 0, 0, 2, 0, 2, 3, 0, 0, 0, 1, 0, 2, 3, 2, 0, 0, 2, 0, 1, 0, 3, 0, 1, 0, 1, 3, 0, 1, 5, 1, 2, 3, 1, 0, 3, 4, 1, 0, 0, 0, 1, 0, 4, 0, 2, 0, 0, 2, 1, 0, 0, 0, 0, 3, 0, 0, 2, 3, 1, 3, 0, 1, 0, 3, 1, 2, 0, 0, 0, 0, 1, 0, 0, 1, 0, 0, 2, 2, 1, 0, 1, 1, 1, 5, 0, 2, 0, 2, 5, 2, 0, 0, 1, 0, 0, 0, 1, 2, 1, 0, 3, 0, 2, 1, 2, 1, 1, 1, 1, 1, 1, 1, 0, 1, 3, 2, 1, 2, 1, 2, 5, 3, 0, 0, 0, 0, 0, 0, 1, 3, 0, 1, 0, 3, 1, 5, 1, 3, 1, 0, 0, 1, 2, 2, 1, 3, 3, 3, 0, 3, 0, 2, 0, 0, 0, 1, 2, 2, 3, 2, 1, 0, 2, 4, 1, 0, 0, 1, 2, 3, 2, 0, 3, 1, 1, 1, 0, 1, 0, 0, 2, 1, 0, 0, 0, 0, 3, 2, 1, 0, 2, 0, 0, 0, 0, 1, 2, 0, 1, 1, 0, 1, 0, 1, 3, 0, 0, 0, 0, 0, 1, 0, 1, 1, 3, 4, 1, 2, 0, 1, 1, 1, 0, 0, 2, 0, 1, 1, 0, 0, 3, 2, 1, 1, 1, 2, 5, 0, 0, 1, 0, 0, 0, 3, 0, 4, 4, 2, 0, 0, 1, 2, 3, 1, 0, 0, 0, 0, 2, 1, 3, 1, 3, 3, 3, 0, 1, 5, 2, 1, 3, 0, 2, 3, 1, 1, 0, 0, 2, 1, 0, 5, 2, 0, 0, 0, 3, 1, 0, 0, 0, 1, 3, 0, 2, 2, 3, 0, 0, 1, 0, 0, 0, 3, 1, 4, 3, 0, 2, 0, 0, 1, 2, 1, 0, 1, 0, 0, 2, 2, 1, 1, 2, 0, 2, 2, 0, 1, 1, 0, 0, 1, 0, 0, 1, 1, 2, 3, 0, 1, 0, 2, 1, 1, 0, 0, 3, 0, 0, 1, 2, 2, 2, 0, 1, 3, 1, 2, 2, 1, 1, 1, 2, 0, 2, 1, 0, 0, 2, 1, 3, 1, 2, 0, 0, 1, 1, 2, 2, 0, 0, 3, 0, 3, 0, 2, 0, 0, 0, 3, 1, 2, 2, 3, 0, 0, 5, 3, 4, 0, 1, 0, 0, 0, 4, 0, 0, 3, 1, 3, 0, 0, 1, 1, 1, 2, 0, 0, 0, 0, 3, 1, 0, 5, 1, 0, 0, 0, 0, 1, 2, 0, 2, 0, 1, 1, 0, 0, 1, 2, 1, 2, 0, 0, 3, 0, 1, 0, 2, 2, 1, 0, 3, 1, 0, 2, 0, 0, 4, 0, 2, 1, 0, 1, 2, 3, 1, 0, 0, 4, 2, 3, 0, 0, 2, 1, 0, 0, 1, 2, 2, 2, 0, 3, 3, 0, 0, 0, 0], \"y\": [2, 0, 0, 1, 1, 0, 0, 1, 3, 1, 3, 0, 2, 0, 0, 2, 3, 3, 2, 2, 3, 2, 0, 3, 1, 0, 3, 1, 1, 2, 2, 3, 2, 1, 2, 1, 1, 2, 3, 2, 3, 0, 0, 0, 3, 2, 3, 1, 0, 0, 3, 1, 2, 0, 1, 1, 3, 0, 0, 1, 3, 0, 1, 1, 1, 2, 2, 1, 0, 0, 0, 3, 2, 0, 2, 1, 0, 0, 3, 1, 3, 3, 0, 1, 2, 1, 1, 2, 1, 1, 0, 1, 3, 1, 2, 0, 2, 0, 3, 2, 2, 3, 3, 0, 2, 1, 2, 1, 0, 0, 1, 2, 2, 1, 3, 3, 0, 0, 0, 1, 2, 3, 1, 3, 1, 3, 2, 2, 1, 2, 3, 3, 2, 1, 3, 0, 2, 1, 0, 2, 3, 3, 0, 1, 1, 0, 1, 0, 1, 2, 1, 0, 3, 3, 3, 1, 0, 3, 0, 0, 1, 0, 2, 2, 1, 3, 2, 1, 1, 3, 0, 2, 3, 2, 1, 2, 1, 2, 2, 3, 1, 0, 3, 1, 0, 3, 0, 2, 2, 1, 0, 2, 0, 1, 0, 1, 2, 0, 1, 3, 1, 0, 1, 0, 2, 3, 0, 3, 2, 3, 2, 1, 1, 0, 2, 2, 1, 0, 0, 0, 2, 3, 2, 2, 0, 0, 0, 0, 3, 3, 1, 0, 2, 2, 1, 0, 0, 0, 1, 0, 3, 3, 2, 2, 3, 1, 0, 0, 2, 3, 3, 2, 0, 2, 3, 3, 1, 0, 1, 1, 2, 0, 3, 1, 0, 0, 0, 3, 2, 3, 0, 2, 1, 3, 1, 3, 1, 2, 0, 0, 3, 3, 3, 3, 2, 0, 3, 1, 3, 0, 2, 3, 0, 0, 2, 3, 2, 0, 1, 1, 3, 3, 0, 0, 2, 1, 2, 0, 3, 1, 2, 2, 0, 0, 2, 3, 1, 3, 1, 3, 1, 3, 2, 3, 2, 3, 0, 1, 2, 2, 3, 1, 1, 3, 3, 2, 0, 1, 3, 0, 2, 1, 3, 3, 0, 0, 0, 3, 0, 1, 1, 2, 2, 3, 0, 2, 0, 1, 0, 0, 3, 2, 2, 2, 0, 3, 3, 1, 1, 3, 1, 3, 3, 2, 0, 1, 3, 0, 1, 0, 3, 3, 0, 0, 3, 2, 0, 1, 1, 1, 3, 1, 3, 3, 3, 1, 2, 0, 2, 0, 2, 0, 1, 1, 2, 3, 0, 2, 0, 0, 1, 3, 3, 2, 1, 0, 0, 2, 0, 1, 0, 0, 3, 3, 2, 0, 3, 3, 3, 1, 2, 1, 2, 2, 1, 0, 3, 2, 0, 3, 1, 2, 0, 0, 1, 2, 3, 1, 2, 2, 2, 1, 2, 1, 0, 2, 0, 1, 2, 0, 0, 2, 3, 3, 1, 0, 2, 1, 3, 0, 0, 3, 2, 3, 2, 1, 3, 1, 0, 0, 1, 0, 0, 2, 2, 3, 1, 2, 0, 1, 2, 0, 3, 2, 2, 3, 2, 2, 0, 2, 2, 3, 0, 0, 0, 1, 1, 1, 3, 2, 3, 0, 3, 2, 2, 2, 0, 1, 2, 3, 3, 0, 3, 0, 0, 0, 1, 2, 3, 3, 0, 3, 0, 0, 0, 3, 2, 2, 0, 0, 2, 0, 0, 0, 1, 1, 3, 2, 3, 0, 2, 0, 2, 1, 3, 2, 3, 0, 1, 1, 1, 3, 2, 0, 0, 1, 1, 1, 2, 1, 2, 0, 0, 3, 3, 1, 0, 3, 2, 3, 3, 1, 0, 0, 2, 0, 3, 1, 3, 0, 2, 1, 0, 3, 0, 3, 0, 3, 2, 1, 0, 1, 2, 0, 1, 0, 3, 1, 3, 2, 0, 2, 3, 3, 0, 0, 3, 2, 0, 2, 2, 2, 2, 3, 1, 1, 3, 0, 2, 1, 2, 2, 0, 3, 2, 3, 1, 3, 3, 0, 2, 1, 3, 1, 0, 3, 1, 3, 3, 3, 0, 0, 0, 0, 0, 0, 2, 1, 3, 3, 0, 0, 3, 0, 0, 0, 2, 1, 3, 0, 0, 3, 0, 0, 0, 1, 0, 1, 2, 1, 2, 2, 2, 1, 2, 3, 3, 0, 2, 0, 3, 2, 1, 1, 2, 1, 3, 0, 1, 0, 0, 3, 0, 1, 1, 2, 0, 1, 3, 3, 0, 0, 1, 3, 2, 2, 1, 1, 1, 1, 3, 2, 2, 2, 3, 0, 1, 3, 3, 0, 0, 2, 2, 3, 2, 1, 0, 2, 3, 2, 3, 0, 3, 0, 1, 1, 2, 1, 2, 1, 0, 1, 1, 0, 3, 3, 3, 0, 3, 0, 3, 2, 2, 3, 3, 1, 2, 2, 2, 1, 2, 2, 3, 1, 1, 0, 1, 3, 0, 1, 2, 0, 0, 2, 0, 2, 3, 1, 3, 0, 0, 2, 3, 0, 1, 1, 0, 3, 2, 3, 0, 0, 2, 0, 0, 1, 1, 1, 0, 3, 2, 1, 0, 3, 0, 0, 1, 2, 3, 1, 2, 1, 0, 0, 1, 3, 0, 3, 3, 1, 2, 1, 1, 1, 1, 0, 2, 3, 3, 1, 2, 3, 0, 0, 3, 0, 2, 0, 2, 1, 3, 1, 3, 3, 3, 2, 0, 1, 0, 2, 2, 2, 1, 3, 2, 2, 0, 2, 3, 2, 2, 0, 0, 2, 3, 1, 2, 0, 2, 2, 2, 1, 3, 3, 1, 0, 3, 1, 2, 1, 1, 0, 3, 0, 3, 2, 3, 1, 0, 1, 3, 0, 3, 0, 2, 3, 3, 0, 2, 2, 1, 3, 1, 2, 1, 0, 1, 3, 2, 0, 2, 2, 2, 1, 2, 3, 2, 2, 0, 0, 0, 2, 2, 2, 0, 2, 3, 1, 0, 0, 0, 0, 3, 1, 0, 2, 2, 3, 1, 2, 3, 0, 1, 2, 1, 0, 0, 1, 3, 1, 1, 2, 0, 3, 1, 2, 1, 1, 3, 0, 0, 3, 1, 2, 0, 3, 0, 0, 3, 0, 3, 3, 2, 3, 3, 2, 1, 1, 3, 3, 2, 3, 2, 0, 1, 3, 2, 0, 3, 1, 1, 2, 2, 2, 3, 1, 3, 1, 3, 3, 2, 0, 0, 1, 2, 1, 1, 2, 1, 1, 2, 0, 0, 0, 0, 2, 1, 1, 2, 3, 1, 0, 3, 3, 1, 2, 0, 1, 3, 1, 1, 3, 3, 2, 3, 1, 3, 0, 1, 2, 1, 3, 3, 2, 1, 1, 2, 0, 0, 1, 0, 0, 0, 1, 2, 2, 0, 3, 1, 0, 0, 3, 1, 3, 3, 0, 2, 3, 0, 0, 0, 1, 1, 2, 1, 2, 3, 1, 0, 2, 0, 3, 2, 1, 2, 3, 3, 0, 3, 0, 3, 2, 0, 0, 2, 0, 1, 1, 2, 0, 3, 0, 0, 1, 3, 0, 3, 0, 0, 1, 2, 0, 1, 3, 3, 1, 2, 0, 2, 2, 0, 2, 3, 1, 1, 1, 2, 1, 0, 1, 0, 2, 0, 0, 2, 1, 2, 1, 2, 2, 3, 1, 0, 1, 1, 3, 0, 1, 3, 2, 1, 0, 0, 3, 1, 3, 0, 2, 2, 1, 3, 2, 0, 1, 1, 2, 1, 2, 3, 0, 3, 1, 2, 3, 0, 3, 1, 1, 3, 2, 1, 3, 3, 1, 1, 1, 1, 0, 1, 2, 1, 1, 1, 3, 0, 1, 2, 2, 3, 2, 1, 0, 3, 2, 1, 3, 0, 0, 2, 1, 3, 0, 0, 0, 3, 0, 3, 0, 0, 3, 1, 2, 1, 2, 0, 1, 3, 1, 3, 0, 0, 0, 1, 0, 0, 2, 2, 2, 0, 3, 3, 2, 2, 2, 0, 2, 1, 1, 1, 3, 3, 2, 0, 2, 3, 0, 2, 3, 2, 2, 1, 1, 0, 0, 0, 2, 3, 1, 3, 1, 0, 1, 3, 0, 2, 3, 3, 2, 2, 0, 3, 2, 0, 1, 3, 2, 3, 0, 1, 1, 0, 1, 2, 2, 3, 0, 3, 1, 2, 2, 1, 1, 2, 2, 1, 3, 2, 0, 3, 1, 1, 3, 0, 0, 1, 3, 3, 0, 3, 2, 0, 2, 2, 1, 3, 0, 2, 1], \"z\": [27.9, 33.77, 33.0, 22.705, 28.88, 25.74, 33.44, 27.74, 29.83, 25.84, 26.22, 26.29, 34.4, 39.82, 42.13, 24.6, 30.78, 23.845, 40.3, 35.3, 36.005, 32.4, 34.1, 31.92, 28.025, 27.72, 23.085, 32.775, 17.385, 36.3, 35.6, 26.315, 28.6, 28.31, 36.4, 20.425, 32.965, 20.8, 36.67, 39.9, 26.6, 36.63, 21.78, 30.8, 37.05, 37.3, 38.665, 34.77, 24.53, 35.2, 35.625, 33.63, 28.0, 34.43, 28.69, 36.955, 31.825, 31.68, 22.88, 37.335, 27.36, 33.66, 24.7, 25.935, 22.42, 28.9, 39.1, 26.315, 36.19, 23.98, 24.75, 28.5, 28.1, 32.01, 27.4, 34.01, 29.59, 35.53, 39.805, 32.965, 26.885, 38.285, 37.62, 41.23, 34.8, 22.895, 31.16, 27.2, 27.74, 26.98, 39.49, 24.795, 29.83, 34.77, 31.3, 37.62, 30.8, 38.28, 19.95, 19.3, 31.6, 25.46, 30.115, 29.92, 27.5, 28.025, 28.4, 30.875, 27.94, 35.09, 33.63, 29.7, 30.8, 35.72, 32.205, 28.595, 49.06, 27.94, 27.17, 23.37, 37.1, 23.75, 28.975, 31.35, 33.915, 28.785, 28.3, 37.4, 17.765, 34.7, 26.505, 22.04, 35.9, 25.555, 28.785, 28.05, 34.1, 25.175, 31.9, 36.0, 22.42, 32.49, 25.3, 29.735, 28.69, 38.83, 30.495, 37.73, 37.43, 28.4, 24.13, 29.7, 37.145, 23.37, 25.46, 39.52, 24.42, 25.175, 35.53, 27.83, 26.6, 36.85, 39.6, 29.8, 29.64, 28.215, 37.0, 33.155, 31.825, 18.905, 41.47, 30.3, 15.96, 34.8, 33.345, 37.7, 27.835, 29.2, 28.9, 33.155, 28.595, 38.28, 19.95, 26.41, 30.69, 41.895, 29.92, 30.9, 32.2, 32.11, 31.57, 26.2, 25.74, 26.6, 34.43, 30.59, 32.8, 28.6, 18.05, 39.33, 32.11, 32.23, 24.035, 36.08, 22.3, 28.88, 26.4, 27.74, 31.8, 41.23, 33.0, 30.875, 28.5, 26.73, 30.9, 37.1, 26.6, 23.1, 29.92, 23.21, 33.7, 33.25, 30.8, 34.8, 24.64, 33.88, 38.06, 41.91, 31.635, 25.46, 36.195, 27.83, 17.8, 27.5, 24.51, 22.22, 26.73, 38.39, 29.07, 38.06, 36.67, 22.135, 26.8, 35.3, 27.74, 30.02, 38.06, 35.86, 20.9, 28.975, 17.29, 32.2, 34.21, 30.3, 31.825, 25.365, 33.63, 40.15, 24.415, 31.92, 25.2, 26.84, 24.32, 36.955, 38.06, 42.35, 19.8, 32.395, 30.2, 25.84, 29.37, 34.2, 37.05, 27.455, 27.55, 26.6, 20.615, 24.3, 31.79, 21.56, 28.12, 40.565, 27.645, 32.395, 31.2, 26.62, 48.07, 26.22, 36.765, 26.4, 33.4, 29.64, 45.54, 28.82, 26.8, 22.99, 27.7, 25.41, 34.39, 28.88, 27.55, 22.61, 37.51, 33.0, 38.0, 33.345, 27.5, 33.33, 34.865, 33.06, 26.6, 24.7, 35.97, 35.86, 31.4, 33.25, 32.205, 32.775, 27.645, 37.335, 25.27, 29.64, 30.8, 40.945, 27.2, 34.105, 23.21, 36.48, 33.8, 36.7, 36.385, 27.36, 31.16, 28.785, 35.72, 34.5, 25.74, 27.55, 32.3, 27.72, 27.6, 30.02, 27.55, 36.765, 41.47, 29.26, 35.75, 33.345, 29.92, 27.835, 23.18, 25.6, 27.7, 35.245, 38.28, 27.6, 43.89, 29.83, 41.91, 20.79, 32.3, 30.5, 21.7, 26.4, 21.89, 30.78, 32.3, 24.985, 32.015, 30.4, 21.09, 22.23, 33.155, 32.9, 33.33, 28.31, 24.89, 40.15, 30.115, 31.46, 17.955, 30.685, 33.0, 43.34, 22.135, 34.4, 39.05, 25.365, 22.61, 30.21, 35.625, 37.43, 31.445, 31.35, 32.3, 19.855, 34.4, 31.02, 25.6, 38.17, 20.6, 47.52, 32.965, 32.3, 20.4, 38.38, 24.31, 23.6, 21.12, 30.03, 17.48, 20.235, 17.195, 23.9, 35.15, 35.64, 34.1, 22.6, 39.16, 26.98, 33.88, 35.86, 32.775, 30.59, 30.2, 24.31, 27.265, 29.165, 16.815, 30.4, 33.1, 20.235, 26.9, 30.5, 28.595, 33.11, 31.73, 28.9, 46.75, 29.45, 32.68, 33.5, 43.01, 36.52, 26.695, 33.1, 29.64, 25.65, 29.6, 38.6, 29.6, 24.13, 23.4, 29.735, 46.53, 37.4, 30.14, 30.495, 39.6, 33.0, 36.63, 30.0, 38.095, 25.935, 25.175, 28.38, 28.7, 33.82, 24.32, 24.09, 32.67, 30.115, 29.8, 33.345, 25.1, 28.31, 28.5, 35.625, 36.85, 32.56, 41.325, 37.51, 31.35, 39.5, 34.3, 31.065, 21.47, 28.7, 38.06, 31.16, 32.9, 25.08, 25.08, 43.4, 25.7, 27.93, 23.6, 28.7, 23.98, 39.2, 34.4, 26.03, 23.21, 30.25, 28.93, 30.875, 31.35, 23.75, 25.27, 28.7, 32.11, 33.66, 22.42, 30.4, 28.3, 35.7, 35.31, 30.495, 31.0, 30.875, 27.36, 44.22, 33.915, 37.73, 26.07, 33.88, 30.59, 25.8, 39.425, 25.46, 42.13, 31.73, 29.7, 36.19, 40.48, 28.025, 38.9, 30.2, 28.05, 31.35, 38.0, 31.79, 36.3, 47.41, 30.21, 25.84, 35.435, 46.7, 28.595, 46.2, 30.8, 28.93, 21.4, 31.73, 41.325, 23.8, 33.44, 34.21, 34.105, 35.53, 19.95, 32.68, 30.5, 44.77, 32.12, 30.495, 40.565, 30.59, 31.9, 40.565, 29.1, 37.29, 43.12, 36.86, 34.295, 27.17, 26.84, 38.095, 30.2, 23.465, 25.46, 30.59, 45.43, 23.65, 20.7, 28.27, 20.235, 30.21, 35.91, 30.69, 29.0, 19.57, 31.13, 21.85, 40.26, 33.725, 29.48, 33.25, 32.6, 37.525, 39.16, 31.635, 25.3, 39.05, 28.31, 34.1, 25.175, 23.655, 26.98, 37.8, 29.37, 34.8, 33.155, 19.0, 33.0, 36.63, 28.595, 25.6, 33.11, 37.1, 31.4, 34.1, 21.3, 33.535, 28.785, 26.03, 28.88, 42.46, 38.0, 38.95, 36.1, 29.3, 35.53, 22.705, 39.7, 38.19, 24.51, 38.095, 26.41, 33.66, 42.4, 28.31, 33.915, 34.96, 35.31, 30.78, 26.22, 23.37, 28.5, 32.965, 42.68, 39.6, 31.13, 36.3, 35.2, 25.3, 42.4, 33.155, 35.91, 28.785, 46.53, 23.98, 31.54, 33.66, 22.99, 38.06, 28.7, 32.775, 32.015, 29.81, 31.57, 31.16, 29.7, 31.02, 43.89, 21.375, 40.81, 31.35, 36.1, 23.18, 17.4, 20.3, 35.3, 24.32, 18.5, 26.41, 26.125, 41.69, 24.1, 31.13, 27.36, 36.2, 32.395, 23.655, 34.8, 40.185, 32.3, 35.75, 33.725, 39.27, 34.87, 44.745, 41.47, 26.41, 29.545, 32.9, 38.06, 28.69, 30.495, 27.74, 35.2, 23.54, 30.685, 40.47, 22.6, 28.9, 22.61, 24.32, 36.67, 33.44, 40.66, 36.6, 37.4, 35.4, 27.075, 39.05, 28.405, 21.755, 40.28, 36.08, 24.42, 21.4, 30.1, 27.265, 32.1, 34.77, 38.39, 23.7, 31.73, 35.5, 24.035, 29.15, 34.105, 26.62, 26.41, 30.115, 27.0, 21.755, 36.0, 30.875, 26.4, 28.975, 37.905, 22.77, 33.63, 27.645, 22.8, 27.83, 37.43, 38.17, 34.58, 35.2, 27.1, 26.03, 25.175, 31.825, 32.3, 29.0, 39.7, 19.475, 36.1, 26.7, 36.48, 28.88, 34.2, 33.33, 32.3, 39.805, 34.32, 28.88, 24.4, 41.14, 35.97, 27.6, 29.26, 27.7, 36.955, 36.86, 22.515, 29.92, 41.8, 27.6, 23.18, 20.9, 31.92, 28.5, 44.22, 22.895, 33.1, 24.795, 26.18, 35.97, 22.3, 42.24, 26.51, 35.815, 41.42, 36.575, 30.14, 25.84, 30.8, 42.94, 21.01, 22.515, 34.43, 31.46, 24.225, 37.1, 26.125, 35.53, 33.7, 17.67, 31.13, 29.81, 24.32, 31.825, 31.79, 28.025, 30.78, 21.85, 33.1, 25.84, 23.845, 34.39, 33.82, 35.97, 31.5, 28.31, 23.465, 31.35, 31.1, 24.7, 32.78, 29.81, 30.495, 32.45, 34.2, 50.38, 24.1, 32.775, 30.78, 32.3, 35.53, 23.75, 23.845, 29.6, 33.11, 24.13, 32.23, 28.1, 47.6, 28.0, 33.535, 19.855, 25.4, 29.9, 37.29, 43.7, 23.655, 24.3, 36.2, 29.48, 24.86, 30.1, 21.85, 28.12, 27.1, 33.44, 28.8, 29.5, 34.8, 27.36, 22.135, 37.05, 26.695, 28.93, 28.975, 30.02, 39.5, 33.63, 26.885, 29.04, 24.035, 38.94, 32.11, 44.0, 20.045, 25.555, 40.26, 22.515, 22.515, 40.92, 27.265, 36.85, 35.1, 29.355, 32.585, 32.34, 39.8, 24.6, 28.31, 31.73, 26.695, 27.5, 24.605, 33.99, 26.885, 22.895, 28.2, 34.21, 25.0, 33.2, 31.0, 35.815, 23.2, 32.11, 23.4, 20.1, 39.16, 34.21, 46.53, 32.5, 25.8, 35.3, 37.18, 27.5, 29.735, 24.225, 26.18, 29.48, 23.21, 46.09, 40.185, 22.61, 39.93, 35.8, 35.8, 34.2, 31.255, 29.7, 18.335, 42.9, 28.405, 30.2, 27.835, 39.49, 30.8, 26.79, 34.96, 36.67, 39.615, 25.9, 35.2, 24.795, 36.765, 27.1, 24.795, 25.365, 25.745, 34.32, 28.16, 23.56, 20.235, 40.5, 35.42, 22.895, 40.15, 29.15, 39.995, 29.92, 25.46, 21.375, 25.9, 30.59, 30.115, 25.8, 30.115, 27.645, 34.675, 20.52, 19.8, 27.835, 31.6, 28.27, 20.045, 23.275, 34.1, 36.85, 36.29, 26.885, 22.99, 32.7, 25.8, 29.6, 19.19, 31.73, 29.26, 28.215, 24.985, 27.74, 22.8, 20.13, 33.33, 32.3, 27.6, 25.46, 24.605, 34.2, 35.815, 32.68, 37.0, 31.02, 36.08, 23.32, 45.32, 34.6, 26.03, 18.715, 31.6, 17.29, 23.655, 35.2, 27.93, 21.565, 38.38, 23.0, 37.07, 30.495, 28.88, 27.265, 28.025, 23.085, 30.685, 25.8, 35.245, 24.7, 25.08, 52.58, 22.515, 30.9, 36.955, 26.41, 29.83, 29.8, 21.47, 27.645, 28.9, 31.79, 39.49, 33.82, 32.01, 27.94, 41.14, 28.595, 25.6, 25.3, 37.29, 42.655, 21.66, 31.9, 37.07, 31.445, 31.255, 28.88, 18.335, 29.59, 32.0, 26.03, 31.68, 33.66, 21.78, 27.835, 19.95, 31.5, 30.495, 18.3, 28.975, 31.54, 47.74, 22.1, 36.19, 29.83, 32.7, 30.4, 33.7, 31.35, 34.96, 33.77, 30.875, 33.99, 19.095, 28.6, 38.94, 36.08, 29.8, 31.24, 29.925, 26.22, 30.0, 20.35, 32.3, 38.39, 25.85, 26.315, 24.51, 32.67, 29.64, 33.33, 35.75, 19.95, 31.4, 38.17, 36.86, 32.395, 42.75, 25.08, 29.9, 35.86, 32.8, 18.6, 23.87, 45.9, 40.28, 18.335, 33.82, 28.12, 25.0, 22.23, 30.25, 32.49, 37.07, 32.6, 24.86, 32.34, 32.3, 32.775, 32.8, 31.92, 21.5, 34.1, 30.305, 36.48, 32.56, 35.815, 27.93, 22.135, 44.88, 23.18, 30.59, 41.1, 34.58, 42.13, 38.83, 28.215, 28.31, 26.125, 40.37, 24.6, 35.2, 34.105, 27.36, 26.7, 41.91, 29.26, 32.11, 27.1, 24.13, 27.4, 34.865, 29.81, 41.325, 29.925, 30.3, 27.36, 28.49, 23.56, 35.625, 32.68, 25.27, 28.0, 32.775, 21.755, 32.395, 36.575, 21.755, 27.93, 30.02, 33.55, 29.355, 25.8, 24.32, 40.375, 32.11, 32.3, 27.28, 17.86, 34.8, 33.4, 25.555, 37.1, 30.875, 34.1, 21.47, 33.3, 31.255, 39.14, 25.08, 37.29, 34.6, 30.21, 21.945, 24.97, 25.3, 24.42, 23.94, 39.82, 16.815, 37.18, 34.43, 30.305, 34.485, 21.8, 24.605, 23.3, 27.83, 31.065, 21.66, 28.215, 22.705, 42.13, 41.8, 36.96, 21.28, 33.11, 33.33, 24.3, 25.7, 29.4, 39.82, 33.63, 29.83, 19.8, 27.3, 29.3, 27.72, 37.9, 36.385, 27.645, 37.715, 23.18, 20.52, 37.1, 28.05, 29.9, 33.345, 23.76, 30.5, 31.065, 33.3, 27.5, 33.915, 34.485, 25.52, 27.61, 27.06, 23.7, 30.4, 29.735, 29.925, 26.79, 33.33, 27.645, 21.66, 30.03, 36.3, 24.32, 17.29, 25.9, 39.4, 34.32, 19.95, 34.9, 23.21, 25.745, 25.175, 22.0, 26.125, 26.51, 27.455, 25.745, 30.36, 30.875, 20.8, 27.8, 24.605, 27.72, 21.85, 28.12, 30.2, 32.2, 26.315, 26.695, 42.9, 34.7, 23.655, 28.31, 20.6, 53.13, 39.71, 26.315, 31.065, 26.695, 38.83, 40.37, 25.935, 33.535, 32.87, 30.03, 24.225, 38.6, 25.74, 33.4, 44.7, 30.97, 31.92, 36.85, 25.8, 29.07]}],\n",
              "                        {\"coloraxis\": {\"colorbar\": {\"title\": {\"text\": \"charges\"}}, \"colorscale\": [[0.0, \"#0d0887\"], [0.1111111111111111, \"#46039f\"], [0.2222222222222222, \"#7201a8\"], [0.3333333333333333, \"#9c179e\"], [0.4444444444444444, \"#bd3786\"], [0.5555555555555556, \"#d8576b\"], [0.6666666666666666, \"#ed7953\"], [0.7777777777777778, \"#fb9f3a\"], [0.8888888888888888, \"#fdca26\"], [1.0, \"#f0f921\"]]}, \"legend\": {\"tracegroupgap\": 0}, \"margin\": {\"t\": 60}, \"scene\": {\"domain\": {\"x\": [0.0, 1.0], \"y\": [0.0, 1.0]}, \"xaxis\": {\"title\": {\"text\": \"children\"}}, \"yaxis\": {\"title\": {\"text\": \"region\"}}, \"zaxis\": {\"title\": {\"text\": \"bmi\"}}}, \"template\": {\"data\": {\"bar\": [{\"error_x\": {\"color\": \"#2a3f5f\"}, \"error_y\": {\"color\": \"#2a3f5f\"}, \"marker\": {\"line\": {\"color\": \"#E5ECF6\", \"width\": 0.5}}, \"type\": \"bar\"}], \"barpolar\": [{\"marker\": {\"line\": {\"color\": \"#E5ECF6\", \"width\": 0.5}}, \"type\": \"barpolar\"}], \"carpet\": [{\"aaxis\": {\"endlinecolor\": \"#2a3f5f\", \"gridcolor\": \"white\", \"linecolor\": \"white\", \"minorgridcolor\": \"white\", \"startlinecolor\": \"#2a3f5f\"}, \"baxis\": {\"endlinecolor\": \"#2a3f5f\", \"gridcolor\": \"white\", \"linecolor\": \"white\", \"minorgridcolor\": \"white\", \"startlinecolor\": \"#2a3f5f\"}, \"type\": \"carpet\"}], \"choropleth\": [{\"colorbar\": {\"outlinewidth\": 0, \"ticks\": \"\"}, \"type\": \"choropleth\"}], \"contour\": [{\"colorbar\": {\"outlinewidth\": 0, \"ticks\": \"\"}, \"colorscale\": [[0.0, \"#0d0887\"], [0.1111111111111111, \"#46039f\"], [0.2222222222222222, \"#7201a8\"], [0.3333333333333333, \"#9c179e\"], [0.4444444444444444, \"#bd3786\"], [0.5555555555555556, \"#d8576b\"], [0.6666666666666666, \"#ed7953\"], [0.7777777777777778, \"#fb9f3a\"], [0.8888888888888888, \"#fdca26\"], [1.0, \"#f0f921\"]], \"type\": \"contour\"}], \"contourcarpet\": [{\"colorbar\": {\"outlinewidth\": 0, \"ticks\": \"\"}, \"type\": \"contourcarpet\"}], \"heatmap\": [{\"colorbar\": {\"outlinewidth\": 0, \"ticks\": \"\"}, \"colorscale\": [[0.0, \"#0d0887\"], [0.1111111111111111, \"#46039f\"], [0.2222222222222222, \"#7201a8\"], [0.3333333333333333, \"#9c179e\"], [0.4444444444444444, \"#bd3786\"], [0.5555555555555556, \"#d8576b\"], [0.6666666666666666, \"#ed7953\"], [0.7777777777777778, \"#fb9f3a\"], [0.8888888888888888, \"#fdca26\"], [1.0, \"#f0f921\"]], \"type\": \"heatmap\"}], \"heatmapgl\": [{\"colorbar\": {\"outlinewidth\": 0, \"ticks\": \"\"}, \"colorscale\": [[0.0, \"#0d0887\"], [0.1111111111111111, \"#46039f\"], [0.2222222222222222, \"#7201a8\"], [0.3333333333333333, \"#9c179e\"], [0.4444444444444444, \"#bd3786\"], [0.5555555555555556, \"#d8576b\"], [0.6666666666666666, \"#ed7953\"], [0.7777777777777778, \"#fb9f3a\"], [0.8888888888888888, \"#fdca26\"], [1.0, \"#f0f921\"]], \"type\": \"heatmapgl\"}], \"histogram\": [{\"marker\": {\"colorbar\": {\"outlinewidth\": 0, \"ticks\": \"\"}}, \"type\": \"histogram\"}], \"histogram2d\": [{\"colorbar\": {\"outlinewidth\": 0, \"ticks\": \"\"}, \"colorscale\": [[0.0, \"#0d0887\"], [0.1111111111111111, \"#46039f\"], [0.2222222222222222, \"#7201a8\"], [0.3333333333333333, \"#9c179e\"], [0.4444444444444444, \"#bd3786\"], [0.5555555555555556, \"#d8576b\"], [0.6666666666666666, \"#ed7953\"], [0.7777777777777778, \"#fb9f3a\"], [0.8888888888888888, \"#fdca26\"], [1.0, \"#f0f921\"]], \"type\": \"histogram2d\"}], \"histogram2dcontour\": [{\"colorbar\": {\"outlinewidth\": 0, \"ticks\": \"\"}, \"colorscale\": [[0.0, \"#0d0887\"], [0.1111111111111111, \"#46039f\"], [0.2222222222222222, \"#7201a8\"], [0.3333333333333333, \"#9c179e\"], [0.4444444444444444, \"#bd3786\"], [0.5555555555555556, \"#d8576b\"], [0.6666666666666666, \"#ed7953\"], [0.7777777777777778, \"#fb9f3a\"], [0.8888888888888888, \"#fdca26\"], [1.0, \"#f0f921\"]], \"type\": \"histogram2dcontour\"}], \"mesh3d\": [{\"colorbar\": {\"outlinewidth\": 0, \"ticks\": \"\"}, \"type\": \"mesh3d\"}], \"parcoords\": [{\"line\": {\"colorbar\": {\"outlinewidth\": 0, \"ticks\": \"\"}}, \"type\": \"parcoords\"}], \"pie\": [{\"automargin\": true, \"type\": \"pie\"}], \"scatter\": [{\"marker\": {\"colorbar\": {\"outlinewidth\": 0, \"ticks\": \"\"}}, \"type\": \"scatter\"}], \"scatter3d\": [{\"line\": {\"colorbar\": {\"outlinewidth\": 0, \"ticks\": \"\"}}, \"marker\": {\"colorbar\": {\"outlinewidth\": 0, \"ticks\": \"\"}}, \"type\": \"scatter3d\"}], \"scattercarpet\": [{\"marker\": {\"colorbar\": {\"outlinewidth\": 0, \"ticks\": \"\"}}, \"type\": \"scattercarpet\"}], \"scattergeo\": [{\"marker\": {\"colorbar\": {\"outlinewidth\": 0, \"ticks\": \"\"}}, \"type\": \"scattergeo\"}], \"scattergl\": [{\"marker\": {\"colorbar\": {\"outlinewidth\": 0, \"ticks\": \"\"}}, \"type\": \"scattergl\"}], \"scattermapbox\": [{\"marker\": {\"colorbar\": {\"outlinewidth\": 0, \"ticks\": \"\"}}, \"type\": \"scattermapbox\"}], \"scatterpolar\": [{\"marker\": {\"colorbar\": {\"outlinewidth\": 0, \"ticks\": \"\"}}, \"type\": \"scatterpolar\"}], \"scatterpolargl\": [{\"marker\": {\"colorbar\": {\"outlinewidth\": 0, \"ticks\": \"\"}}, \"type\": \"scatterpolargl\"}], \"scatterternary\": [{\"marker\": {\"colorbar\": {\"outlinewidth\": 0, \"ticks\": \"\"}}, \"type\": \"scatterternary\"}], \"surface\": [{\"colorbar\": {\"outlinewidth\": 0, \"ticks\": \"\"}, \"colorscale\": [[0.0, \"#0d0887\"], [0.1111111111111111, \"#46039f\"], [0.2222222222222222, \"#7201a8\"], [0.3333333333333333, \"#9c179e\"], [0.4444444444444444, \"#bd3786\"], [0.5555555555555556, \"#d8576b\"], [0.6666666666666666, \"#ed7953\"], [0.7777777777777778, \"#fb9f3a\"], [0.8888888888888888, \"#fdca26\"], [1.0, \"#f0f921\"]], \"type\": \"surface\"}], \"table\": [{\"cells\": {\"fill\": {\"color\": \"#EBF0F8\"}, \"line\": {\"color\": \"white\"}}, \"header\": {\"fill\": {\"color\": \"#C8D4E3\"}, \"line\": {\"color\": \"white\"}}, \"type\": \"table\"}]}, \"layout\": {\"annotationdefaults\": {\"arrowcolor\": \"#2a3f5f\", \"arrowhead\": 0, \"arrowwidth\": 1}, \"coloraxis\": {\"colorbar\": {\"outlinewidth\": 0, \"ticks\": \"\"}}, \"colorscale\": {\"diverging\": [[0, \"#8e0152\"], [0.1, \"#c51b7d\"], [0.2, \"#de77ae\"], [0.3, \"#f1b6da\"], [0.4, \"#fde0ef\"], [0.5, \"#f7f7f7\"], [0.6, \"#e6f5d0\"], [0.7, \"#b8e186\"], [0.8, \"#7fbc41\"], [0.9, \"#4d9221\"], [1, \"#276419\"]], \"sequential\": [[0.0, \"#0d0887\"], [0.1111111111111111, \"#46039f\"], [0.2222222222222222, \"#7201a8\"], [0.3333333333333333, \"#9c179e\"], [0.4444444444444444, \"#bd3786\"], [0.5555555555555556, \"#d8576b\"], [0.6666666666666666, \"#ed7953\"], [0.7777777777777778, \"#fb9f3a\"], [0.8888888888888888, \"#fdca26\"], [1.0, \"#f0f921\"]], \"sequentialminus\": [[0.0, \"#0d0887\"], [0.1111111111111111, \"#46039f\"], [0.2222222222222222, \"#7201a8\"], [0.3333333333333333, \"#9c179e\"], [0.4444444444444444, \"#bd3786\"], [0.5555555555555556, \"#d8576b\"], [0.6666666666666666, \"#ed7953\"], [0.7777777777777778, \"#fb9f3a\"], [0.8888888888888888, \"#fdca26\"], [1.0, \"#f0f921\"]]}, \"colorway\": [\"#636efa\", \"#EF553B\", \"#00cc96\", \"#ab63fa\", \"#FFA15A\", \"#19d3f3\", \"#FF6692\", \"#B6E880\", \"#FF97FF\", \"#FECB52\"], \"font\": {\"color\": \"#2a3f5f\"}, \"geo\": {\"bgcolor\": \"white\", \"lakecolor\": \"white\", \"landcolor\": \"#E5ECF6\", \"showlakes\": true, \"showland\": true, \"subunitcolor\": \"white\"}, \"hoverlabel\": {\"align\": \"left\"}, \"hovermode\": \"closest\", \"mapbox\": {\"style\": \"light\"}, \"paper_bgcolor\": \"white\", \"plot_bgcolor\": \"#E5ECF6\", \"polar\": {\"angularaxis\": {\"gridcolor\": \"white\", \"linecolor\": \"white\", \"ticks\": \"\"}, \"bgcolor\": \"#E5ECF6\", \"radialaxis\": {\"gridcolor\": \"white\", \"linecolor\": \"white\", \"ticks\": \"\"}}, \"scene\": {\"xaxis\": {\"backgroundcolor\": \"#E5ECF6\", \"gridcolor\": \"white\", \"gridwidth\": 2, \"linecolor\": \"white\", \"showbackground\": true, \"ticks\": \"\", \"zerolinecolor\": \"white\"}, \"yaxis\": {\"backgroundcolor\": \"#E5ECF6\", \"gridcolor\": \"white\", \"gridwidth\": 2, \"linecolor\": \"white\", \"showbackground\": true, \"ticks\": \"\", \"zerolinecolor\": \"white\"}, \"zaxis\": {\"backgroundcolor\": \"#E5ECF6\", \"gridcolor\": \"white\", \"gridwidth\": 2, \"linecolor\": \"white\", \"showbackground\": true, \"ticks\": \"\", \"zerolinecolor\": \"white\"}}, \"shapedefaults\": {\"line\": {\"color\": \"#2a3f5f\"}}, \"ternary\": {\"aaxis\": {\"gridcolor\": \"white\", \"linecolor\": \"white\", \"ticks\": \"\"}, \"baxis\": {\"gridcolor\": \"white\", \"linecolor\": \"white\", \"ticks\": \"\"}, \"bgcolor\": \"#E5ECF6\", \"caxis\": {\"gridcolor\": \"white\", \"linecolor\": \"white\", \"ticks\": \"\"}}, \"title\": {\"x\": 0.05}, \"xaxis\": {\"automargin\": true, \"gridcolor\": \"white\", \"linecolor\": \"white\", \"ticks\": \"\", \"title\": {\"standoff\": 15}, \"zerolinecolor\": \"white\", \"zerolinewidth\": 2}, \"yaxis\": {\"automargin\": true, \"gridcolor\": \"white\", \"linecolor\": \"white\", \"ticks\": \"\", \"title\": {\"standoff\": 15}, \"zerolinecolor\": \"white\", \"zerolinewidth\": 2}}}},\n",
              "                        {\"responsive\": true}\n",
              "                    ).then(function(){\n",
              "                            \n",
              "var gd = document.getElementById('000b3250-c0cf-4646-a4d8-90563bfdb00f');\n",
              "var x = new MutationObserver(function (mutations, observer) {{\n",
              "        var display = window.getComputedStyle(gd).display;\n",
              "        if (!display || display === 'none') {{\n",
              "            console.log([gd, 'removed!']);\n",
              "            Plotly.purge(gd);\n",
              "            observer.disconnect();\n",
              "        }}\n",
              "}});\n",
              "\n",
              "// Listen for the removal of the full notebook cells\n",
              "var notebookContainer = gd.closest('#notebook-container');\n",
              "if (notebookContainer) {{\n",
              "    x.observe(notebookContainer, {childList: true});\n",
              "}}\n",
              "\n",
              "// Listen for the clearing of the current output cell\n",
              "var outputEl = gd.closest('.output');\n",
              "if (outputEl) {{\n",
              "    x.observe(outputEl, {childList: true});\n",
              "}}\n",
              "\n",
              "                        })\n",
              "                };\n",
              "                \n",
              "            </script>\n",
              "        </div>\n",
              "</body>\n",
              "</html>"
            ]
          },
          "metadata": {
            "tags": []
          }
        }
      ]
    },
    {
      "cell_type": "markdown",
      "metadata": {
        "id": "LSjzn3igkB7m"
      },
      "source": [
        "- Se puede apreciar que la única variable que afecta de manera apreciable (aunque no demasiado) es bmi (indice de masa corporal) representada en el eje y ya que a más altura del gráfico se puede observar un pequeño incremento de colores claros que representan un mayor coste del seguro (variable charges).\r\n",
        "Esto coincide con el valor encontrado en la matriz de correlación"
      ]
    },
    {
      "cell_type": "markdown",
      "metadata": {
        "id": "v-CqUquElLZe"
      },
      "source": [
        "## Conclusiones sobbre nuestros datos"
      ]
    },
    {
      "cell_type": "markdown",
      "metadata": {
        "id": "RueZiEkqlOul"
      },
      "source": [
        "- Los datos no presentan valores no válidos\r\n",
        "- El dataset presenta unos pocos outliders en la variable target\r\n",
        "- La varaible smoker es la que más influye con diferencia\r\n",
        "- Las varibles age y bmi influyen sobre el coste del seguro pero bastante menos que smoker\r\n",
        "- Las otras variables no afectan de manera excesivamente significante"
      ]
    },
    {
      "cell_type": "markdown",
      "metadata": {
        "id": "o7MnTPfinaiH"
      },
      "source": [
        "# Random forest"
      ]
    },
    {
      "cell_type": "markdown",
      "metadata": {
        "id": "qfUJqkiCB1u7"
      },
      "source": [
        "## Preparación de conjuntos de datos"
      ]
    },
    {
      "cell_type": "code",
      "metadata": {
        "id": "pCEGLea4jDmQ"
      },
      "source": [
        "# Herramientas para separar datos y tunear el modelo\r\n",
        "from sklearn.model_selection import train_test_split, RandomizedSearchCV \r\n",
        "#Modelo\r\n",
        "from sklearn.ensemble import RandomForestRegressor"
      ],
      "execution_count": null,
      "outputs": []
    },
    {
      "cell_type": "code",
      "metadata": {
        "id": "PXCeOxw5oYkp"
      },
      "source": [
        "df_mod = df_cat.copy()"
      ],
      "execution_count": null,
      "outputs": []
    },
    {
      "cell_type": "markdown",
      "metadata": {
        "id": "VIStXzG7os35"
      },
      "source": [
        "Separamos en conjunto de test, conjunto de entrenamiento y variable objetivo"
      ]
    },
    {
      "cell_type": "code",
      "metadata": {
        "id": "uWiu8jCQn3Q0"
      },
      "source": [
        "#Variable objetivo\r\n",
        "y = df_mod['charges']\r\n",
        "X = df_mod.drop('charges', axis = 1)\r\n",
        "#Train test spkit\r\n",
        "X_train, X_test, y_train, y_test = train_test_split(X,y, test_size = 0.2)"
      ],
      "execution_count": null,
      "outputs": []
    },
    {
      "cell_type": "markdown",
      "metadata": {
        "id": "q_uadvm3H1ox"
      },
      "source": [
        "## Eliminamos posibles outliders del conjunto de entrenamiento \r\n",
        "- Elegimos la franja >45k basándosnos en el boxplot"
      ]
    },
    {
      "cell_type": "code",
      "metadata": {
        "id": "Tu33JXbWJPjE"
      },
      "source": [
        "y_train = y_train.reset_index()\r\n",
        "X_train = X_train.reset_index()\r\n",
        "\r\n",
        "y_train.drop('index', axis = 1, inplace = True)\r\n",
        "X_train.drop('index', axis = 1, inplace = True)"
      ],
      "execution_count": null,
      "outputs": []
    },
    {
      "cell_type": "code",
      "metadata": {
        "id": "3pcBp8PuIxea"
      },
      "source": [
        "X_train.drop(X_train.iloc[y_train[y_train['charges'] > 45000].index].index, inplace = True)\r\n",
        "y_train.drop(y_train[y_train['charges'] > 45000].index, inplace = True)"
      ],
      "execution_count": null,
      "outputs": []
    },
    {
      "cell_type": "code",
      "metadata": {
        "colab": {
          "base_uri": "https://localhost:8080/"
        },
        "id": "tMO2S1n8Od_x",
        "outputId": "7d3dc740-ea6e-447b-d600-a4c494ee99f8"
      },
      "source": [
        "y_train.shape[0] == X_train.shape[0]"
      ],
      "execution_count": null,
      "outputs": [
        {
          "output_type": "execute_result",
          "data": {
            "text/plain": [
              "True"
            ]
          },
          "metadata": {
            "tags": []
          },
          "execution_count": 272
        }
      ]
    },
    {
      "cell_type": "markdown",
      "metadata": {
        "id": "1yNY4W0QBwo_"
      },
      "source": [
        "### Escalado de los datos"
      ]
    },
    {
      "cell_type": "code",
      "metadata": {
        "id": "daPheNkfB0nY"
      },
      "source": [
        "from sklearn.preprocessing import StandardScaler\r\n",
        "st = StandardScaler()\r\n",
        "X_train = st.fit_transform(X_train)\r\n",
        "X_test = st.transform(X_test)"
      ],
      "execution_count": null,
      "outputs": []
    },
    {
      "cell_type": "markdown",
      "metadata": {
        "id": "OIMhQFG8o4F5"
      },
      "source": [
        "## Creamos el modelo"
      ]
    },
    {
      "cell_type": "code",
      "metadata": {
        "id": "E1XpMbPbvET-"
      },
      "source": [
        "import time"
      ],
      "execution_count": null,
      "outputs": []
    },
    {
      "cell_type": "code",
      "metadata": {
        "colab": {
          "base_uri": "https://localhost:8080/"
        },
        "id": "GwZZbBPIo5Rm",
        "outputId": "0ac61748-57d3-4f16-fe15-1c9c830c711f"
      },
      "source": [
        "my_forest = RandomForestRegressor(random_state= 382763)\r\n",
        "my_grid = { \r\n",
        "    'n_estimators': [100, 200, 500,1000,2000,3000],\r\n",
        "    'max_features': ['auto', 'sqrt', 'log2'],\r\n",
        "    'max_depth' : [4,5,6,7,8,9], \r\n",
        "    'ccp_alpha': np.logspace(0, 1, 50),\r\n",
        "    'max_samples': [x for x in range(5,21)], \r\n",
        "}\r\n",
        "\r\n",
        "grid_forest = RandomizedSearchCV(my_forest,my_grid, scoring = 'r2', cv = 100)\r\n",
        "\r\n",
        "start = time.time()\r\n",
        "grid_forest.fit(X_train, np.ravel(y_train))\r\n",
        "end = time.time()\r\n",
        "\r\n",
        "print(\"Training time: {}\".format(end-start))"
      ],
      "execution_count": null,
      "outputs": [
        {
          "output_type": "stream",
          "text": [
            "Training time: 1565.5078978538513\n"
          ],
          "name": "stdout"
        }
      ]
    },
    {
      "cell_type": "code",
      "metadata": {
        "colab": {
          "base_uri": "https://localhost:8080/"
        },
        "id": "Qk82EIZeuqSM",
        "outputId": "d94e829c-1ff7-43d0-a3c9-645cd9bf9ad0"
      },
      "source": [
        "grid_forest.best_params_"
      ],
      "execution_count": null,
      "outputs": [
        {
          "output_type": "execute_result",
          "data": {
            "text/plain": [
              "{'ccp_alpha': 4.941713361323834,\n",
              " 'max_depth': 6,\n",
              " 'max_features': 'auto',\n",
              " 'max_samples': 19,\n",
              " 'n_estimators': 500}"
            ]
          },
          "metadata": {
            "tags": []
          },
          "execution_count": 276
        }
      ]
    },
    {
      "cell_type": "markdown",
      "metadata": {
        "id": "0_vQm0BU0LbR"
      },
      "source": [
        "## Evaluamos el modelo"
      ]
    },
    {
      "cell_type": "code",
      "metadata": {
        "id": "1Ln7rWgx0nlL"
      },
      "source": [
        "from sklearn.metrics import mean_absolute_error, mean_squared_error, r2_score"
      ],
      "execution_count": null,
      "outputs": []
    },
    {
      "cell_type": "code",
      "metadata": {
        "colab": {
          "base_uri": "https://localhost:8080/"
        },
        "id": "nKKwLchxu2R4",
        "outputId": "276e2b4e-a1d0-4d53-fb39-f63021d5aa45"
      },
      "source": [
        "prediction = grid_forest.best_estimator_.predict(X_test)\r\n",
        "\r\n",
        "\r\n",
        "mae = mean_absolute_error(prediction, y_test)\r\n",
        "mse = mean_squared_error(prediction, y_test)\r\n",
        "r2 = r2_score(prediction, y_test)\r\n",
        "score = grid_forest.best_estimator_.score(X_test,y_test)\r\n",
        "\r\n",
        "print(\"Mean absolute error: {}\".format(mae))\r\n",
        "print(\"Mean squared error: {}\".format(mse))\r\n",
        "print(\"r2 score: {}\".format(r2))\r\n",
        "print(\"Score: {}\".format(score))\r\n"
      ],
      "execution_count": null,
      "outputs": [
        {
          "output_type": "stream",
          "text": [
            "Mean absolute error: 4001.6310981234574\n",
            "Mean squared error: 37174188.72047647\n",
            "r2 score: 0.5024596614895368\n",
            "Score: 0.7659218699385701\n"
          ],
          "name": "stdout"
        }
      ]
    },
    {
      "cell_type": "markdown",
      "metadata": {
        "id": "KUJlOSFAelRD"
      },
      "source": [
        "# Interpretación del modelo"
      ]
    },
    {
      "cell_type": "code",
      "metadata": {
        "id": "n-mlI48p122F"
      },
      "source": [
        "from treeinterpreter import treeinterpreter as ti\r\n",
        "\r\n",
        "prediction, bias, contributions = ti.predict(grid_forest.best_estimator_, X_test)"
      ],
      "execution_count": null,
      "outputs": []
    },
    {
      "cell_type": "code",
      "metadata": {
        "colab": {
          "base_uri": "https://localhost:8080/"
        },
        "id": "xvvRtywqv8Ha",
        "outputId": "d932f0d8-e864-4328-f034-122c9baf1dec"
      },
      "source": [
        "y_test.iloc[2]"
      ],
      "execution_count": null,
      "outputs": [
        {
          "output_type": "execute_result",
          "data": {
            "text/plain": [
              "20709.02034"
            ]
          },
          "metadata": {
            "tags": []
          },
          "execution_count": 280
        }
      ]
    },
    {
      "cell_type": "code",
      "metadata": {
        "colab": {
          "base_uri": "https://localhost:8080/"
        },
        "id": "z6Sa0b96e4Sy",
        "outputId": "cde535c0-313a-4cba-e6cf-412e819645c4"
      },
      "source": [
        "for i in range(3):\r\n",
        "    print(\"Instance\", i)\r\n",
        "    print(\"Predicted value: {}\".format(prediction[i][0]))\r\n",
        "    print(\"Real value: {}\".format(y_test.iloc[i]))\r\n",
        "    print(\"Bias (trainset mean)\", bias[i])\r\n",
        "    print(\"Feature contributions:\")\r\n",
        "    for c, feature in sorted(zip(contributions[i], \r\n",
        "                                 df.columns), \r\n",
        "                             key=lambda x: -abs(x[0])):\r\n",
        "        print(feature, round(c, 2))\r\n",
        "    print(\"-\"*40)"
      ],
      "execution_count": null,
      "outputs": [
        {
          "output_type": "stream",
          "text": [
            "Instance 0\n",
            "Predicted value: 7185.533698381331\n",
            "Real value: 4646.759\n",
            "Bias (trainset mean) 12359.596379103265\n",
            "Feature contributions:\n",
            "smoker -3536.83\n",
            "age -1214.32\n",
            "children -305.59\n",
            "bmi -125.4\n",
            "region 24.98\n",
            "sex -16.9\n",
            "----------------------------------------\n",
            "Instance 1\n",
            "Predicted value: 26192.208941410023\n",
            "Real value: 26926.5144\n",
            "Bias (trainset mean) 12359.596379103265\n",
            "Feature contributions:\n",
            "smoker 14609.73\n",
            "bmi -3219.42\n",
            "age 1897.37\n",
            "region 355.72\n",
            "sex 97.33\n",
            "children 91.89\n",
            "----------------------------------------\n",
            "Instance 2\n",
            "Predicted value: 14431.455166551665\n",
            "Real value: 20709.02034\n",
            "Bias (trainset mean) 12359.596379103265\n",
            "Feature contributions:\n",
            "age 4390.69\n",
            "smoker -3475.87\n",
            "bmi 1021.47\n",
            "region 372.89\n",
            "children -221.3\n",
            "sex -16.03\n",
            "----------------------------------------\n"
          ],
          "name": "stdout"
        }
      ]
    },
    {
      "cell_type": "code",
      "metadata": {
        "id": "aowDn9HBkhch"
      },
      "source": [
        "def explainable_plot(index, contributions, bias):\r\n",
        "  values = np.insert(contributions[index],0,bias[index])\r\n",
        "\r\n",
        "\r\n",
        "  for i in range(1,len(values)):\r\n",
        "    values[i] += values[i-1]\r\n",
        "\r\n",
        "  names = np.append([\"bias\"], df.columns[:-1])\r\n",
        "\r\n",
        "  data_dict = {\"Features\" : names, \"Charge\": values}\r\n",
        "  df_px = pd.DataFrame(data = data_dict)\r\n",
        "  \r\n",
        "  fig = px.line(df_px, y = \"Charge\", x = \"Features\", title= \"Explainable value for {} sample\".format(index))\r\n",
        "\r\n",
        "  fig.show()"
      ],
      "execution_count": null,
      "outputs": []
    },
    {
      "cell_type": "code",
      "metadata": {
        "colab": {
          "base_uri": "https://localhost:8080/",
          "height": 542
        },
        "id": "zRZm58Jsjq5B",
        "outputId": "4fcb0381-e87d-4150-dad2-de64a39afd25"
      },
      "source": [
        "explainable_plot(2,contributions, bias)"
      ],
      "execution_count": null,
      "outputs": [
        {
          "output_type": "display_data",
          "data": {
            "text/html": [
              "<html>\n",
              "<head><meta charset=\"utf-8\" /></head>\n",
              "<body>\n",
              "    <div>\n",
              "            <script src=\"https://cdnjs.cloudflare.com/ajax/libs/mathjax/2.7.5/MathJax.js?config=TeX-AMS-MML_SVG\"></script><script type=\"text/javascript\">if (window.MathJax) {MathJax.Hub.Config({SVG: {font: \"STIX-Web\"}});}</script>\n",
              "                <script type=\"text/javascript\">window.PlotlyConfig = {MathJaxConfig: 'local'};</script>\n",
              "        <script src=\"https://cdn.plot.ly/plotly-latest.min.js\"></script>    \n",
              "            <div id=\"4feec5b9-ad3a-4ba1-a9a3-78f47a8ce8e8\" class=\"plotly-graph-div\" style=\"height:525px; width:100%;\"></div>\n",
              "            <script type=\"text/javascript\">\n",
              "                \n",
              "                    window.PLOTLYENV=window.PLOTLYENV || {};\n",
              "                    \n",
              "                if (document.getElementById(\"4feec5b9-ad3a-4ba1-a9a3-78f47a8ce8e8\")) {\n",
              "                    Plotly.newPlot(\n",
              "                        '4feec5b9-ad3a-4ba1-a9a3-78f47a8ce8e8',\n",
              "                        [{\"hoverlabel\": {\"namelength\": 0}, \"hovertemplate\": \"Features=%{x}<br>Charge=%{y}\", \"legendgroup\": \"\", \"line\": {\"color\": \"#636efa\", \"dash\": \"solid\"}, \"mode\": \"lines\", \"name\": \"\", \"showlegend\": false, \"type\": \"scatter\", \"x\": [\"bias\", \"age\", \"sex\", \"bmi\", \"children\", \"smoker\", \"region\"], \"xaxis\": \"x\", \"y\": [12359.596379103265, 16750.287980613393, 16734.255989805737, 17755.72941077496, 17534.433886292434, 14058.565465246695, 14431.455166551672], \"yaxis\": \"y\"}],\n",
              "                        {\"legend\": {\"tracegroupgap\": 0}, \"template\": {\"data\": {\"bar\": [{\"error_x\": {\"color\": \"#2a3f5f\"}, \"error_y\": {\"color\": \"#2a3f5f\"}, \"marker\": {\"line\": {\"color\": \"#E5ECF6\", \"width\": 0.5}}, \"type\": \"bar\"}], \"barpolar\": [{\"marker\": {\"line\": {\"color\": \"#E5ECF6\", \"width\": 0.5}}, \"type\": \"barpolar\"}], \"carpet\": [{\"aaxis\": {\"endlinecolor\": \"#2a3f5f\", \"gridcolor\": \"white\", \"linecolor\": \"white\", \"minorgridcolor\": \"white\", \"startlinecolor\": \"#2a3f5f\"}, \"baxis\": {\"endlinecolor\": \"#2a3f5f\", \"gridcolor\": \"white\", \"linecolor\": \"white\", \"minorgridcolor\": \"white\", \"startlinecolor\": \"#2a3f5f\"}, \"type\": \"carpet\"}], \"choropleth\": [{\"colorbar\": {\"outlinewidth\": 0, \"ticks\": \"\"}, \"type\": \"choropleth\"}], \"contour\": [{\"colorbar\": {\"outlinewidth\": 0, \"ticks\": \"\"}, \"colorscale\": [[0.0, \"#0d0887\"], [0.1111111111111111, \"#46039f\"], [0.2222222222222222, \"#7201a8\"], [0.3333333333333333, \"#9c179e\"], [0.4444444444444444, \"#bd3786\"], [0.5555555555555556, \"#d8576b\"], [0.6666666666666666, \"#ed7953\"], [0.7777777777777778, \"#fb9f3a\"], [0.8888888888888888, \"#fdca26\"], [1.0, \"#f0f921\"]], \"type\": \"contour\"}], \"contourcarpet\": [{\"colorbar\": {\"outlinewidth\": 0, \"ticks\": \"\"}, \"type\": \"contourcarpet\"}], \"heatmap\": [{\"colorbar\": {\"outlinewidth\": 0, \"ticks\": \"\"}, \"colorscale\": [[0.0, \"#0d0887\"], [0.1111111111111111, \"#46039f\"], [0.2222222222222222, \"#7201a8\"], [0.3333333333333333, \"#9c179e\"], [0.4444444444444444, \"#bd3786\"], [0.5555555555555556, \"#d8576b\"], [0.6666666666666666, \"#ed7953\"], [0.7777777777777778, \"#fb9f3a\"], [0.8888888888888888, \"#fdca26\"], [1.0, \"#f0f921\"]], \"type\": \"heatmap\"}], \"heatmapgl\": [{\"colorbar\": {\"outlinewidth\": 0, \"ticks\": \"\"}, \"colorscale\": [[0.0, \"#0d0887\"], [0.1111111111111111, \"#46039f\"], [0.2222222222222222, \"#7201a8\"], [0.3333333333333333, \"#9c179e\"], [0.4444444444444444, \"#bd3786\"], [0.5555555555555556, \"#d8576b\"], [0.6666666666666666, \"#ed7953\"], [0.7777777777777778, \"#fb9f3a\"], [0.8888888888888888, \"#fdca26\"], [1.0, \"#f0f921\"]], \"type\": \"heatmapgl\"}], \"histogram\": [{\"marker\": {\"colorbar\": {\"outlinewidth\": 0, \"ticks\": \"\"}}, \"type\": \"histogram\"}], \"histogram2d\": [{\"colorbar\": {\"outlinewidth\": 0, \"ticks\": \"\"}, \"colorscale\": [[0.0, \"#0d0887\"], [0.1111111111111111, \"#46039f\"], [0.2222222222222222, \"#7201a8\"], [0.3333333333333333, \"#9c179e\"], [0.4444444444444444, \"#bd3786\"], [0.5555555555555556, \"#d8576b\"], [0.6666666666666666, \"#ed7953\"], [0.7777777777777778, \"#fb9f3a\"], [0.8888888888888888, \"#fdca26\"], [1.0, \"#f0f921\"]], \"type\": \"histogram2d\"}], \"histogram2dcontour\": [{\"colorbar\": {\"outlinewidth\": 0, \"ticks\": \"\"}, \"colorscale\": [[0.0, \"#0d0887\"], [0.1111111111111111, \"#46039f\"], [0.2222222222222222, \"#7201a8\"], [0.3333333333333333, \"#9c179e\"], [0.4444444444444444, \"#bd3786\"], [0.5555555555555556, \"#d8576b\"], [0.6666666666666666, \"#ed7953\"], [0.7777777777777778, \"#fb9f3a\"], [0.8888888888888888, \"#fdca26\"], [1.0, \"#f0f921\"]], \"type\": \"histogram2dcontour\"}], \"mesh3d\": [{\"colorbar\": {\"outlinewidth\": 0, \"ticks\": \"\"}, \"type\": \"mesh3d\"}], \"parcoords\": [{\"line\": {\"colorbar\": {\"outlinewidth\": 0, \"ticks\": \"\"}}, \"type\": \"parcoords\"}], \"pie\": [{\"automargin\": true, \"type\": \"pie\"}], \"scatter\": [{\"marker\": {\"colorbar\": {\"outlinewidth\": 0, \"ticks\": \"\"}}, \"type\": \"scatter\"}], \"scatter3d\": [{\"line\": {\"colorbar\": {\"outlinewidth\": 0, \"ticks\": \"\"}}, \"marker\": {\"colorbar\": {\"outlinewidth\": 0, \"ticks\": \"\"}}, \"type\": \"scatter3d\"}], \"scattercarpet\": [{\"marker\": {\"colorbar\": {\"outlinewidth\": 0, \"ticks\": \"\"}}, \"type\": \"scattercarpet\"}], \"scattergeo\": [{\"marker\": {\"colorbar\": {\"outlinewidth\": 0, \"ticks\": \"\"}}, \"type\": \"scattergeo\"}], \"scattergl\": [{\"marker\": {\"colorbar\": {\"outlinewidth\": 0, \"ticks\": \"\"}}, \"type\": \"scattergl\"}], \"scattermapbox\": [{\"marker\": {\"colorbar\": {\"outlinewidth\": 0, \"ticks\": \"\"}}, \"type\": \"scattermapbox\"}], \"scatterpolar\": [{\"marker\": {\"colorbar\": {\"outlinewidth\": 0, \"ticks\": \"\"}}, \"type\": \"scatterpolar\"}], \"scatterpolargl\": [{\"marker\": {\"colorbar\": {\"outlinewidth\": 0, \"ticks\": \"\"}}, \"type\": \"scatterpolargl\"}], \"scatterternary\": [{\"marker\": {\"colorbar\": {\"outlinewidth\": 0, \"ticks\": \"\"}}, \"type\": \"scatterternary\"}], \"surface\": [{\"colorbar\": {\"outlinewidth\": 0, \"ticks\": \"\"}, \"colorscale\": [[0.0, \"#0d0887\"], [0.1111111111111111, \"#46039f\"], [0.2222222222222222, \"#7201a8\"], [0.3333333333333333, \"#9c179e\"], [0.4444444444444444, \"#bd3786\"], [0.5555555555555556, \"#d8576b\"], [0.6666666666666666, \"#ed7953\"], [0.7777777777777778, \"#fb9f3a\"], [0.8888888888888888, \"#fdca26\"], [1.0, \"#f0f921\"]], \"type\": \"surface\"}], \"table\": [{\"cells\": {\"fill\": {\"color\": \"#EBF0F8\"}, \"line\": {\"color\": \"white\"}}, \"header\": {\"fill\": {\"color\": \"#C8D4E3\"}, \"line\": {\"color\": \"white\"}}, \"type\": \"table\"}]}, \"layout\": {\"annotationdefaults\": {\"arrowcolor\": \"#2a3f5f\", \"arrowhead\": 0, \"arrowwidth\": 1}, \"coloraxis\": {\"colorbar\": {\"outlinewidth\": 0, \"ticks\": \"\"}}, \"colorscale\": {\"diverging\": [[0, \"#8e0152\"], [0.1, \"#c51b7d\"], [0.2, \"#de77ae\"], [0.3, \"#f1b6da\"], [0.4, \"#fde0ef\"], [0.5, \"#f7f7f7\"], [0.6, \"#e6f5d0\"], [0.7, \"#b8e186\"], [0.8, \"#7fbc41\"], [0.9, \"#4d9221\"], [1, \"#276419\"]], \"sequential\": [[0.0, \"#0d0887\"], [0.1111111111111111, \"#46039f\"], [0.2222222222222222, \"#7201a8\"], [0.3333333333333333, \"#9c179e\"], [0.4444444444444444, \"#bd3786\"], [0.5555555555555556, \"#d8576b\"], [0.6666666666666666, \"#ed7953\"], [0.7777777777777778, \"#fb9f3a\"], [0.8888888888888888, \"#fdca26\"], [1.0, \"#f0f921\"]], \"sequentialminus\": [[0.0, \"#0d0887\"], [0.1111111111111111, \"#46039f\"], [0.2222222222222222, \"#7201a8\"], [0.3333333333333333, \"#9c179e\"], [0.4444444444444444, \"#bd3786\"], [0.5555555555555556, \"#d8576b\"], [0.6666666666666666, \"#ed7953\"], [0.7777777777777778, \"#fb9f3a\"], [0.8888888888888888, \"#fdca26\"], [1.0, \"#f0f921\"]]}, \"colorway\": [\"#636efa\", \"#EF553B\", \"#00cc96\", \"#ab63fa\", \"#FFA15A\", \"#19d3f3\", \"#FF6692\", \"#B6E880\", \"#FF97FF\", \"#FECB52\"], \"font\": {\"color\": \"#2a3f5f\"}, \"geo\": {\"bgcolor\": \"white\", \"lakecolor\": \"white\", \"landcolor\": \"#E5ECF6\", \"showlakes\": true, \"showland\": true, \"subunitcolor\": \"white\"}, \"hoverlabel\": {\"align\": \"left\"}, \"hovermode\": \"closest\", \"mapbox\": {\"style\": \"light\"}, \"paper_bgcolor\": \"white\", \"plot_bgcolor\": \"#E5ECF6\", \"polar\": {\"angularaxis\": {\"gridcolor\": \"white\", \"linecolor\": \"white\", \"ticks\": \"\"}, \"bgcolor\": \"#E5ECF6\", \"radialaxis\": {\"gridcolor\": \"white\", \"linecolor\": \"white\", \"ticks\": \"\"}}, \"scene\": {\"xaxis\": {\"backgroundcolor\": \"#E5ECF6\", \"gridcolor\": \"white\", \"gridwidth\": 2, \"linecolor\": \"white\", \"showbackground\": true, \"ticks\": \"\", \"zerolinecolor\": \"white\"}, \"yaxis\": {\"backgroundcolor\": \"#E5ECF6\", \"gridcolor\": \"white\", \"gridwidth\": 2, \"linecolor\": \"white\", \"showbackground\": true, \"ticks\": \"\", \"zerolinecolor\": \"white\"}, \"zaxis\": {\"backgroundcolor\": \"#E5ECF6\", \"gridcolor\": \"white\", \"gridwidth\": 2, \"linecolor\": \"white\", \"showbackground\": true, \"ticks\": \"\", \"zerolinecolor\": \"white\"}}, \"shapedefaults\": {\"line\": {\"color\": \"#2a3f5f\"}}, \"ternary\": {\"aaxis\": {\"gridcolor\": \"white\", \"linecolor\": \"white\", \"ticks\": \"\"}, \"baxis\": {\"gridcolor\": \"white\", \"linecolor\": \"white\", \"ticks\": \"\"}, \"bgcolor\": \"#E5ECF6\", \"caxis\": {\"gridcolor\": \"white\", \"linecolor\": \"white\", \"ticks\": \"\"}}, \"title\": {\"x\": 0.05}, \"xaxis\": {\"automargin\": true, \"gridcolor\": \"white\", \"linecolor\": \"white\", \"ticks\": \"\", \"title\": {\"standoff\": 15}, \"zerolinecolor\": \"white\", \"zerolinewidth\": 2}, \"yaxis\": {\"automargin\": true, \"gridcolor\": \"white\", \"linecolor\": \"white\", \"ticks\": \"\", \"title\": {\"standoff\": 15}, \"zerolinecolor\": \"white\", \"zerolinewidth\": 2}}}, \"title\": {\"text\": \"Explainable value for 2 sample\"}, \"xaxis\": {\"anchor\": \"y\", \"domain\": [0.0, 1.0], \"title\": {\"text\": \"Features\"}}, \"yaxis\": {\"anchor\": \"x\", \"domain\": [0.0, 1.0], \"title\": {\"text\": \"Charge\"}}},\n",
              "                        {\"responsive\": true}\n",
              "                    ).then(function(){\n",
              "                            \n",
              "var gd = document.getElementById('4feec5b9-ad3a-4ba1-a9a3-78f47a8ce8e8');\n",
              "var x = new MutationObserver(function (mutations, observer) {{\n",
              "        var display = window.getComputedStyle(gd).display;\n",
              "        if (!display || display === 'none') {{\n",
              "            console.log([gd, 'removed!']);\n",
              "            Plotly.purge(gd);\n",
              "            observer.disconnect();\n",
              "        }}\n",
              "}});\n",
              "\n",
              "// Listen for the removal of the full notebook cells\n",
              "var notebookContainer = gd.closest('#notebook-container');\n",
              "if (notebookContainer) {{\n",
              "    x.observe(notebookContainer, {childList: true});\n",
              "}}\n",
              "\n",
              "// Listen for the clearing of the current output cell\n",
              "var outputEl = gd.closest('.output');\n",
              "if (outputEl) {{\n",
              "    x.observe(outputEl, {childList: true});\n",
              "}}\n",
              "\n",
              "                        })\n",
              "                };\n",
              "                \n",
              "            </script>\n",
              "        </div>\n",
              "</body>\n",
              "</html>"
            ]
          },
          "metadata": {
            "tags": []
          }
        }
      ]
    },
    {
      "cell_type": "code",
      "metadata": {
        "id": "uWwrZmQhrp35"
      },
      "source": [
        ""
      ],
      "execution_count": null,
      "outputs": []
    }
  ]
}
